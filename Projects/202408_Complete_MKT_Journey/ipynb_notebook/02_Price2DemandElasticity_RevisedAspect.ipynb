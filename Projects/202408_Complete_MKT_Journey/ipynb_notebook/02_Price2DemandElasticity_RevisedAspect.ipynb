{
  "nbformat": 4,
  "nbformat_minor": 0,
  "metadata": {
    "colab": {
      "provenance": [],
      "toc_visible": true,
      "mount_file_id": "1lzrD8dqGP6ttwRRcS3IhZVDL7z0SJfj8",
      "authorship_tag": "ABX9TyOAzmhaRwgr8UE29gbf7+M8",
      "include_colab_link": true
    },
    "kernelspec": {
      "name": "python3",
      "display_name": "Python 3"
    },
    "language_info": {
      "name": "python"
    }
  },
  "cells": [
    {
      "cell_type": "markdown",
      "metadata": {
        "id": "view-in-github",
        "colab_type": "text"
      },
      "source": [
        "<a href=\"https://colab.research.google.com/github/teethavattcp/teethavat_port_data/blob/main/02_Price2DemandElasticity_RevisedAspect.ipynb\" target=\"_parent\"><img src=\"https://colab.research.google.com/assets/colab-badge.svg\" alt=\"Open In Colab\"/></a>"
      ]
    },
    {
      "cell_type": "markdown",
      "metadata": {
        "id": "LXMKAdznjTQ4"
      },
      "source": [
        "# Price Elasticity on Demand"
      ]
    },
    {
      "cell_type": "markdown",
      "metadata": {
        "id": "WXho2_nbjcFG"
      },
      "source": [
        "# Import dataset"
      ]
    },
    {
      "cell_type": "markdown",
      "metadata": {
        "id": "w-biiPVRJDz9"
      },
      "source": [
        "https://drive.google.com/file/d/1YdnAe0EJsSHOi6rSIJ5p0ef_sySo0MKb/view?usp=drive_link"
      ]
    },
    {
      "cell_type": "code",
      "execution_count": null,
      "metadata": {
        "id": "1Vqer09HJXLm"
      },
      "outputs": [],
      "source": [
        "import os"
      ]
    },
    {
      "cell_type": "code",
      "execution_count": null,
      "metadata": {
        "id": "4gCYGAl4-RLx"
      },
      "outputs": [],
      "source": [
        "import time"
      ]
    },
    {
      "cell_type": "code",
      "execution_count": null,
      "metadata": {
        "colab": {
          "base_uri": "https://localhost:8080/"
        },
        "id": "Rv7KrQmejRlf",
        "outputId": "fb3c7063-757b-41f6-8f3e-4f8859ea5eb1"
      },
      "outputs": [
        {
          "output_type": "stream",
          "name": "stdout",
          "text": [
            "Downloading...\n",
            "From (original): https://drive.google.com/uc?id=1YdnAe0EJsSHOi6rSIJ5p0ef_sySo0MKb\n",
            "From (redirected): https://drive.google.com/uc?id=1YdnAe0EJsSHOi6rSIJ5p0ef_sySo0MKb&confirm=t&uuid=2636673a-96ec-4170-8842-7fd419f38f81\n",
            "To: /content/dunnhumby_The-Complete-Journey CSV.zip\n",
            "100% 134M/134M [00:01<00:00, 82.9MB/s]\n"
          ]
        }
      ],
      "source": [
        "!gdown https://drive.google.com/uc?id=1YdnAe0EJsSHOi6rSIJ5p0ef_sySo0MKb"
      ]
    },
    {
      "cell_type": "code",
      "execution_count": null,
      "metadata": {
        "colab": {
          "base_uri": "https://localhost:8080/"
        },
        "id": "l_a5vt9DC-oY",
        "outputId": "98cdcf5e-6c6b-45f6-fc35-3c082bdecbdb"
      },
      "outputs": [
        {
          "output_type": "stream",
          "name": "stdout",
          "text": [
            "Archive:  /content/dunnhumby_The-Complete-Journey CSV.zip\n",
            "  inflating: Dataset/dunnhumby_The-Complete-Journey CSV/campaign_desc.csv  \n",
            "  inflating: Dataset/dunnhumby_The-Complete-Journey CSV/campaign_table.csv  \n",
            "  inflating: Dataset/dunnhumby_The-Complete-Journey CSV/causal_data.csv  \n",
            "  inflating: Dataset/dunnhumby_The-Complete-Journey CSV/coupon.csv  \n",
            "  inflating: Dataset/dunnhumby_The-Complete-Journey CSV/coupon_redempt.csv  \n",
            "  inflating: Dataset/dunnhumby_The-Complete-Journey CSV/hh_demographic.csv  \n",
            "  inflating: Dataset/dunnhumby_The-Complete-Journey CSV/product.csv  \n",
            "  inflating: Dataset/dunnhumby_The-Complete-Journey CSV/transaction_data.csv  \n"
          ]
        }
      ],
      "source": [
        "if os.path.exists(\"/content/Dataset/dunnhumby_The-Complete-Journey CSV\"):\n",
        "  print('The files are already existed.')\n",
        "else:\n",
        "  !unzip \"/content/dunnhumby_The-Complete-Journey CSV.zip\" -d \"Dataset\""
      ]
    },
    {
      "cell_type": "markdown",
      "metadata": {
        "id": "mVwgJQCsI07J"
      },
      "source": [
        "# Import libraries"
      ]
    },
    {
      "cell_type": "code",
      "execution_count": null,
      "metadata": {
        "id": "pBuCpLkJI4Pf"
      },
      "outputs": [],
      "source": [
        "import pandas as pd\n",
        "import matplotlib.pyplot as plt\n",
        "import seaborn as sns\n",
        "import numpy as np\n",
        "%matplotlib inline"
      ]
    },
    {
      "cell_type": "code",
      "execution_count": null,
      "metadata": {
        "colab": {
          "base_uri": "https://localhost:8080/"
        },
        "id": "h7EVASZwI58k",
        "outputId": "1c5fd6ae-e0e5-4fab-cc93-b196f7522889"
      },
      "outputs": [
        {
          "output_type": "stream",
          "name": "stdout",
          "text": [
            "Collecting pandasql\n",
            "  Downloading pandasql-0.7.3.tar.gz (26 kB)\n",
            "  Preparing metadata (setup.py) ... \u001b[?25l\u001b[?25hdone\n",
            "Requirement already satisfied: numpy in /usr/local/lib/python3.10/dist-packages (from pandasql) (1.26.4)\n",
            "Requirement already satisfied: pandas in /usr/local/lib/python3.10/dist-packages (from pandasql) (2.1.4)\n",
            "Requirement already satisfied: sqlalchemy in /usr/local/lib/python3.10/dist-packages (from pandasql) (2.0.31)\n",
            "Requirement already satisfied: python-dateutil>=2.8.2 in /usr/local/lib/python3.10/dist-packages (from pandas->pandasql) (2.8.2)\n",
            "Requirement already satisfied: pytz>=2020.1 in /usr/local/lib/python3.10/dist-packages (from pandas->pandasql) (2024.1)\n",
            "Requirement already satisfied: tzdata>=2022.1 in /usr/local/lib/python3.10/dist-packages (from pandas->pandasql) (2024.1)\n",
            "Requirement already satisfied: typing-extensions>=4.6.0 in /usr/local/lib/python3.10/dist-packages (from sqlalchemy->pandasql) (4.12.2)\n",
            "Requirement already satisfied: greenlet!=0.4.17 in /usr/local/lib/python3.10/dist-packages (from sqlalchemy->pandasql) (3.0.3)\n",
            "Requirement already satisfied: six>=1.5 in /usr/local/lib/python3.10/dist-packages (from python-dateutil>=2.8.2->pandas->pandasql) (1.16.0)\n",
            "Building wheels for collected packages: pandasql\n",
            "  Building wheel for pandasql (setup.py) ... \u001b[?25l\u001b[?25hdone\n",
            "  Created wheel for pandasql: filename=pandasql-0.7.3-py3-none-any.whl size=26772 sha256=69d06768a91702fe904a537a29cef036288fc571855d5a88c2d3ac2bc9e35018\n",
            "  Stored in directory: /root/.cache/pip/wheels/e9/bc/3a/8434bdcccf5779e72894a9b24fecbdcaf97940607eaf4bcdf9\n",
            "Successfully built pandasql\n",
            "Installing collected packages: pandasql\n",
            "Successfully installed pandasql-0.7.3\n"
          ]
        }
      ],
      "source": [
        "!pip install pandasql"
      ]
    },
    {
      "cell_type": "code",
      "execution_count": null,
      "metadata": {
        "id": "6oo_pNQgI7TV"
      },
      "outputs": [],
      "source": [
        "import pandasql"
      ]
    },
    {
      "cell_type": "code",
      "execution_count": null,
      "metadata": {
        "id": "LdCjC0RdIDgD"
      },
      "outputs": [],
      "source": [
        "import plotly.express as px"
      ]
    },
    {
      "cell_type": "code",
      "execution_count": null,
      "metadata": {
        "id": "AGLJ_TPOjgv1"
      },
      "outputs": [],
      "source": [
        "import plotly.graph_objs as go\n",
        "import plotly.io as pio"
      ]
    },
    {
      "cell_type": "code",
      "execution_count": null,
      "metadata": {
        "id": "xJgbK6icIIts"
      },
      "outputs": [],
      "source": [
        "import datetime as dt\n",
        "from datetime import datetime"
      ]
    },
    {
      "cell_type": "code",
      "execution_count": null,
      "metadata": {
        "id": "5vHgAU0iHqzP"
      },
      "outputs": [],
      "source": [
        "from pathlib import Path"
      ]
    },
    {
      "cell_type": "markdown",
      "source": [
        "## Spark Preparation"
      ],
      "metadata": {
        "id": "0T76lgLwAhEW"
      }
    },
    {
      "cell_type": "code",
      "source": [
        "# Install pyspark\n",
        "!pip install pyspark"
      ],
      "metadata": {
        "colab": {
          "base_uri": "https://localhost:8080/"
        },
        "id": "XOn0XdzVAo--",
        "outputId": "93005984-fbb7-4c17-caf6-763866161d39"
      },
      "execution_count": null,
      "outputs": [
        {
          "output_type": "stream",
          "name": "stdout",
          "text": [
            "Collecting pyspark\n",
            "  Downloading pyspark-3.5.1.tar.gz (317.0 MB)\n",
            "\u001b[2K     \u001b[90m━━━━━━━━━━━━━━━━━━━━━━━━━━━━━━━━━━━━━━━━\u001b[0m \u001b[32m317.0/317.0 MB\u001b[0m \u001b[31m2.6 MB/s\u001b[0m eta \u001b[36m0:00:00\u001b[0m\n",
            "\u001b[?25h  Preparing metadata (setup.py) ... \u001b[?25l\u001b[?25hdone\n",
            "Requirement already satisfied: py4j==0.10.9.7 in /usr/local/lib/python3.10/dist-packages (from pyspark) (0.10.9.7)\n",
            "Building wheels for collected packages: pyspark\n",
            "  Building wheel for pyspark (setup.py) ... \u001b[?25l\u001b[?25hdone\n",
            "  Created wheel for pyspark: filename=pyspark-3.5.1-py2.py3-none-any.whl size=317488490 sha256=bb470579884bb1c394b263bf9d344f29ebb69f5a685c9952f2b3c3e64a0d8949\n",
            "  Stored in directory: /root/.cache/pip/wheels/80/1d/60/2c256ed38dddce2fdd93be545214a63e02fbd8d74fb0b7f3a6\n",
            "Successfully built pyspark\n",
            "Installing collected packages: pyspark\n",
            "Successfully installed pyspark-3.5.1\n"
          ]
        }
      ]
    },
    {
      "cell_type": "code",
      "source": [
        "# Import SparkSession\n",
        "from pyspark.sql import SparkSession\n",
        "# Create a Spark Session\n",
        "spark = SparkSession.builder.master(\"local[*]\").getOrCreate()\n",
        "# Check Spark Session Information\n",
        "spark"
      ],
      "metadata": {
        "colab": {
          "base_uri": "https://localhost:8080/",
          "height": 219
        },
        "id": "-x4DoLkWAsci",
        "outputId": "583a94f6-b527-48e6-fa55-2797b0dee658"
      },
      "execution_count": null,
      "outputs": [
        {
          "output_type": "execute_result",
          "data": {
            "text/plain": [
              "<pyspark.sql.session.SparkSession at 0x7c023bd89840>"
            ],
            "text/html": [
              "\n",
              "            <div>\n",
              "                <p><b>SparkSession - in-memory</b></p>\n",
              "                \n",
              "        <div>\n",
              "            <p><b>SparkContext</b></p>\n",
              "\n",
              "            <p><a href=\"http://752f64479dbe:4040\">Spark UI</a></p>\n",
              "\n",
              "            <dl>\n",
              "              <dt>Version</dt>\n",
              "                <dd><code>v3.5.1</code></dd>\n",
              "              <dt>Master</dt>\n",
              "                <dd><code>local[*]</code></dd>\n",
              "              <dt>AppName</dt>\n",
              "                <dd><code>pyspark-shell</code></dd>\n",
              "            </dl>\n",
              "        </div>\n",
              "        \n",
              "            </div>\n",
              "        "
            ]
          },
          "metadata": {},
          "execution_count": 13
        }
      ]
    },
    {
      "cell_type": "code",
      "source": [
        "# Import a Spark function from library\n",
        "from pyspark.sql.functions import col"
      ],
      "metadata": {
        "id": "uTzUtbhvAwGO"
      },
      "execution_count": null,
      "outputs": []
    },
    {
      "cell_type": "markdown",
      "source": [
        "### Start a Local Cluster\n",
        "Use findspark.init() to start a local cluster. If you plan to use remote cluster, skip the findspark.init() and change the cluster_url according."
      ],
      "metadata": {
        "id": "Ik_i4HQEA032"
      }
    },
    {
      "cell_type": "code",
      "source": [
        "!pip install findspark"
      ],
      "metadata": {
        "colab": {
          "base_uri": "https://localhost:8080/"
        },
        "id": "44eIxxH3A1_u",
        "outputId": "1e764e3d-7afd-4c6e-ed37-7a55a96ed335"
      },
      "execution_count": null,
      "outputs": [
        {
          "output_type": "stream",
          "name": "stdout",
          "text": [
            "Collecting findspark\n",
            "  Downloading findspark-2.0.1-py2.py3-none-any.whl.metadata (352 bytes)\n",
            "Downloading findspark-2.0.1-py2.py3-none-any.whl (4.4 kB)\n",
            "Installing collected packages: findspark\n",
            "Successfully installed findspark-2.0.1\n"
          ]
        }
      ]
    },
    {
      "cell_type": "code",
      "source": [
        "import findspark\n",
        "findspark.init()"
      ],
      "metadata": {
        "id": "Z6nMs1g_A7gp"
      },
      "execution_count": null,
      "outputs": []
    },
    {
      "cell_type": "code",
      "source": [
        "cluster_url = 'local'"
      ],
      "metadata": {
        "id": "CkKrhz4wA_VL"
      },
      "execution_count": null,
      "outputs": []
    },
    {
      "cell_type": "code",
      "source": [
        "from pyspark.sql import SparkSession"
      ],
      "metadata": {
        "id": "jst5_QwuBDr-"
      },
      "execution_count": null,
      "outputs": []
    },
    {
      "cell_type": "code",
      "source": [
        "spark = SparkSession.builder\\\n",
        "        .master(cluster_url)\\\n",
        "        .appName('SparkSQL')\\\n",
        "        .getOrCreate()"
      ],
      "metadata": {
        "id": "jaseQSE7BGSd"
      },
      "execution_count": null,
      "outputs": []
    },
    {
      "cell_type": "code",
      "source": [
        "from pyspark.sql.functions import avg, min, max, countDistinct"
      ],
      "metadata": {
        "id": "3Zd8RM_RXQwx"
      },
      "execution_count": null,
      "outputs": []
    },
    {
      "cell_type": "markdown",
      "metadata": {
        "id": "Kd17OOUqZPqc"
      },
      "source": [
        "#Define functions"
      ]
    },
    {
      "cell_type": "markdown",
      "source": [
        "## dict_k2v_v2k(input_dict):"
      ],
      "metadata": {
        "id": "dQIacDUgjfVi"
      }
    },
    {
      "cell_type": "code",
      "source": [
        "def dict_k2v_v2k(input_dict):\n",
        "  output_dict = {}\n",
        "\n",
        "  for data_type, columns in input_dict.items():\n",
        "    for column in columns:\n",
        "        output_dict[column] = data_type\n",
        "\n",
        "  return output_dict"
      ],
      "metadata": {
        "id": "cFVew3YpjeYH"
      },
      "execution_count": null,
      "outputs": []
    },
    {
      "cell_type": "markdown",
      "source": [
        "## check_shape_in_df_spark(df)"
      ],
      "metadata": {
        "id": "_BL_A67J6EZq"
      }
    },
    {
      "cell_type": "code",
      "source": [
        "def check_shape_in_df_spark(df):\n",
        "  print('Shape of dataframe:')\n",
        "  print(f'#rows: {df.count()}')\n",
        "  print(f'#columns: {len(df.columns)}')"
      ],
      "metadata": {
        "id": "roAY1aZo6D3L"
      },
      "execution_count": null,
      "outputs": []
    },
    {
      "cell_type": "markdown",
      "source": [
        "## explore_classes_in_df(df, list_of_attributes)"
      ],
      "metadata": {
        "id": "ADJDM8xL7vWH"
      }
    },
    {
      "cell_type": "markdown",
      "source": [
        "This function will print the unique values and their counts for each categorical column in the list df_col_cat."
      ],
      "metadata": {
        "id": "dYwSVUZX7_rc"
      }
    },
    {
      "cell_type": "code",
      "source": [
        "def explore_classes_in_df(df, list_of_attributes):\n",
        "    for col in list_of_attributes:\n",
        "        print(f\"\\n-------- {col} --------\")\n",
        "\n",
        "        # Perform groupBy and count operations\n",
        "        result = df.groupBy(col).count().orderBy(\"count\", ascending=False)\n",
        "\n",
        "        # Show results\n",
        "        result.show(truncate=False)"
      ],
      "metadata": {
        "id": "Wg9FlROG7voM"
      },
      "execution_count": null,
      "outputs": []
    },
    {
      "cell_type": "code",
      "source": [
        "# Sample DataFrame\n",
        "data_sample = [(\"Alice\", \"A\"), (\"Bob\", \"B\"), (\"Alice\", \"A\"), (\"Charlie\", \"B\"), (\"Bob\", \"A\")]\n",
        "columns_sample = [\"name\", \"category\"]\n",
        "\n",
        "df_sample = spark.createDataFrame(data_sample, columns_sample)\n",
        "\n",
        "# List of categorical columns\n",
        "df_col_cat_sample = [\"category\"]\n",
        "\n",
        "# Call the function\n",
        "explore_classes_in_df(df_sample, df_col_cat_sample)"
      ],
      "metadata": {
        "colab": {
          "base_uri": "https://localhost:8080/"
        },
        "id": "qQ7DOv8K8Ewc",
        "outputId": "c4ac9eb7-4594-4598-8f64-de04654fc736"
      },
      "execution_count": null,
      "outputs": [
        {
          "output_type": "stream",
          "name": "stdout",
          "text": [
            "\n",
            "-------- category --------\n",
            "+--------+-----+\n",
            "|category|count|\n",
            "+--------+-----+\n",
            "|A       |3    |\n",
            "|B       |2    |\n",
            "+--------+-----+\n",
            "\n"
          ]
        }
      ]
    },
    {
      "cell_type": "markdown",
      "source": [
        "## get_columnvalues_as_list(df, column_name,is_distinct={1,0})"
      ],
      "metadata": {
        "id": "_LXgp26kL_Q-"
      }
    },
    {
      "cell_type": "markdown",
      "source": [
        "To retrieve values from a column of a PySpark DataFrame and return them as a list"
      ],
      "metadata": {
        "id": "kMvfcCFHMXWA"
      }
    },
    {
      "cell_type": "code",
      "source": [
        "def get_columnvalues_as_list(df, column_name, is_distinct):\n",
        "    # Collect the column values into a list of Row objects\n",
        "    rows = df.select(column_name).collect()\n",
        "\n",
        "    # Extract the column values from the Row objects\n",
        "    column_values = [row[column_name] for row in rows]\n",
        "\n",
        "    # Get distinct values by converting the list to a set\n",
        "    if is_distinct == 1:\n",
        "        column_values = list(set(column_values))\n",
        "\n",
        "    # Sort alphabetically\n",
        "    column_values.sort()\n",
        "    return column_values"
      ],
      "metadata": {
        "id": "ZpQ46Az7L_mN"
      },
      "execution_count": null,
      "outputs": []
    },
    {
      "cell_type": "code",
      "source": [
        "get_columnvalues_as_list(df_sample, \"name\",is_distinct=1)"
      ],
      "metadata": {
        "colab": {
          "base_uri": "https://localhost:8080/"
        },
        "id": "w3zMG9jfMSCb",
        "outputId": "8dc588d2-3f32-47dd-93fa-4a30b753a265"
      },
      "execution_count": null,
      "outputs": [
        {
          "output_type": "execute_result",
          "data": {
            "text/plain": [
              "['Alice', 'Bob', 'Charlie']"
            ]
          },
          "metadata": {},
          "execution_count": 26
        }
      ]
    },
    {
      "cell_type": "markdown",
      "source": [
        "## export_sparkdf_to_csv(spark_df, path_of_folder, file_name)"
      ],
      "metadata": {
        "id": "calcXCf8O3Yg"
      }
    },
    {
      "cell_type": "code",
      "source": [
        "def export_sparkdf_to_csv(spark_df, path_of_folder, file_name):\n",
        "    # Create a Spark session if it doesn't exist\n",
        "    spark = SparkSession.builder.getOrCreate()\n",
        "\n",
        "    # Define the full path for the output CSV file\n",
        "    filepath = Path(path_of_folder) / (file_name + '.csv')\n",
        "\n",
        "    # Ensure the directory exists\n",
        "    filepath.parent.mkdir(parents=True, exist_ok=True)\n",
        "\n",
        "    # Write the Spark DataFrame to CSV\n",
        "    spark_df.write.mode('overwrite').csv(str(filepath), header=True)\n",
        "\n",
        "    print(f'{file_name}.csv has been exported successfully.')"
      ],
      "metadata": {
        "id": "425vKtm1O7iR"
      },
      "execution_count": null,
      "outputs": []
    },
    {
      "cell_type": "markdown",
      "source": [
        "## export_pandasdf_to_csv(df,path_of_folder,file_name)"
      ],
      "metadata": {
        "id": "UbEKTiYqMrdo"
      }
    },
    {
      "cell_type": "code",
      "source": [
        "def export_pandasdf_to_csv(df,path_of_folder,file_name):\n",
        "  filepath = Path(str(path_of_folder)+str(file_name)+'.csv')\n",
        "  filepath.parent.mkdir(parents=True, exist_ok=True)\n",
        "  df.to_csv(filepath,mode = 'w', index=False)\n",
        "  print(str(file_name)+'.csv has been exported successfully.')"
      ],
      "metadata": {
        "id": "8S3hCbX7Mrsw"
      },
      "execution_count": null,
      "outputs": []
    },
    {
      "cell_type": "markdown",
      "source": [
        "## find_common_elements_in_list(list1, list2)"
      ],
      "metadata": {
        "id": "k6p4nvPLd57-"
      }
    },
    {
      "cell_type": "code",
      "source": [
        "def find_common_elements_in_list(list1, list2):\n",
        "    # Convert lists to sets\n",
        "    set1 = set(list1)\n",
        "    set2 = set(list2)\n",
        "\n",
        "    # Find intersection of sets\n",
        "    common_elements = set1.intersection(set2)\n",
        "\n",
        "    # Convert the result back to a list\n",
        "    return list(common_elements)"
      ],
      "metadata": {
        "id": "EhPzH5QCd39s"
      },
      "execution_count": null,
      "outputs": []
    },
    {
      "cell_type": "markdown",
      "source": [
        "# Prepare data for being processed by Spark"
      ],
      "metadata": {
        "id": "bk89ey5Asyd4"
      }
    },
    {
      "cell_type": "markdown",
      "source": [
        "Given dataset as aggregation of Produdct_ID and Cust_paid_priuce"
      ],
      "metadata": {
        "id": "v7OgTHvpECeR"
      }
    },
    {
      "cell_type": "code",
      "source": [
        "df_fact_trans = spark.read.option(\"delimiter\", \",\").option(\"header\", True).csv('/content/drive/MyDrive/DATA_SCI_SKILL/202406_CompleteJourneyProj/data set/fact_trans_x_couponredempt.csv')\n",
        "cols = [c.replace('.', '_') for c in df_fact_trans.columns]\n",
        "df_fact_trans = df_fact_trans.toDF(*cols)\n",
        "df_fact_trans.show(5)"
      ],
      "metadata": {
        "colab": {
          "base_uri": "https://localhost:8080/"
        },
        "id": "fUFMeKQqBZEn",
        "outputId": "bd39cc11-abf4-44db-8f7f-34a9b2fcf953"
      },
      "execution_count": null,
      "outputs": [
        {
          "output_type": "stream",
          "name": "stdout",
          "text": [
            "+-------------+-----------+---+------------+--------+-----------+--------+-----------+----------+-------+-----------+-----------------+----------+------------------------+-------------------+----------------------+-----------------+---------------+----------+\n",
            "|household_key|  BASKET_ID|DAY|PRODUCT_ID_x|QUANTITY|SALES_VALUE|STORE_ID|RETAIL_DISC|TRANS_TIME|WEEK_NO|COUPON_DISC|COUPON_MATCH_DISC|TOTAL_DISC|If_used_retail_loyalprog|If_used_manu_coupon|If_used_giveaway_promo|Actual_card_price|Cust_paid_price|COUPON_UPC|\n",
            "+-------------+-----------+---+------------+--------+-----------+--------+-----------+----------+-------+-----------+-----------------+----------+------------------------+-------------------+----------------------+-----------------+---------------+----------+\n",
            "|            1|27601281299| 51|      825123|       1|       3.99|     436|        0.0|      1456|      8|        0.0|              0.0|       0.0|                       0|                  0|                     0|             3.99|           3.99|      NULL|\n",
            "|            1|27601281299| 51|      831447|       1|       2.99|     436|        0.0|      1456|      8|        0.0|              0.0|       0.0|                       0|                  0|                     0|             2.99|           2.99|      NULL|\n",
            "|            1|27601281299| 51|      840361|       1|       1.09|     436|       -0.3|      1456|      8|        0.0|              0.0|      -0.3|                       1|                  0|                     0|             1.39|           1.09|      NULL|\n",
            "|            1|27601281299| 51|      845307|       1|       3.71|     436|      -0.62|      1456|      8|        0.0|              0.0|     -0.62|                       1|                  0|                     0|             4.33|           3.71|      NULL|\n",
            "|            1|27601281299| 51|      852014|       1|       2.79|     436|       -1.2|      1456|      8|        0.0|              0.0|      -1.2|                       1|                  0|                     0|             3.99|           2.79|      NULL|\n",
            "+-------------+-----------+---+------------+--------+-----------+--------+-----------+----------+-------+-----------+-----------------+----------+------------------------+-------------------+----------------------+-----------------+---------------+----------+\n",
            "only showing top 5 rows\n",
            "\n"
          ]
        }
      ]
    },
    {
      "cell_type": "code",
      "source": [
        "df_fact_trans_data = df_fact_trans.select(df_fact_trans['PRODUCT_ID_x'],df_fact_trans['Cust_paid_price'],df_fact_trans['QUANTITY'])\n",
        "df_fact_trans_data = df_fact_trans_data.withColumnRenamed('PRODUCT_ID_x','PRODUCT_ID')\n",
        "df_fact_trans_data.show(5)"
      ],
      "metadata": {
        "colab": {
          "base_uri": "https://localhost:8080/"
        },
        "id": "HFl1_GGxWJpC",
        "outputId": "09d8e881-512f-4f98-f895-990fe493e738"
      },
      "execution_count": null,
      "outputs": [
        {
          "output_type": "stream",
          "name": "stdout",
          "text": [
            "+----------+---------------+--------+\n",
            "|PRODUCT_ID|Cust_paid_price|QUANTITY|\n",
            "+----------+---------------+--------+\n",
            "|    825123|           3.99|       1|\n",
            "|    831447|           2.99|       1|\n",
            "|    840361|           1.09|       1|\n",
            "|    845307|           3.71|       1|\n",
            "|    852014|           2.79|       1|\n",
            "+----------+---------------+--------+\n",
            "only showing top 5 rows\n",
            "\n"
          ]
        }
      ]
    },
    {
      "cell_type": "code",
      "source": [
        "df_fact_trans_data.describe().show()"
      ],
      "metadata": {
        "colab": {
          "base_uri": "https://localhost:8080/"
        },
        "id": "B_TWW0sRgwau",
        "outputId": "b8de588e-ee38-48bf-b979-86c449229c97"
      },
      "execution_count": null,
      "outputs": [
        {
          "output_type": "stream",
          "name": "stdout",
          "text": [
            "+-------+------------------+------------------+------------------+\n",
            "|summary|        PRODUCT_ID|   Cust_paid_price|          QUANTITY|\n",
            "+-------+------------------+------------------+------------------+\n",
            "|  count|           2581266|           2581266|           2581266|\n",
            "|   mean| 2880987.442369752|2.4470828428970224| 100.9913825231495|\n",
            "| stddev|3837941.2236042344|2.7335314987769697|1156.6391844912364|\n",
            "|    min|           1000002|               0.0|                 1|\n",
            "|    max|            999992|             99.99|              9997|\n",
            "+-------+------------------+------------------+------------------+\n",
            "\n"
          ]
        }
      ]
    },
    {
      "cell_type": "markdown",
      "source": [
        "To perform elasticity analysis which is analyzing how quantity responds to price changes (understand the typical quantity sold at each price point), aggregating by **average** quantity per price point is generally more appropriate.\n",
        "- The average gives a representative measure of the quantity sold (demand) when the price is fixed, smoothing out variations due to different purchase occasions or transactions.\n",
        "- **The standard deviation of quantity is very high compared to the mean**, indicating substantial **variability in quantity**. This suggests that there are some very large quantities relative to the average, which might skew certain analyses."
      ],
      "metadata": {
        "id": "vMVgLJb_hxDb"
      }
    },
    {
      "cell_type": "markdown",
      "source": [
        "## Assign data type to each column"
      ],
      "metadata": {
        "id": "c1GWCIrKT-mk"
      }
    },
    {
      "cell_type": "code",
      "source": [
        "cols_num = ['Cust_paid_price','QUANTITY']\n",
        "for c in cols_num:\n",
        "    df_fact_trans_data = df_fact_trans_data.withColumn(c, col(c).cast('double'))"
      ],
      "metadata": {
        "id": "fSxOSz59CWA5"
      },
      "execution_count": null,
      "outputs": []
    },
    {
      "cell_type": "code",
      "source": [
        "df_fact_trans_data = df_fact_trans_data.withColumn('PRODUCT_ID', col('PRODUCT_ID').cast('int'))"
      ],
      "metadata": {
        "id": "odWTDaKdPSNg"
      },
      "execution_count": null,
      "outputs": []
    },
    {
      "cell_type": "code",
      "source": [
        "df_fact_trans_data.printSchema()"
      ],
      "metadata": {
        "colab": {
          "base_uri": "https://localhost:8080/"
        },
        "id": "nI-za2QJQSlh",
        "outputId": "7393f60c-9aba-4178-dcba-c11af9a4d58c"
      },
      "execution_count": null,
      "outputs": [
        {
          "output_type": "stream",
          "name": "stdout",
          "text": [
            "root\n",
            " |-- PRODUCT_ID: integer (nullable = true)\n",
            " |-- Cust_paid_price: double (nullable = true)\n",
            " |-- QUANTITY: double (nullable = true)\n",
            "\n"
          ]
        }
      ]
    },
    {
      "cell_type": "code",
      "source": [
        "#Check number of rows\n",
        "df_fact_trans_data.count()"
      ],
      "metadata": {
        "colab": {
          "base_uri": "https://localhost:8080/"
        },
        "id": "O_rfx_8isxmU",
        "outputId": "9c9e35f7-6663-4a38-d8b1-9e62056f2518"
      },
      "execution_count": null,
      "outputs": [
        {
          "output_type": "execute_result",
          "data": {
            "text/plain": [
              "2581266"
            ]
          },
          "metadata": {},
          "execution_count": 36
        }
      ]
    },
    {
      "cell_type": "markdown",
      "source": [
        "#Labeling demand elasticity for each product_id"
      ],
      "metadata": {
        "id": "pJ_kV8FX91R_"
      }
    },
    {
      "cell_type": "markdown",
      "source": [
        "Use EDA to filter out Perfectly Elastic category and later estimate elasticity through simple linear regression slope to reduce processing time.\n",
        "Furthurmore,  For analysis using simple linear regression in price[x]-demand[y] elasticity analysis, there is the assumption that for each unique value of (x), there is a single corresponding value of (y). In other words, we can return result of elasticity without modeling but from EDA relevant by theory."
      ],
      "metadata": {
        "id": "_7XAnEiV-oGt"
      }
    },
    {
      "cell_type": "markdown",
      "source": [
        "## 0) Unknown elasticity pattern"
      ],
      "metadata": {
        "id": "I_jpLSE-VfgQ"
      }
    },
    {
      "cell_type": "markdown",
      "source": [
        "Filter product_id having only 1 point of qty and price"
      ],
      "metadata": {
        "id": "gEA1iUaCWQC4"
      }
    },
    {
      "cell_type": "code",
      "source": [
        "df_fact_trans_data.createOrReplaceTempView(\"fact_trans_data\")"
      ],
      "metadata": {
        "id": "6ST1PIAm-m4n"
      },
      "execution_count": null,
      "outputs": []
    },
    {
      "cell_type": "markdown",
      "source": [
        "###[0] Product_ID with 1 record"
      ],
      "metadata": {
        "id": "ijdECK-IkMIW"
      }
    },
    {
      "cell_type": "markdown",
      "source": [
        "#### df_unknown_elasticity_1"
      ],
      "metadata": {
        "id": "7Hhe7txmXI0E"
      }
    },
    {
      "cell_type": "code",
      "source": [
        "df_unknown_elasticity_0 = spark.sql('''\n",
        "    WITH product_with_one_record AS(\n",
        "      SELECT\n",
        "        PRODUCT_ID,\n",
        "        COUNT(Cust_paid_price) AS Record_count\n",
        "      FROM\n",
        "        fact_trans_data\n",
        "      GROUP BY\n",
        "        PRODUCT_ID\n",
        "      HAVING\n",
        "        COUNT(Cust_paid_price) = 1\n",
        "    )\n",
        "\n",
        "    SELECT\n",
        "        PRODUCT_ID,\n",
        "        Cust_paid_price,\n",
        "        QUANTITY,\n",
        "        COUNT(QUANTITY) AS record_count\n",
        "    FROM\n",
        "        fact_trans_data\n",
        "    GROUP BY\n",
        "        PRODUCT_ID, Cust_paid_price, QUANTITY\n",
        "    HAVING\n",
        "        PRODUCT_ID IN (SELECT DISTINCT PRODUCT_ID FROM product_with_one_record)\n",
        "    ORDER BY PRODUCT_ID, Cust_paid_price, QUANTITY\n",
        "''')\n",
        "df_unknown_elasticity_0.show()"
      ],
      "metadata": {
        "colab": {
          "base_uri": "https://localhost:8080/"
        },
        "id": "C2fqgIqyVmAX",
        "outputId": "aa233cd6-647e-40b5-a9cf-58648f2a0ef6"
      },
      "execution_count": null,
      "outputs": [
        {
          "output_type": "stream",
          "name": "stdout",
          "text": [
            "+----------+---------------+--------+------------+\n",
            "|PRODUCT_ID|Cust_paid_price|QUANTITY|record_count|\n",
            "+----------+---------------+--------+------------+\n",
            "|     26081|           0.99|     1.0|           1|\n",
            "|     26093|           1.59|     1.0|           1|\n",
            "|     26190|           1.54|     1.0|           1|\n",
            "|     26355|           0.99|     2.0|           1|\n",
            "|     26426|           2.29|     1.0|           1|\n",
            "|     26601|           7.59|     1.0|           1|\n",
            "|     26636|            2.5|     1.0|           1|\n",
            "|     26738|           2.75|     1.0|           1|\n",
            "|     26889|           4.99|     1.0|           1|\n",
            "|     26941|            1.0|     1.0|           1|\n",
            "|     27030|           2.15|     2.0|           1|\n",
            "|     27152|           1.98|     1.0|           1|\n",
            "|     27160|           1.92|     1.0|           1|\n",
            "|     27323|           2.69|     1.0|           1|\n",
            "|     27346|           0.99|     1.0|           1|\n",
            "|     27404|           1.99|     1.0|           1|\n",
            "|     27491|           4.99|     1.0|           1|\n",
            "|     27503|           0.79|     2.0|           1|\n",
            "|     27509|           0.88|     1.0|           1|\n",
            "|     27510|           0.69|     1.0|           1|\n",
            "+----------+---------------+--------+------------+\n",
            "only showing top 20 rows\n",
            "\n"
          ]
        }
      ]
    },
    {
      "cell_type": "code",
      "source": [
        "spark.sql('''\n",
        "    WITH product_with_one_record AS(\n",
        "      SELECT\n",
        "        PRODUCT_ID,\n",
        "        COUNT(Cust_paid_price) AS Record_count\n",
        "      FROM\n",
        "        fact_trans_data\n",
        "      GROUP BY\n",
        "        PRODUCT_ID\n",
        "      HAVING\n",
        "        COUNT(Cust_paid_price) = 1\n",
        "    )\n",
        "\n",
        "    SELECT\n",
        "        PRODUCT_ID,\n",
        "        Cust_paid_price,\n",
        "        COUNT(QUANTITY) AS record_count\n",
        "    FROM\n",
        "        fact_trans_data\n",
        "    GROUP BY\n",
        "        PRODUCT_ID, Cust_paid_price\n",
        "    HAVING\n",
        "        PRODUCT_ID IN (SELECT DISTINCT PRODUCT_ID FROM product_with_one_record)\n",
        "    ORDER BY record_count DESC\n",
        "''').show()"
      ],
      "metadata": {
        "colab": {
          "base_uri": "https://localhost:8080/"
        },
        "id": "XJ9VDSUfY8tZ",
        "outputId": "189bcab2-8438-48f7-fc39-aea214cfa476"
      },
      "execution_count": null,
      "outputs": [
        {
          "output_type": "stream",
          "name": "stdout",
          "text": [
            "+----------+---------------+------------+\n",
            "|PRODUCT_ID|Cust_paid_price|record_count|\n",
            "+----------+---------------+------------+\n",
            "|    389959|           3.51|           1|\n",
            "|   6602315|           4.49|           1|\n",
            "|    756288|           1.39|           1|\n",
            "|    427308|           3.15|           1|\n",
            "|   9798185|           4.29|           1|\n",
            "|    865428|           2.99|           1|\n",
            "|   1235982|           1.67|           1|\n",
            "|  15478158|           11.3|           1|\n",
            "|   1973566|          23.99|           1|\n",
            "|  12517698|           1.88|           1|\n",
            "|  15716393|           2.59|           1|\n",
            "|  12605283|           3.49|           1|\n",
            "|   6395998|           1.19|           1|\n",
            "|  16828772|           2.99|           1|\n",
            "|   9469393|           7.99|           1|\n",
            "|    741050|           2.79|           1|\n",
            "|    439658|           0.99|           1|\n",
            "|   1015898|           2.69|           1|\n",
            "|   1114295|           4.35|           1|\n",
            "|    952723|           1.88|           1|\n",
            "+----------+---------------+------------+\n",
            "only showing top 20 rows\n",
            "\n"
          ]
        }
      ]
    },
    {
      "cell_type": "code",
      "source": [
        "spark.sql('''\n",
        "    WITH product_with_one_record AS(\n",
        "      SELECT\n",
        "        PRODUCT_ID,\n",
        "        COUNT(Cust_paid_price) AS Record_count\n",
        "      FROM\n",
        "        fact_trans_data\n",
        "      GROUP BY\n",
        "        PRODUCT_ID\n",
        "      HAVING\n",
        "        COUNT(Cust_paid_price) = 1\n",
        "    )\n",
        "\n",
        "    SELECT\n",
        "        PRODUCT_ID,\n",
        "        QUANTITY,\n",
        "        COUNT(Cust_paid_price) AS record_count\n",
        "    FROM\n",
        "        fact_trans_data\n",
        "    GROUP BY\n",
        "        PRODUCT_ID, QUANTITY\n",
        "    HAVING\n",
        "        PRODUCT_ID IN (SELECT DISTINCT PRODUCT_ID FROM product_with_one_record)\n",
        "    ORDER BY record_count DESC\n",
        "''').show()"
      ],
      "metadata": {
        "colab": {
          "base_uri": "https://localhost:8080/"
        },
        "id": "nmg0b4T_ZFyR",
        "outputId": "56744fb0-df3e-4acd-ff55-a861d976a0ae"
      },
      "execution_count": null,
      "outputs": [
        {
          "output_type": "stream",
          "name": "stdout",
          "text": [
            "+----------+--------+------------+\n",
            "|PRODUCT_ID|QUANTITY|record_count|\n",
            "+----------+--------+------------+\n",
            "|    965804|     1.0|           1|\n",
            "|  16809173|     1.0|           1|\n",
            "|   2600176|     1.0|           1|\n",
            "|   9364316|     1.0|           1|\n",
            "|   1308283|     1.0|           1|\n",
            "|   1573412|     2.0|           1|\n",
            "|   1714571|     1.0|           1|\n",
            "|   1514712|     1.0|           1|\n",
            "|  12671011|     1.0|           1|\n",
            "|   1707991|     1.0|           1|\n",
            "|  17901003|     2.0|           1|\n",
            "|  13038819|     1.0|           1|\n",
            "|   1936789|     1.0|           1|\n",
            "|   5665755|     1.0|           1|\n",
            "|   9550176|     1.0|           1|\n",
            "|  12730591|     2.0|           1|\n",
            "|  17903416|     1.0|           1|\n",
            "|     29512|     1.0|           1|\n",
            "|     66371|     1.0|           1|\n",
            "|  12432208|     1.0|           1|\n",
            "+----------+--------+------------+\n",
            "only showing top 20 rows\n",
            "\n"
          ]
        }
      ]
    },
    {
      "cell_type": "code",
      "source": [
        "check_shape_in_df_spark(df_unknown_elasticity_0)"
      ],
      "metadata": {
        "colab": {
          "base_uri": "https://localhost:8080/"
        },
        "id": "0dabvrR7XYHO",
        "outputId": "6ca82462-91d0-4246-bede-2da98a8dc95a"
      },
      "execution_count": null,
      "outputs": [
        {
          "output_type": "stream",
          "name": "stdout",
          "text": [
            "Shape of dataframe:\n",
            "#rows: 33542\n",
            "#columns: 4\n"
          ]
        }
      ]
    },
    {
      "cell_type": "markdown",
      "source": [
        "####Finding: 33542 records"
      ],
      "metadata": {
        "id": "dOJFa58CYZa1"
      }
    },
    {
      "cell_type": "code",
      "source": [
        "df_unknown_elasticity_0.describe().show()"
      ],
      "metadata": {
        "colab": {
          "base_uri": "https://localhost:8080/"
        },
        "id": "4KrslfacX88x",
        "outputId": "8ac7604e-fc8e-4da0-ebb4-7a6d62b7e5d0"
      },
      "execution_count": null,
      "outputs": [
        {
          "output_type": "stream",
          "name": "stdout",
          "text": [
            "+-------+-----------------+-----------------+-----------------+------------+\n",
            "|summary|       PRODUCT_ID|  Cust_paid_price|         QUANTITY|record_count|\n",
            "+-------+-----------------+-----------------+-----------------+------------+\n",
            "|  count|            33542|            33542|            33542|       33542|\n",
            "|   mean|5862114.203804186|4.397076136387406|3.050116272136426|         1.0|\n",
            "| stddev|5481471.104118625|7.360430283271176| 161.357395122785|         0.0|\n",
            "|    min|            26081|              0.0|              1.0|           1|\n",
            "|    max|         18316298|           499.99|          18559.0|           1|\n",
            "+-------+-----------------+-----------------+-----------------+------------+\n",
            "\n"
          ]
        }
      ]
    },
    {
      "cell_type": "markdown",
      "source": [
        "#####product_unknown_elasticity_0 [list]"
      ],
      "metadata": {
        "id": "DbZim_TVcO3f"
      }
    },
    {
      "cell_type": "code",
      "source": [
        "product_unknown_elasticity_0 = get_columnvalues_as_list(df_unknown_elasticity_0,'PRODUCT_ID',1)\n",
        "len(product_unknown_elasticity_0)"
      ],
      "metadata": {
        "colab": {
          "base_uri": "https://localhost:8080/"
        },
        "id": "8gXHHXPZWeDu",
        "outputId": "955b10b1-da8c-47f6-b6a7-bfc7d4fc6ef9"
      },
      "execution_count": null,
      "outputs": [
        {
          "output_type": "execute_result",
          "data": {
            "text/plain": [
              "33542"
            ]
          },
          "metadata": {},
          "execution_count": 42
        }
      ]
    },
    {
      "cell_type": "markdown",
      "source": [
        "###[2] One (distinct) price for the product across all qty sold records"
      ],
      "metadata": {
        "id": "NbAgBZ9wlTZ5"
      }
    },
    {
      "cell_type": "code",
      "source": [
        "spark.sql('''\n",
        "    WITH product_with_one_qty AS(\n",
        "      SELECT\n",
        "        PRODUCT_ID,\n",
        "        COUNT(DISTINCT QUANTITY) AS QTY_grpcountD,\n",
        "        COUNT(QUANTITY) AS Record_count\n",
        "      FROM\n",
        "        fact_trans_data\n",
        "      GROUP BY\n",
        "        PRODUCT_ID\n",
        "      HAVING\n",
        "        COUNT(DISTINCT QUANTITY) = 1 AND COUNT(QUANTITY) > 1\n",
        "    )\n",
        "\n",
        "    SELECT\n",
        "        PRODUCT_ID,\n",
        "        QUANTITY,\n",
        "        COUNT(DISTINCT Cust_paid_price) AS Price_grpcountD,\n",
        "        COUNT(Cust_paid_price) AS Record_count\n",
        "    FROM\n",
        "        fact_trans_data\n",
        "    GROUP BY\n",
        "        PRODUCT_ID, QUANTITY\n",
        "    HAVING\n",
        "        PRODUCT_ID IN (SELECT PRODUCT_ID FROM product_with_one_qty)\n",
        "''').show()"
      ],
      "metadata": {
        "colab": {
          "base_uri": "https://localhost:8080/"
        },
        "id": "12spVOa3_Wcx",
        "outputId": "e3fdcdb4-7b2a-4c69-b0dd-8816d2ec987b"
      },
      "execution_count": null,
      "outputs": [
        {
          "output_type": "stream",
          "name": "stdout",
          "text": [
            "+----------+--------+---------------+------------+\n",
            "|PRODUCT_ID|QUANTITY|Price_grpcountD|Record_count|\n",
            "+----------+--------+---------------+------------+\n",
            "|   1136715|     1.0|             45|          53|\n",
            "|  15596457|     1.0|              1|           3|\n",
            "|    845098|     1.0|              1|           4|\n",
            "|   9527048|     1.0|              3|           3|\n",
            "|    839006|     1.0|              8|           8|\n",
            "|    821184|     1.0|              4|          18|\n",
            "|    995436|     1.0|             20|          29|\n",
            "|  13416097|     1.0|              2|           3|\n",
            "|  15716478|     1.0|              1|           4|\n",
            "|    953447|     1.0|              2|           7|\n",
            "|    904521|     1.0|              9|          97|\n",
            "|    922610|     1.0|              3|           6|\n",
            "|  13007354|     1.0|              5|          15|\n",
            "|  15452302|     1.0|             11|          11|\n",
            "|   9420275|     1.0|              2|           2|\n",
            "|   1132036|     1.0|              8|         145|\n",
            "|    954291|     1.0|              1|           2|\n",
            "|  10150168|     1.0|              3|           3|\n",
            "|    683531|     1.0|              2|           2|\n",
            "|   1026135|     1.0|              7|          40|\n",
            "+----------+--------+---------------+------------+\n",
            "only showing top 20 rows\n",
            "\n"
          ]
        }
      ]
    },
    {
      "cell_type": "markdown",
      "source": [
        "####Finding:\n",
        "From the observing scenario, there are (COUNT(DISTINCT Price) = 1 and constant quantity sold), **it cannot be concluded as perfectly inelastic demand** because it lacks price variation needed to assess the relationship between price and quantity demanded.\n",
        "\n",
        "Thus, it should be classified as \"Unknown\" elasticity"
      ],
      "metadata": {
        "id": "9P1nNcfljdve"
      }
    },
    {
      "cell_type": "code",
      "source": [
        "df_unknown_elasticity_1 = spark.sql('''\n",
        "    WITH product_with_one_qty AS(\n",
        "      SELECT\n",
        "        PRODUCT_ID,\n",
        "        COUNT(DISTINCT QUANTITY) AS QTY_grpcountD,\n",
        "        COUNT(QUANTITY) AS Record_count\n",
        "      FROM\n",
        "        fact_trans_data\n",
        "      GROUP BY\n",
        "        PRODUCT_ID\n",
        "      HAVING\n",
        "        COUNT(DISTINCT QUANTITY) = 1 AND COUNT(QUANTITY) > 1\n",
        "    )\n",
        "\n",
        "    SELECT\n",
        "        PRODUCT_ID,\n",
        "        QUANTITY,\n",
        "        COUNT(DISTINCT Cust_paid_price) AS Price_grpcountD,\n",
        "        COUNT(Cust_paid_price) AS Record_count\n",
        "    FROM\n",
        "        fact_trans_data\n",
        "    GROUP BY\n",
        "        PRODUCT_ID, QUANTITY\n",
        "    HAVING\n",
        "        PRODUCT_ID IN (SELECT PRODUCT_ID FROM product_with_one_qty) AND Price_grpcountD = 1\n",
        "''')\n",
        "df_unknown_elasticity_1.show()"
      ],
      "metadata": {
        "colab": {
          "base_uri": "https://localhost:8080/"
        },
        "id": "e-B8BqQKlsQW",
        "outputId": "3fe3254b-6113-4e96-85e3-da8bda218cd9"
      },
      "execution_count": null,
      "outputs": [
        {
          "output_type": "stream",
          "name": "stdout",
          "text": [
            "+----------+--------+---------------+------------+\n",
            "|PRODUCT_ID|QUANTITY|Price_grpcountD|Record_count|\n",
            "+----------+--------+---------------+------------+\n",
            "|  15596457|     1.0|              1|           3|\n",
            "|    845098|     1.0|              1|           4|\n",
            "|  15716478|     1.0|              1|           4|\n",
            "|    954291|     1.0|              1|           2|\n",
            "|   5590354|     1.0|              1|          15|\n",
            "|   1101628|     1.0|              1|           5|\n",
            "|  16829183|     1.0|              1|           2|\n",
            "|   1042354|     1.0|              1|           2|\n",
            "|   1030303|     1.0|              1|           2|\n",
            "|   8090775|     1.0|              1|           3|\n",
            "|   9926165|     1.0|              1|           4|\n",
            "|   1031821|     1.0|              1|           3|\n",
            "|    828693|     1.0|              1|           4|\n",
            "|   7467048|     1.0|              1|           2|\n",
            "|   1126146|     1.0|              1|           8|\n",
            "|     94336|     1.0|              1|           2|\n",
            "|   1948096|     1.0|              1|           2|\n",
            "|  13007980|     1.0|              1|           3|\n",
            "|  15596842|     1.0|              1|           2|\n",
            "|   1726685|     1.0|              1|           3|\n",
            "+----------+--------+---------------+------------+\n",
            "only showing top 20 rows\n",
            "\n"
          ]
        }
      ]
    },
    {
      "cell_type": "markdown",
      "source": [
        "####Finding: 10323 records"
      ],
      "metadata": {
        "id": "NkG8k-vpn1pA"
      }
    },
    {
      "cell_type": "markdown",
      "source": [
        "#####product_unknown_elasticity_1"
      ],
      "metadata": {
        "id": "GdxN22b_oATT"
      }
    },
    {
      "cell_type": "code",
      "source": [
        "product_unknown_elasticity_1 = get_columnvalues_as_list(df_unknown_elasticity_1,'PRODUCT_ID',1)\n",
        "len(product_unknown_elasticity_1)"
      ],
      "metadata": {
        "colab": {
          "base_uri": "https://localhost:8080/"
        },
        "id": "Jbiy10jCnect",
        "outputId": "c9d42c25-eb96-4a75-8635-74a18a60eb0a"
      },
      "execution_count": null,
      "outputs": [
        {
          "output_type": "execute_result",
          "data": {
            "text/plain": [
              "10323"
            ]
          },
          "metadata": {},
          "execution_count": 45
        }
      ]
    },
    {
      "cell_type": "code",
      "source": [
        "find_common_elements_in_list(product_unknown_elasticity_0,product_unknown_elasticity_1)"
      ],
      "metadata": {
        "colab": {
          "base_uri": "https://localhost:8080/"
        },
        "id": "WcpwcfNdtOvS",
        "outputId": "716635f1-6595-4227-90ee-2940f913da41"
      },
      "execution_count": null,
      "outputs": [
        {
          "output_type": "execute_result",
          "data": {
            "text/plain": [
              "[]"
            ]
          },
          "metadata": {},
          "execution_count": 46
        }
      ]
    },
    {
      "cell_type": "markdown",
      "source": [
        "### Export results"
      ],
      "metadata": {
        "id": "5qXUWo4XaXlm"
      }
    },
    {
      "cell_type": "markdown",
      "source": [
        "####df_result_unknown_elasticity_0"
      ],
      "metadata": {
        "id": "qbpd2gHub3Mp"
      }
    },
    {
      "cell_type": "code",
      "source": [
        "df_result_unknown_elasticity_0 = spark.sql('''\n",
        "    WITH product_with_one_record AS(\n",
        "      SELECT\n",
        "        PRODUCT_ID,\n",
        "        COUNT(Cust_paid_price) AS Record_count\n",
        "      FROM\n",
        "        fact_trans_data\n",
        "      GROUP BY\n",
        "        PRODUCT_ID\n",
        "      HAVING\n",
        "        COUNT(Cust_paid_price) = 1\n",
        "    )\n",
        "\n",
        "    SELECT\n",
        "        PRODUCT_ID,\n",
        "        NULL AS Beta1,\n",
        "        NULL AS Beta0,\n",
        "        NULL AS R2,\n",
        "        AVG(Cust_paid_price) AS P_avg,\n",
        "        AVG(QUANTITY) AS Q_avg,\n",
        "        NULL AS Elasticity,\n",
        "        \"Unknown\" AS Demand_elasticity_type\n",
        "    FROM\n",
        "        fact_trans_data\n",
        "    GROUP BY\n",
        "        PRODUCT_ID, Cust_paid_price, QUANTITY\n",
        "    HAVING\n",
        "        PRODUCT_ID IN (SELECT DISTINCT PRODUCT_ID FROM product_with_one_record)\n",
        "    ORDER BY PRODUCT_ID\n",
        "''')\n",
        "df_result_unknown_elasticity_0.show()"
      ],
      "metadata": {
        "colab": {
          "base_uri": "https://localhost:8080/"
        },
        "id": "SDUTjv4MYYFu",
        "outputId": "6b3c192c-3f55-43b5-e16b-b066f22377a5"
      },
      "execution_count": null,
      "outputs": [
        {
          "output_type": "stream",
          "name": "stdout",
          "text": [
            "+----------+-----+-----+----+-----+-----+----------+----------------------+\n",
            "|PRODUCT_ID|Beta1|Beta0|  R2|P_avg|Q_avg|Elasticity|Demand_elasticity_type|\n",
            "+----------+-----+-----+----+-----+-----+----------+----------------------+\n",
            "|     26081| NULL| NULL|NULL| 0.99|  1.0|      NULL|               Unknown|\n",
            "|     26093| NULL| NULL|NULL| 1.59|  1.0|      NULL|               Unknown|\n",
            "|     26190| NULL| NULL|NULL| 1.54|  1.0|      NULL|               Unknown|\n",
            "|     26355| NULL| NULL|NULL| 0.99|  2.0|      NULL|               Unknown|\n",
            "|     26426| NULL| NULL|NULL| 2.29|  1.0|      NULL|               Unknown|\n",
            "|     26601| NULL| NULL|NULL| 7.59|  1.0|      NULL|               Unknown|\n",
            "|     26636| NULL| NULL|NULL|  2.5|  1.0|      NULL|               Unknown|\n",
            "|     26738| NULL| NULL|NULL| 2.75|  1.0|      NULL|               Unknown|\n",
            "|     26889| NULL| NULL|NULL| 4.99|  1.0|      NULL|               Unknown|\n",
            "|     26941| NULL| NULL|NULL|  1.0|  1.0|      NULL|               Unknown|\n",
            "|     27030| NULL| NULL|NULL| 2.15|  2.0|      NULL|               Unknown|\n",
            "|     27152| NULL| NULL|NULL| 1.98|  1.0|      NULL|               Unknown|\n",
            "|     27160| NULL| NULL|NULL| 1.92|  1.0|      NULL|               Unknown|\n",
            "|     27323| NULL| NULL|NULL| 2.69|  1.0|      NULL|               Unknown|\n",
            "|     27346| NULL| NULL|NULL| 0.99|  1.0|      NULL|               Unknown|\n",
            "|     27404| NULL| NULL|NULL| 1.99|  1.0|      NULL|               Unknown|\n",
            "|     27491| NULL| NULL|NULL| 4.99|  1.0|      NULL|               Unknown|\n",
            "|     27503| NULL| NULL|NULL| 0.79|  2.0|      NULL|               Unknown|\n",
            "|     27509| NULL| NULL|NULL| 0.88|  1.0|      NULL|               Unknown|\n",
            "|     27510| NULL| NULL|NULL| 0.69|  1.0|      NULL|               Unknown|\n",
            "+----------+-----+-----+----+-----+-----+----------+----------------------+\n",
            "only showing top 20 rows\n",
            "\n"
          ]
        }
      ]
    },
    {
      "cell_type": "code",
      "source": [
        "df_result_unknown_elasticity_0.describe().show()"
      ],
      "metadata": {
        "colab": {
          "base_uri": "https://localhost:8080/"
        },
        "id": "Rnl2ReeV74z9",
        "outputId": "5ad83466-5611-42aa-a3f3-0c430318ee46"
      },
      "execution_count": null,
      "outputs": [
        {
          "output_type": "stream",
          "name": "stdout",
          "text": [
            "+-------+-----------------+-----------------+-----------------+----------------------+\n",
            "|summary|       PRODUCT_ID|            P_avg|            Q_avg|Demand_elasticity_type|\n",
            "+-------+-----------------+-----------------+-----------------+----------------------+\n",
            "|  count|            33542|            33542|            33542|                 33542|\n",
            "|   mean|5862114.203804186|4.397076136387406|3.050116272136426|                  NULL|\n",
            "| stddev|5481471.104118625|7.360430283271176| 161.357395122785|                  NULL|\n",
            "|    min|            26081|              0.0|              1.0|               Unknown|\n",
            "|    max|         18316298|           499.99|          18559.0|               Unknown|\n",
            "+-------+-----------------+-----------------+-----------------+----------------------+\n",
            "\n"
          ]
        }
      ]
    },
    {
      "cell_type": "markdown",
      "source": [
        "####df_result_unknown_elasticity_1"
      ],
      "metadata": {
        "id": "CfJR_xlD8SX9"
      }
    },
    {
      "cell_type": "code",
      "source": [
        "df_result_unknown_elasticity_1 = spark.sql('''\n",
        "    WITH product_with_samePQ AS(\n",
        "      SELECT f.PRODUCT_ID, f.QUANTITY, COUNT(DISTINCT f.Cust_paid_price) AS Price_grpcountD, COUNT(f.Cust_paid_price) AS Record_count\n",
        "      FROM fact_trans_data f\n",
        "      WHERE f.PRODUCT_ID IN (\n",
        "        SELECT PRODUCT_ID\n",
        "        FROM  fact_trans_data\n",
        "        GROUP BY  PRODUCT_ID\n",
        "        HAVING COUNT(DISTINCT QUANTITY) = 1 AND COUNT(QUANTITY) > 1)\n",
        "      GROUP BY\n",
        "          f.PRODUCT_ID,\n",
        "          f.QUANTITY\n",
        "      HAVING\n",
        "          Price_grpcountD = 1)\n",
        "\n",
        "    SELECT\n",
        "        PRODUCT_ID,\n",
        "        NULL AS Beta1,\n",
        "        NULL AS Beta0,\n",
        "        NULL AS R2,\n",
        "        AVG(Cust_paid_price) AS P_avg,\n",
        "        AVG(QUANTITY) AS Q_avg,\n",
        "        NULL AS Elasticity,\n",
        "        \"Unknown\" AS Demand_elasticity_type\n",
        "    FROM\n",
        "        fact_trans_data\n",
        "    GROUP BY\n",
        "        PRODUCT_ID, Cust_paid_price, QUANTITY\n",
        "    HAVING\n",
        "        PRODUCT_ID IN (SELECT DISTINCT PRODUCT_ID FROM product_with_samePQ)\n",
        "    ORDER BY PRODUCT_ID\n",
        "''')\n",
        "df_result_unknown_elasticity_1.show()"
      ],
      "metadata": {
        "colab": {
          "base_uri": "https://localhost:8080/"
        },
        "id": "naYQhRVM5mNn",
        "outputId": "1af320b9-fc25-451d-effb-ba7d27e8f6c1"
      },
      "execution_count": null,
      "outputs": [
        {
          "output_type": "stream",
          "name": "stdout",
          "text": [
            "+----------+-----+-----+----+------------------+-----+----------+----------------------+\n",
            "|PRODUCT_ID|Beta1|Beta0|  R2|             P_avg|Q_avg|Elasticity|Demand_elasticity_type|\n",
            "+----------+-----+-----+----+------------------+-----+----------+----------------------+\n",
            "|     27021| NULL| NULL|NULL|               1.8|  2.0|      NULL|               Unknown|\n",
            "|     27745| NULL| NULL|NULL|              5.65|  1.0|      NULL|               Unknown|\n",
            "|     28041| NULL| NULL|NULL|              5.99|  1.0|      NULL|               Unknown|\n",
            "|     28165| NULL| NULL|NULL|              7.99|  1.0|      NULL|               Unknown|\n",
            "|     29037| NULL| NULL|NULL|1.9899999999999998|  1.0|      NULL|               Unknown|\n",
            "|     29128| NULL| NULL|NULL|              0.83|  1.0|      NULL|               Unknown|\n",
            "|     29247| NULL| NULL|NULL|               1.0| 10.0|      NULL|               Unknown|\n",
            "|     31534| NULL| NULL|NULL|              1.92|  1.0|      NULL|               Unknown|\n",
            "|     31681| NULL| NULL|NULL|              2.99|  1.0|      NULL|               Unknown|\n",
            "|     31693| NULL| NULL|NULL|1.6900000000000002|  1.0|      NULL|               Unknown|\n",
            "|     32384| NULL| NULL|NULL|0.9899999999999999|  1.0|      NULL|               Unknown|\n",
            "|     32392| NULL| NULL|NULL|              1.39|  1.0|      NULL|               Unknown|\n",
            "|     32454| NULL| NULL|NULL|              1.67|  1.0|      NULL|               Unknown|\n",
            "|     32562| NULL| NULL|NULL|              1.49|  1.0|      NULL|               Unknown|\n",
            "|     33128| NULL| NULL|NULL|              0.99|  1.0|      NULL|               Unknown|\n",
            "|     34138| NULL| NULL|NULL|               1.0|  1.0|      NULL|               Unknown|\n",
            "|     34187| NULL| NULL|NULL|             14.99|  1.0|      NULL|               Unknown|\n",
            "|     34723| NULL| NULL|NULL|              0.33|  1.0|      NULL|               Unknown|\n",
            "|     34818| NULL| NULL|NULL|               0.9|  1.0|      NULL|               Unknown|\n",
            "|     35309| NULL| NULL|NULL|0.9899999999999999|  1.0|      NULL|               Unknown|\n",
            "+----------+-----+-----+----+------------------+-----+----------+----------------------+\n",
            "only showing top 20 rows\n",
            "\n"
          ]
        }
      ]
    },
    {
      "cell_type": "code",
      "source": [
        "df_result_unknown_elasticity_1.describe().show()"
      ],
      "metadata": {
        "colab": {
          "base_uri": "https://localhost:8080/"
        },
        "id": "1sWyJXpF8A5h",
        "outputId": "f576476b-6d91-4026-d7cd-49cb4a46f5e8"
      },
      "execution_count": null,
      "outputs": [
        {
          "output_type": "stream",
          "name": "stdout",
          "text": [
            "+-------+-----------------+------------------+-------------------+----------------------+\n",
            "|summary|       PRODUCT_ID|             P_avg|              Q_avg|Demand_elasticity_type|\n",
            "+-------+-----------------+------------------+-------------------+----------------------+\n",
            "|  count|            10323|             10323|              10323|                 10323|\n",
            "|   mean|6146514.581517001|4.7323037553682115|  1.021505376344086|                  NULL|\n",
            "| stddev|5621532.366558894| 5.105818701711459|0.18964314647363084|                  NULL|\n",
            "|    min|            27021|               0.0|                1.0|               Unknown|\n",
            "|    max|         18244453|            104.99|               10.0|               Unknown|\n",
            "+-------+-----------------+------------------+-------------------+----------------------+\n",
            "\n"
          ]
        }
      ]
    },
    {
      "cell_type": "markdown",
      "source": [
        "####df_result_unknown_elasticity"
      ],
      "metadata": {
        "id": "E6Hlu1tD9L5c"
      }
    },
    {
      "cell_type": "code",
      "source": [
        "df_result_unknown_elasticity = df_result_unknown_elasticity_0.union(df_result_unknown_elasticity_1)"
      ],
      "metadata": {
        "id": "pOvDrfHv8ktu"
      },
      "execution_count": null,
      "outputs": []
    },
    {
      "cell_type": "code",
      "source": [
        "df_result_unknown_elasticity.printSchema()"
      ],
      "metadata": {
        "colab": {
          "base_uri": "https://localhost:8080/"
        },
        "id": "bcizBTVWckPk",
        "outputId": "b9c06050-a6c3-46e9-d36a-e1459ab7e415"
      },
      "execution_count": null,
      "outputs": [
        {
          "output_type": "stream",
          "name": "stdout",
          "text": [
            "root\n",
            " |-- PRODUCT_ID: integer (nullable = true)\n",
            " |-- Beta1: void (nullable = true)\n",
            " |-- Beta0: void (nullable = true)\n",
            " |-- R2: void (nullable = true)\n",
            " |-- P_avg: double (nullable = true)\n",
            " |-- Q_avg: double (nullable = true)\n",
            " |-- Elasticity: void (nullable = true)\n",
            " |-- Demand_elasticity_type: string (nullable = false)\n",
            "\n"
          ]
        }
      ]
    },
    {
      "cell_type": "code",
      "source": [
        "for c in ['Beta1', 'Beta0', 'R2','Elasticity']:\n",
        "    df_result_unknown_elasticity = df_result_unknown_elasticity.withColumn(c, col(c).cast('double'))"
      ],
      "metadata": {
        "id": "LT-nKROwcqcx"
      },
      "execution_count": null,
      "outputs": []
    },
    {
      "cell_type": "code",
      "source": [
        "df_result_unknown_elasticity.printSchema()"
      ],
      "metadata": {
        "colab": {
          "base_uri": "https://localhost:8080/"
        },
        "id": "WncJY3bac4Gj",
        "outputId": "64af9844-c8ab-4c74-9b2e-2086a98fe433"
      },
      "execution_count": null,
      "outputs": [
        {
          "output_type": "stream",
          "name": "stdout",
          "text": [
            "root\n",
            " |-- PRODUCT_ID: integer (nullable = true)\n",
            " |-- Beta1: double (nullable = true)\n",
            " |-- Beta0: double (nullable = true)\n",
            " |-- R2: double (nullable = true)\n",
            " |-- P_avg: double (nullable = true)\n",
            " |-- Q_avg: double (nullable = true)\n",
            " |-- Elasticity: double (nullable = true)\n",
            " |-- Demand_elasticity_type: string (nullable = false)\n",
            "\n"
          ]
        }
      ]
    },
    {
      "cell_type": "code",
      "source": [
        "df_result_unknown_elasticity.describe().show()"
      ],
      "metadata": {
        "colab": {
          "base_uri": "https://localhost:8080/"
        },
        "id": "k299TLse8qLE",
        "outputId": "8b59c02a-dff9-47a7-8fec-bb8281d26a8f"
      },
      "execution_count": null,
      "outputs": [
        {
          "output_type": "stream",
          "name": "stdout",
          "text": [
            "+-------+------------------+-----+-----+----+-----------------+------------------+----------+----------------------+\n",
            "|summary|        PRODUCT_ID|Beta1|Beta0|  R2|            P_avg|             Q_avg|Elasticity|Demand_elasticity_type|\n",
            "+-------+------------------+-----+-----+----+-----------------+------------------+----------+----------------------+\n",
            "|  count|             43865|    0|    0|   0|            43865|             43865|         0|                 43865|\n",
            "|   mean|5929043.7626581555| NULL| NULL|NULL|4.475967159087482|2.5727117291690416|      NULL|                  NULL|\n",
            "| stddev| 5516007.578996331| NULL| NULL|NULL|6.897893721885727|141.10127260376393|      NULL|                  NULL|\n",
            "|    min|             26081| NULL| NULL|NULL|              0.0|               1.0|      NULL|               Unknown|\n",
            "|    max|          18316298| NULL| NULL|NULL|           499.99|           18559.0|      NULL|               Unknown|\n",
            "+-------+------------------+-----+-----+----+-----------------+------------------+----------+----------------------+\n",
            "\n"
          ]
        }
      ]
    },
    {
      "cell_type": "code",
      "source": [
        "export_sparkdf_to_csv(df_result_unknown_elasticity, '/content/drive/MyDrive/DATA_SCI_SKILL/202406_CompleteJourneyProj/data set/02_DemandElasticity/', 'Result00_unknown_elasticity')"
      ],
      "metadata": {
        "colab": {
          "base_uri": "https://localhost:8080/"
        },
        "id": "Xj0dQqNwc0oL",
        "outputId": "fc4b59d6-4e5a-47f6-a65b-69ca4b7d85bc"
      },
      "execution_count": null,
      "outputs": [
        {
          "output_type": "stream",
          "name": "stdout",
          "text": [
            "Result00_unknown_elasticity.csv has been exported successfully.\n"
          ]
        }
      ]
    },
    {
      "cell_type": "markdown",
      "source": [
        "######product_unknown_elasticity [list]"
      ],
      "metadata": {
        "id": "4gIDf-13-ekg"
      }
    },
    {
      "cell_type": "code",
      "source": [
        "product_unknown_elasticity = product_unknown_elasticity_0 + product_unknown_elasticity_1\n",
        "product_unknown_elasticity.sort()\n",
        "len(product_unknown_elasticity)"
      ],
      "metadata": {
        "colab": {
          "base_uri": "https://localhost:8080/"
        },
        "id": "XrMNTxKF-Rs_",
        "outputId": "ae760305-8a89-465a-d48f-3b97faab0d7d"
      },
      "execution_count": null,
      "outputs": [
        {
          "output_type": "execute_result",
          "data": {
            "text/plain": [
              "43865"
            ]
          },
          "metadata": {},
          "execution_count": 57
        }
      ]
    },
    {
      "cell_type": "markdown",
      "source": [
        "## 1) Perfectly Inelastic Demand"
      ],
      "metadata": {
        "id": "D9r9Jf0v9-6q"
      }
    },
    {
      "cell_type": "markdown",
      "source": [
        "![image.png](data:image/png;base64,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)"
      ],
      "metadata": {
        "id": "ljjaGz6N-UoR"
      }
    },
    {
      "cell_type": "markdown",
      "source": [
        "Perfectly inelastic demand implies that the quantity demanded remains constant regardless of changes in price. In other words:\n",
        "\n",
        "- Price Insensitivity: Consumers will buy the same quantity of the product regardless of how the price changes.\n",
        "- Vertical Demand Curve: The demand curve is vertical, meaning the quantity demanded is fixed, no matter the price.\n",
        "\n",
        "It happens when there is only 1 distinct demand quantity but **various price customer paid**."
      ],
      "metadata": {
        "id": "Nh2BiUnh-Lsl"
      }
    },
    {
      "cell_type": "markdown",
      "source": [
        " Practical Application of Perfectly Inelastic demand:\n",
        " - Rare in practice, but indicates a product or situation where demand remains unchanged despite price variations."
      ],
      "metadata": {
        "id": "KakoAKt7GMmE"
      }
    },
    {
      "cell_type": "markdown",
      "source": [
        "####df_inelastic_demand"
      ],
      "metadata": {
        "id": "gpHiOWfGSvL6"
      }
    },
    {
      "cell_type": "code",
      "source": [
        "df_inelastic_demand = spark.sql('''\n",
        "    WITH product_with_one_qty AS(\n",
        "      SELECT\n",
        "        PRODUCT_ID,\n",
        "        COUNT(DISTINCT QUANTITY) AS QTY_grpcountD,\n",
        "        COUNT(QUANTITY) AS Record_count\n",
        "      FROM\n",
        "        fact_trans_data\n",
        "      GROUP BY\n",
        "        PRODUCT_ID\n",
        "      HAVING\n",
        "        COUNT(DISTINCT QUANTITY) = 1 AND COUNT(QUANTITY) > 1\n",
        "    )\n",
        "\n",
        "    SELECT\n",
        "        PRODUCT_ID,\n",
        "        QUANTITY,\n",
        "        COUNT(DISTINCT Cust_paid_price) AS Price_grpcountD,\n",
        "        COUNT(Cust_paid_price) AS Record_count\n",
        "    FROM\n",
        "        fact_trans_data\n",
        "    GROUP BY\n",
        "        PRODUCT_ID, QUANTITY\n",
        "    HAVING\n",
        "        PRODUCT_ID IN (SELECT PRODUCT_ID FROM product_with_one_qty) AND\n",
        "        COUNT(DISTINCT Cust_paid_price) > 1\n",
        "''')\n",
        "df_inelastic_demand.show()"
      ],
      "metadata": {
        "colab": {
          "base_uri": "https://localhost:8080/"
        },
        "id": "Ix3KPyyMjQhg",
        "outputId": "03194747-089f-4e54-ff8b-4e7bd7c5541c"
      },
      "execution_count": null,
      "outputs": [
        {
          "output_type": "stream",
          "name": "stdout",
          "text": [
            "+----------+--------+---------------+------------+\n",
            "|PRODUCT_ID|QUANTITY|Price_grpcountD|Record_count|\n",
            "+----------+--------+---------------+------------+\n",
            "|   1136715|     1.0|             45|          53|\n",
            "|   9527048|     1.0|              3|           3|\n",
            "|    839006|     1.0|              8|           8|\n",
            "|    821184|     1.0|              4|          18|\n",
            "|    995436|     1.0|             20|          29|\n",
            "|  13416097|     1.0|              2|           3|\n",
            "|    953447|     1.0|              2|           7|\n",
            "|    904521|     1.0|              9|          97|\n",
            "|    922610|     1.0|              3|           6|\n",
            "|  13007354|     1.0|              5|          15|\n",
            "|  15452302|     1.0|             11|          11|\n",
            "|   9420275|     1.0|              2|           2|\n",
            "|   1132036|     1.0|              8|         145|\n",
            "|  10150168|     1.0|              3|           3|\n",
            "|    683531|     1.0|              2|           2|\n",
            "|   1026135|     1.0|              7|          40|\n",
            "|    945674|     1.0|              2|           2|\n",
            "|    937281|     1.0|              3|           3|\n",
            "|   6602247|     1.0|              2|           7|\n",
            "|    822944|     1.0|             14|          37|\n",
            "+----------+--------+---------------+------------+\n",
            "only showing top 20 rows\n",
            "\n"
          ]
        }
      ]
    },
    {
      "cell_type": "code",
      "source": [
        "spark.sql('''\n",
        "  SELECT ROW_NUMBER() OVER (PARTITION BY QUANTITY ORDER BY Cust_paid_price) AS No, *\n",
        "  FROM\n",
        "  (SELECT DISTINCT * FROM fact_trans_data WHERE PRODUCT_ID == 1136715)\n",
        "  ORDER BY PRODUCT_ID, Cust_paid_price\n",
        "''').show(50)"
      ],
      "metadata": {
        "colab": {
          "base_uri": "https://localhost:8080/"
        },
        "id": "wqBT_YcyBlnx",
        "outputId": "30a93454-78e4-4156-e57a-c3f7ee0c4729"
      },
      "execution_count": null,
      "outputs": [
        {
          "output_type": "stream",
          "name": "stdout",
          "text": [
            "+---+----------+---------------+--------+\n",
            "| No|PRODUCT_ID|Cust_paid_price|QUANTITY|\n",
            "+---+----------+---------------+--------+\n",
            "|  1|   1136715|            0.5|     1.0|\n",
            "|  2|   1136715|           0.67|     1.0|\n",
            "|  3|   1136715|            0.7|     1.0|\n",
            "|  4|   1136715|           0.88|     1.0|\n",
            "|  5|   1136715|           0.91|     1.0|\n",
            "|  6|   1136715|           0.95|     1.0|\n",
            "|  7|   1136715|           0.98|     1.0|\n",
            "|  8|   1136715|           0.99|     1.0|\n",
            "|  9|   1136715|            1.0|     1.0|\n",
            "| 10|   1136715|           1.03|     1.0|\n",
            "| 11|   1136715|            1.2|     1.0|\n",
            "| 12|   1136715|           1.29|     1.0|\n",
            "| 13|   1136715|           1.43|     1.0|\n",
            "| 14|   1136715|           1.44|     1.0|\n",
            "| 15|   1136715|           1.58|     1.0|\n",
            "| 16|   1136715|           1.62|     1.0|\n",
            "| 17|   1136715|           1.63|     1.0|\n",
            "| 18|   1136715|           1.76|     1.0|\n",
            "| 19|   1136715|           1.77|     1.0|\n",
            "| 20|   1136715|           1.81|     1.0|\n",
            "| 21|   1136715|           1.97|     1.0|\n",
            "| 22|   1136715|           1.99|     1.0|\n",
            "| 23|   1136715|           2.37|     1.0|\n",
            "| 24|   1136715|           2.47|     1.0|\n",
            "| 25|   1136715|           2.62|     1.0|\n",
            "| 26|   1136715|            2.7|     1.0|\n",
            "| 27|   1136715|           2.72|     1.0|\n",
            "| 28|   1136715|           2.73|     1.0|\n",
            "| 29|   1136715|           3.19|     1.0|\n",
            "| 30|   1136715|           3.23|     1.0|\n",
            "| 31|   1136715|           3.31|     1.0|\n",
            "| 32|   1136715|            3.5|     1.0|\n",
            "| 33|   1136715|           3.56|     1.0|\n",
            "| 34|   1136715|           3.66|     1.0|\n",
            "| 35|   1136715|           3.67|     1.0|\n",
            "| 36|   1136715|           3.87|     1.0|\n",
            "| 37|   1136715|           3.89|     1.0|\n",
            "| 38|   1136715|           4.06|     1.0|\n",
            "| 39|   1136715|           4.29|     1.0|\n",
            "| 40|   1136715|           4.43|     1.0|\n",
            "| 41|   1136715|           4.44|     1.0|\n",
            "| 42|   1136715|           5.33|     1.0|\n",
            "| 43|   1136715|           5.49|     1.0|\n",
            "| 44|   1136715|            5.5|     1.0|\n",
            "| 45|   1136715|           5.77|     1.0|\n",
            "+---+----------+---------------+--------+\n",
            "\n"
          ]
        }
      ]
    },
    {
      "cell_type": "markdown",
      "source": [
        "#####Finding: 17185 records"
      ],
      "metadata": {
        "id": "WGHnwPTQokwf"
      }
    },
    {
      "cell_type": "markdown",
      "source": [
        "######product_perfect_inelastic [list]"
      ],
      "metadata": {
        "id": "DRFCj5SITEI0"
      }
    },
    {
      "cell_type": "code",
      "source": [
        "product_perfect_inelastic = get_columnvalues_as_list(df_inelastic_demand,'PRODUCT_ID',1)\n",
        "len(product_perfect_inelastic)"
      ],
      "metadata": {
        "colab": {
          "base_uri": "https://localhost:8080/"
        },
        "id": "-U7Nb9ilECic",
        "outputId": "276f1588-a4c2-45f3-f494-b3d46042d83a"
      },
      "execution_count": null,
      "outputs": [
        {
          "output_type": "execute_result",
          "data": {
            "text/plain": [
              "17185"
            ]
          },
          "metadata": {},
          "execution_count": 60
        }
      ]
    },
    {
      "cell_type": "code",
      "source": [
        "find_common_elements_in_list(product_perfect_inelastic, product_unknown_elasticity_0 + product_unknown_elasticity_1)"
      ],
      "metadata": {
        "colab": {
          "base_uri": "https://localhost:8080/"
        },
        "id": "DIQSir4keVqD",
        "outputId": "2bb2f757-5b10-475d-c950-d0577021757f"
      },
      "execution_count": null,
      "outputs": [
        {
          "output_type": "execute_result",
          "data": {
            "text/plain": [
              "[]"
            ]
          },
          "metadata": {},
          "execution_count": 61
        }
      ]
    },
    {
      "cell_type": "markdown",
      "source": [
        "###Export result"
      ],
      "metadata": {
        "id": "J2vOvFvuFE3f"
      }
    },
    {
      "cell_type": "markdown",
      "source": [
        "#### df_result_perfect_inelastic"
      ],
      "metadata": {
        "id": "trpPaGQvP2gM"
      }
    },
    {
      "cell_type": "code",
      "source": [
        "df_inelastic_demand.createOrReplaceTempView(\"inelastic_demand\")"
      ],
      "metadata": {
        "id": "7ggD6cNrpWZw"
      },
      "execution_count": null,
      "outputs": []
    },
    {
      "cell_type": "code",
      "source": [
        "df_result_perfect_inelastic = spark.sql('''\n",
        "    SELECT\n",
        "        PRODUCT_ID,\n",
        "        0.00 AS Beta1,\n",
        "        1.00 AS Beta0,\n",
        "        NULL AS R2,\n",
        "        AVG(Cust_paid_price) AS P_avg,\n",
        "        AVG(QUANTITY) AS Q_avg,\n",
        "        0.00 AS Elasticity,\n",
        "        \"Perfectly Inelastic\" AS Demand_elasticity_type\n",
        "    FROM\n",
        "        fact_trans_data\n",
        "    GROUP BY\n",
        "        PRODUCT_ID\n",
        "    HAVING\n",
        "        PRODUCT_ID IN (SELECT DISTINCT PRODUCT_ID FROM inelastic_demand)\n",
        "\n",
        "''')\n",
        "df_result_perfect_inelastic.show()"
      ],
      "metadata": {
        "colab": {
          "base_uri": "https://localhost:8080/"
        },
        "id": "VUa3D0RBFIHr",
        "outputId": "1a65f9b9-5736-4097-86ab-01f09ab6b26a"
      },
      "execution_count": null,
      "outputs": [
        {
          "output_type": "stream",
          "name": "stdout",
          "text": [
            "+----------+-----+-----+----+------------------+-----+----------+----------------------+\n",
            "|PRODUCT_ID|Beta1|Beta0|  R2|             P_avg|Q_avg|Elasticity|Demand_elasticity_type|\n",
            "+----------+-----+-----+----+------------------+-----+----------+----------------------+\n",
            "|   6553035| 0.00| 1.00|NULL|10.253157894736843|  1.0|      0.00|   Perfectly Inelastic|\n",
            "|    897270| 0.00| 1.00|NULL|2.8353623188405797|  1.0|      0.00|   Perfectly Inelastic|\n",
            "|   1115517| 0.00| 1.00|NULL|             2.992|  1.0|      0.00|   Perfectly Inelastic|\n",
            "|  12352257| 0.00| 1.00|NULL|0.5685714285714286|  1.0|      0.00|   Perfectly Inelastic|\n",
            "|  13115561| 0.00| 1.00|NULL|2.1541176470588237|  1.0|      0.00|   Perfectly Inelastic|\n",
            "|  16809556| 0.00| 1.00|NULL| 4.390000000000001|  1.0|      0.00|   Perfectly Inelastic|\n",
            "|    910558| 0.00| 1.00|NULL| 3.691999999999999|  1.0|      0.00|   Perfectly Inelastic|\n",
            "|    827148| 0.00| 1.00|NULL| 9.847142857142858|  1.0|      0.00|   Perfectly Inelastic|\n",
            "|    962892| 0.00| 1.00|NULL|2.2988888888888885|  1.0|      0.00|   Perfectly Inelastic|\n",
            "|   9245098| 0.00| 1.00|NULL| 1.958235294117647|  1.0|      0.00|   Perfectly Inelastic|\n",
            "|   6904463| 0.00| 1.00|NULL| 3.637777777777777|  1.0|      0.00|   Perfectly Inelastic|\n",
            "|    839418| 0.00| 1.00|NULL|3.8600000000000003|  1.0|      0.00|   Perfectly Inelastic|\n",
            "|   1076703| 0.00| 1.00|NULL|5.7943750000000005|  1.0|      0.00|   Perfectly Inelastic|\n",
            "|   1353152| 0.00| 1.00|NULL|             1.234|  1.0|      0.00|   Perfectly Inelastic|\n",
            "|  15596093| 0.00| 1.00|NULL|2.2479999999999998|  1.0|      0.00|   Perfectly Inelastic|\n",
            "|   7442843| 0.00| 1.00|NULL|1.7536363636363637|  1.0|      0.00|   Perfectly Inelastic|\n",
            "|  13416932| 0.00| 1.00|NULL|3.6188888888888897|  1.0|      0.00|   Perfectly Inelastic|\n",
            "|    871604| 0.00| 1.00|NULL|1.9927272727272725|  1.0|      0.00|   Perfectly Inelastic|\n",
            "|   2851516| 0.00| 1.00|NULL|0.5733333333333333|  1.0|      0.00|   Perfectly Inelastic|\n",
            "|  15629841| 0.00| 1.00|NULL|3.3260000000000005|  1.0|      0.00|   Perfectly Inelastic|\n",
            "+----------+-----+-----+----+------------------+-----+----------+----------------------+\n",
            "only showing top 20 rows\n",
            "\n"
          ]
        }
      ]
    },
    {
      "cell_type": "code",
      "source": [
        "df_result_perfect_inelastic.printSchema()"
      ],
      "metadata": {
        "colab": {
          "base_uri": "https://localhost:8080/"
        },
        "id": "7VenwhQuQLQS",
        "outputId": "f57740f6-a8bc-4e6e-806d-da7c18b3c433"
      },
      "execution_count": null,
      "outputs": [
        {
          "output_type": "stream",
          "name": "stdout",
          "text": [
            "root\n",
            " |-- PRODUCT_ID: integer (nullable = true)\n",
            " |-- Beta1: decimal(2,2) (nullable = false)\n",
            " |-- Beta0: decimal(3,2) (nullable = false)\n",
            " |-- R2: void (nullable = true)\n",
            " |-- P_avg: double (nullable = true)\n",
            " |-- Q_avg: double (nullable = true)\n",
            " |-- Elasticity: decimal(2,2) (nullable = false)\n",
            " |-- Demand_elasticity_type: string (nullable = false)\n",
            "\n"
          ]
        }
      ]
    },
    {
      "cell_type": "code",
      "source": [
        "check_shape_in_df_spark(df_result_perfect_inelastic)"
      ],
      "metadata": {
        "colab": {
          "base_uri": "https://localhost:8080/"
        },
        "id": "8rkhHzH0OUda",
        "outputId": "b109ccec-6e97-400b-b9a4-6ef100668f78"
      },
      "execution_count": null,
      "outputs": [
        {
          "output_type": "stream",
          "name": "stdout",
          "text": [
            "Shape of dataframe:\n",
            "#rows: 17185\n",
            "#columns: 8\n"
          ]
        }
      ]
    },
    {
      "cell_type": "code",
      "source": [
        "for c in ['Beta1', 'Beta0', 'R2','Elasticity']:\n",
        "    df_result_perfect_inelastic = df_result_perfect_inelastic.withColumn(c, col(c).cast('double'))"
      ],
      "metadata": {
        "id": "fQqNQjOUQf4d"
      },
      "execution_count": null,
      "outputs": []
    },
    {
      "cell_type": "code",
      "source": [
        "df_result_perfect_inelastic.printSchema()"
      ],
      "metadata": {
        "colab": {
          "base_uri": "https://localhost:8080/"
        },
        "id": "DF50N0rrQ9fJ",
        "outputId": "40bf8e70-93ff-45b8-e955-e1b3ee03e2b5"
      },
      "execution_count": null,
      "outputs": [
        {
          "output_type": "stream",
          "name": "stdout",
          "text": [
            "root\n",
            " |-- PRODUCT_ID: integer (nullable = true)\n",
            " |-- Beta1: double (nullable = false)\n",
            " |-- Beta0: double (nullable = false)\n",
            " |-- R2: double (nullable = true)\n",
            " |-- P_avg: double (nullable = true)\n",
            " |-- Q_avg: double (nullable = true)\n",
            " |-- Elasticity: double (nullable = false)\n",
            " |-- Demand_elasticity_type: string (nullable = false)\n",
            "\n"
          ]
        }
      ]
    },
    {
      "cell_type": "code",
      "source": [
        "export_sparkdf_to_csv(df_result_perfect_inelastic, '/content/drive/MyDrive/DATA_SCI_SKILL/202406_CompleteJourneyProj/data set/02_DemandElasticity/', 'Result01_perfect_inelastic')"
      ],
      "metadata": {
        "colab": {
          "base_uri": "https://localhost:8080/"
        },
        "id": "sQmMZw20OYgW",
        "outputId": "21957dd8-b89c-436b-ba0b-8cc5a53362dc"
      },
      "execution_count": null,
      "outputs": [
        {
          "output_type": "stream",
          "name": "stdout",
          "text": [
            "Result01_perfect_inelastic.csv has been exported successfully.\n"
          ]
        }
      ]
    },
    {
      "cell_type": "markdown",
      "source": [
        "##2) Perfect Elastic Demand\n",
        "Perfectly elastic demand means that consumers are willing to buy any quantity of the product at a specific price, but they will not buy the product if the price increases, even slightly. This implies:\n",
        "\n",
        "- Zero Tolerance for Price Increase: Even a small increase in price results in the quantity demanded dropping to zero.\n",
        "- Horizontal Demand Curve: The demand curve is horizontal at the price level, meaning that the price is constant regardless of the quantity demanded.\n",
        "\n",
        "It happens when there is only 1 distinct customer-paid price  but various demand quantity (COUNT DISTINCT QTY > 1)."
      ],
      "metadata": {
        "id": "Ismh4zRcE-0F"
      }
    },
    {
      "cell_type": "markdown",
      "source": [
        "![image.png](data:image/png;base64,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)"
      ],
      "metadata": {
        "id": "Mf2VC84XfgP1"
      }
    },
    {
      "cell_type": "markdown",
      "source": [
        "**Practical Application of Perfectly Elastic Demand:**\n",
        "\n",
        "  While perfectly elastic demand is `largely theoretical and not observed in real-world markets`, it provides valuable insights into extreme cases of price sensitivity and helps in understanding competitive market dynamics, price setting, and consumer behavior under ideal conditions:\n",
        "1. **Market Theory and Benchmarking:**\n",
        "\n",
        "  - Perfectly elastic demand serves as a **theoretical benchmark** for understanding how **demand would behave in an idealized scenario** where consumers are incredibly sensitive to price changes.\n",
        "  - It helps in modeling and **theoretical analysis of market behavior**.\n",
        "\n",
        "2. **Price Setting and Competition:**\n",
        "\n",
        "  - In **highly competitive markets with many sellers** offering identical products, such as in certain agricultural or commodity markets, demand might approximate perfectly elastic behavior.\n",
        "  - In these cases, any price increase would lead to a complete loss of market share to competitors, reinforcing the need for **competitive pricing**.\n",
        "\n",
        "3. **Consumer Behavior Insights:**\n",
        "\n",
        "  - Although rare, products with near-perfect elasticity might exist in **niche markets** where any price change leads to an immediate and complete shift in demand.\n",
        "  - This insight is useful for understanding scenarios where consumers are **extremely price-sensitive**.\n",
        "\n",
        "4. **Price Discrimination and Strategic Pricing:**\n",
        "\n",
        "  - Setting Price Floors: Understanding the concept of perfectly elastic demand can help in **setting price floors and ceilings**.\n",
        "  - For products approaching perfect elasticity, businesses need to **ensure prices remain at or below the competitive equilibrium** to avoid losing all customers.\n",
        "\n",
        "5. **Regulation and Policy Making:**\n",
        "  - Policymakers can use the concept of perfectly elastic demand to **evaluate the effects of taxation or subsidies**.\n",
        "  - If a market **were to exhibit near-perfect elasticity**, even `small changes in price due to policy could have significant impacts on demand`."
      ],
      "metadata": {
        "id": "8v295SMxGz-R"
      }
    },
    {
      "cell_type": "markdown",
      "source": [
        "### df_elastic_demand"
      ],
      "metadata": {
        "id": "Q24YPhDtuem1"
      }
    },
    {
      "cell_type": "code",
      "source": [
        "df_elastic_demand = spark.sql('''\n",
        "    WITH product_with_one_price AS(\n",
        "      SELECT\n",
        "        PRODUCT_ID,\n",
        "        COUNT(DISTINCT Cust_paid_price) AS PRICE_grpcountD,\n",
        "        COUNT(Cust_paid_price) AS Record_count\n",
        "      FROM\n",
        "        fact_trans_data\n",
        "      GROUP BY\n",
        "        PRODUCT_ID\n",
        "      HAVING\n",
        "        COUNT(DISTINCT Cust_paid_price) = 1 AND COUNT(Cust_paid_price) > 1\n",
        "    )\n",
        "\n",
        "    SELECT\n",
        "        PRODUCT_ID,\n",
        "        Cust_paid_price,\n",
        "        COUNT(DISTINCT QUANTITY) AS QTYgrp_count_d,\n",
        "        COUNT(QUANTITY) AS record_count\n",
        "    FROM\n",
        "        fact_trans_data\n",
        "    GROUP BY\n",
        "        PRODUCT_ID, Cust_paid_price\n",
        "    HAVING\n",
        "        PRODUCT_ID IN (SELECT PRODUCT_ID FROM product_with_one_price) AND\n",
        "        COUNT(DISTINCT QUANTITY) > 1 AND COUNT(QUANTITY) > 1\n",
        "    ORDER BY PRODUCT_ID, Cust_paid_price, QTYgrp_count_d\n",
        "''')\n",
        "df_elastic_demand.show(50)"
      ],
      "metadata": {
        "colab": {
          "base_uri": "https://localhost:8080/"
        },
        "id": "aOS600mlq_F7",
        "outputId": "e91def9e-a014-4829-c97d-4331180dcd24"
      },
      "execution_count": null,
      "outputs": [
        {
          "output_type": "stream",
          "name": "stdout",
          "text": [
            "+----------+---------------+--------------+------------+\n",
            "|PRODUCT_ID|Cust_paid_price|QTYgrp_count_d|record_count|\n",
            "+----------+---------------+--------------+------------+\n",
            "|     25671|           3.49|             2|           3|\n",
            "|     26691|           2.79|             2|           2|\n",
            "|     27159|           0.27|             2|           2|\n",
            "|     27951|           2.99|             2|           2|\n",
            "|     30049|           1.19|             2|           2|\n",
            "|     31349|           3.79|             2|           2|\n",
            "|     34233|           0.99|             2|           2|\n",
            "|     34601|            0.5|             2|           3|\n",
            "|     34634|            0.5|             3|           4|\n",
            "|     35331|            0.5|             3|           9|\n",
            "|     38022|            2.0|             3|           3|\n",
            "|     39839|           0.75|             2|           2|\n",
            "|     40504|            2.0|             2|           2|\n",
            "|     41071|           2.99|             2|           2|\n",
            "|     42465|           1.09|             2|           2|\n",
            "|     42478|            0.9|             2|           2|\n",
            "|     42669|           0.99|             2|           3|\n",
            "|     44599|           0.95|             2|           2|\n",
            "|     45372|           0.89|             2|           2|\n",
            "|     45497|           1.89|             2|          10|\n",
            "|     45957|            0.3|             2|           2|\n",
            "|     47725|           2.49|             2|           4|\n",
            "|     50205|           0.75|             2|           3|\n",
            "|     50233|            1.5|             2|           2|\n",
            "|     50553|           0.53|             2|           4|\n",
            "|     51129|           0.53|             3|           4|\n",
            "|     51640|           0.99|             2|           2|\n",
            "|     51716|           0.52|             5|          24|\n",
            "|     51832|           0.45|             2|           3|\n",
            "|     52686|           0.25|             3|           3|\n",
            "|     52876|            0.6|             2|           2|\n",
            "|     53045|            1.0|             2|           3|\n",
            "|     53979|            2.5|             2|           3|\n",
            "|     55143|            1.0|             2|           2|\n",
            "|     56098|           0.42|             3|           5|\n",
            "|     60570|            1.0|             2|           4|\n",
            "|     62438|           0.99|             2|           2|\n",
            "|     62573|           3.99|             2|           3|\n",
            "|     62949|            1.0|             2|           3|\n",
            "|     62981|           2.01|             2|           2|\n",
            "|     63162|           1.19|             2|           5|\n",
            "|     64527|           0.55|             2|           2|\n",
            "|     67205|            2.5|             2|           2|\n",
            "|     67254|           2.47|             2|           2|\n",
            "|     68744|           1.99|             2|           2|\n",
            "|     71759|           0.69|             2|           2|\n",
            "|     72013|            1.0|             2|           2|\n",
            "|     73207|           1.49|             4|          16|\n",
            "|     73243|           2.99|             2|           3|\n",
            "|     74980|           1.99|             2|           5|\n",
            "+----------+---------------+--------------+------------+\n",
            "only showing top 50 rows\n",
            "\n"
          ]
        }
      ]
    },
    {
      "cell_type": "code",
      "source": [
        "spark.sql('''\n",
        "  SELECT ROW_NUMBER() OVER(PARTITION BY QUANTITY ORDER BY QUANTITY) AS No,*\n",
        "  FROM fact_trans_data\n",
        "  WHERE PRODUCT_ID == 51716\n",
        "  ORDER BY PRODUCT_ID, QUANTITY\n",
        "''').show(50)"
      ],
      "metadata": {
        "colab": {
          "base_uri": "https://localhost:8080/"
        },
        "id": "nsIyIdUsUKkw",
        "outputId": "1e8acd3b-800e-488f-c232-46ac8bc2f554"
      },
      "execution_count": null,
      "outputs": [
        {
          "output_type": "stream",
          "name": "stdout",
          "text": [
            "+---+----------+---------------+--------+\n",
            "| No|PRODUCT_ID|Cust_paid_price|QUANTITY|\n",
            "+---+----------+---------------+--------+\n",
            "|  1|     51716|           0.52|     1.0|\n",
            "|  1|     51716|           0.52|     2.0|\n",
            "|  2|     51716|           0.52|     2.0|\n",
            "|  3|     51716|           0.52|     2.0|\n",
            "|  4|     51716|           0.52|     2.0|\n",
            "|  5|     51716|           0.52|     2.0|\n",
            "|  6|     51716|           0.52|     2.0|\n",
            "|  7|     51716|           0.52|     2.0|\n",
            "|  8|     51716|           0.52|     2.0|\n",
            "|  1|     51716|           0.52|     4.0|\n",
            "|  2|     51716|           0.52|     4.0|\n",
            "|  3|     51716|           0.52|     4.0|\n",
            "|  4|     51716|           0.52|     4.0|\n",
            "|  1|     51716|           0.52|     6.0|\n",
            "|  2|     51716|           0.52|     6.0|\n",
            "|  3|     51716|           0.52|     6.0|\n",
            "|  4|     51716|           0.52|     6.0|\n",
            "|  5|     51716|           0.52|     6.0|\n",
            "|  6|     51716|           0.52|     6.0|\n",
            "|  7|     51716|           0.52|     6.0|\n",
            "|  8|     51716|           0.52|     6.0|\n",
            "|  1|     51716|           0.52|     8.0|\n",
            "|  2|     51716|           0.52|     8.0|\n",
            "|  3|     51716|           0.52|     8.0|\n",
            "+---+----------+---------------+--------+\n",
            "\n"
          ]
        }
      ]
    },
    {
      "cell_type": "markdown",
      "source": [
        "####Finding: 3819 records"
      ],
      "metadata": {
        "id": "ppQWMeJz4mxV"
      }
    },
    {
      "cell_type": "markdown",
      "source": [
        "##### product_perfect_elastic [list]"
      ],
      "metadata": {
        "id": "OrqXdgU85Ng4"
      }
    },
    {
      "cell_type": "code",
      "source": [
        "product_perfect_elastic = get_columnvalues_as_list(df_elastic_demand,'PRODUCT_ID',1)\n",
        "len(product_perfect_elastic)"
      ],
      "metadata": {
        "id": "3RZ1ANvcubQX",
        "colab": {
          "base_uri": "https://localhost:8080/"
        },
        "outputId": "3313aa84-308c-4049-ee93-5362e62c3af9"
      },
      "execution_count": null,
      "outputs": [
        {
          "output_type": "execute_result",
          "data": {
            "text/plain": [
              "3819"
            ]
          },
          "metadata": {},
          "execution_count": 71
        }
      ]
    },
    {
      "cell_type": "code",
      "source": [
        "find_common_elements_in_list(product_perfect_elastic,product_perfect_inelastic)"
      ],
      "metadata": {
        "colab": {
          "base_uri": "https://localhost:8080/"
        },
        "id": "HgtKrzko4-VL",
        "outputId": "086a39ed-e989-4758-ae0d-25cfebab5f8e"
      },
      "execution_count": null,
      "outputs": [
        {
          "output_type": "execute_result",
          "data": {
            "text/plain": [
              "[]"
            ]
          },
          "metadata": {},
          "execution_count": 72
        }
      ]
    },
    {
      "cell_type": "code",
      "source": [
        "find_common_elements_in_list(product_perfect_elastic,product_unknown_elasticity)"
      ],
      "metadata": {
        "colab": {
          "base_uri": "https://localhost:8080/"
        },
        "id": "3CDLSdDY40Jb",
        "outputId": "fe9cdff1-8228-4e1d-a314-b22ff2687750"
      },
      "execution_count": null,
      "outputs": [
        {
          "output_type": "execute_result",
          "data": {
            "text/plain": [
              "[]"
            ]
          },
          "metadata": {},
          "execution_count": 73
        }
      ]
    },
    {
      "cell_type": "markdown",
      "source": [
        "### Export result"
      ],
      "metadata": {
        "id": "HUz48dG6-01_"
      }
    },
    {
      "cell_type": "markdown",
      "source": [
        "#### df_result_perfect_elastic"
      ],
      "metadata": {
        "id": "MVL3BDoZ-yh5"
      }
    },
    {
      "cell_type": "code",
      "source": [
        "df_elastic_demand.createOrReplaceTempView(\"elastic_demand\")"
      ],
      "metadata": {
        "id": "YQDvHu8a-s_u"
      },
      "execution_count": null,
      "outputs": []
    },
    {
      "cell_type": "code",
      "source": [
        "df_result_perfect_elastic = spark.sql('''\n",
        "    SELECT\n",
        "        PRODUCT_ID,\n",
        "        NULL AS Beta1,\n",
        "        NULL AS Beta0,\n",
        "        NULL AS R2,\n",
        "        AVG(Cust_paid_price) AS P_avg,\n",
        "        AVG(QUANTITY) AS Q_avg,\n",
        "        NULL AS Elasticity,\n",
        "        \"Perfectly Elastic\" AS Demand_elasticity_type\n",
        "    FROM\n",
        "        fact_trans_data\n",
        "    GROUP BY\n",
        "        PRODUCT_ID\n",
        "    HAVING\n",
        "        PRODUCT_ID IN (SELECT DISTINCT PRODUCT_ID FROM elastic_demand)\n",
        "\n",
        "''')\n",
        "df_result_perfect_elastic.show()"
      ],
      "metadata": {
        "colab": {
          "base_uri": "https://localhost:8080/"
        },
        "id": "JyWMP9Zh_Xge",
        "outputId": "1009180c-47b5-4fb4-bf09-3d78d9138d4e"
      },
      "execution_count": null,
      "outputs": [
        {
          "output_type": "stream",
          "name": "stdout",
          "text": [
            "+----------+-----+-----+----+-------------------+------------------+----------+----------------------+\n",
            "|PRODUCT_ID|Beta1|Beta0|  R2|              P_avg|             Q_avg|Elasticity|Demand_elasticity_type|\n",
            "+----------+-----+-----+----+-------------------+------------------+----------+----------------------+\n",
            "|  10456237| NULL| NULL|NULL|               1.69| 1.105263157894737|      NULL|     Perfectly Elastic|\n",
            "|    895361| NULL| NULL|NULL|               6.99|              1.25|      NULL|     Perfectly Elastic|\n",
            "|    898526| NULL| NULL|NULL|0.29999999999999993|1.4516129032258065|      NULL|     Perfectly Elastic|\n",
            "|  15972711| NULL| NULL|NULL|0.39999999999999997|1.6666666666666667|      NULL|     Perfectly Elastic|\n",
            "|  18005394| NULL| NULL|NULL| 1.2899999999999998|             1.125|      NULL|     Perfectly Elastic|\n",
            "|    908605| NULL| NULL|NULL|               2.19|               1.3|      NULL|     Perfectly Elastic|\n",
            "|  13671680| NULL| NULL|NULL|               1.29|1.3333333333333333|      NULL|     Perfectly Elastic|\n",
            "|  15863907| NULL| NULL|NULL|              5.745|               3.0|      NULL|     Perfectly Elastic|\n",
            "|  13986804| NULL| NULL|NULL|               8.99|               1.5|      NULL|     Perfectly Elastic|\n",
            "|   8090876| NULL| NULL|NULL|               0.59|               2.5|      NULL|     Perfectly Elastic|\n",
            "|  13672318| NULL| NULL|NULL|               4.19|               1.5|      NULL|     Perfectly Elastic|\n",
            "|    825061| NULL| NULL|NULL|               1.25|1.6666666666666667|      NULL|     Perfectly Elastic|\n",
            "|    331224| NULL| NULL|NULL|0.20000000000000004|               4.0|      NULL|     Perfectly Elastic|\n",
            "|   1061979| NULL| NULL|NULL| 0.9899999999999999|1.3333333333333333|      NULL|     Perfectly Elastic|\n",
            "|    201946| NULL| NULL|NULL|                1.0|              1.25|      NULL|     Perfectly Elastic|\n",
            "|    899838| NULL| NULL|NULL|               0.49|1.8611111111111112|      NULL|     Perfectly Elastic|\n",
            "|   1013928| NULL| NULL|NULL|               10.0|1.1366120218579234|      NULL|     Perfectly Elastic|\n",
            "|   9221329| NULL| NULL|NULL|                3.0|              1.25|      NULL|     Perfectly Elastic|\n",
            "|   2476069| NULL| NULL|NULL|               3.49|               1.5|      NULL|     Perfectly Elastic|\n",
            "|   1082290| NULL| NULL|NULL|               1.49|               1.5|      NULL|     Perfectly Elastic|\n",
            "+----------+-----+-----+----+-------------------+------------------+----------+----------------------+\n",
            "only showing top 20 rows\n",
            "\n"
          ]
        }
      ]
    },
    {
      "cell_type": "code",
      "source": [
        "check_shape_in_df_spark(df_result_perfect_elastic)"
      ],
      "metadata": {
        "colab": {
          "base_uri": "https://localhost:8080/"
        },
        "id": "XY_LHvQOAXP5",
        "outputId": "c36ea61d-fcff-4ec6-d8ab-9ee8a96bc775"
      },
      "execution_count": null,
      "outputs": [
        {
          "output_type": "stream",
          "name": "stdout",
          "text": [
            "Shape of dataframe:\n",
            "#rows: 3819\n",
            "#columns: 8\n"
          ]
        }
      ]
    },
    {
      "cell_type": "code",
      "source": [
        "df_result_perfect_elastic.printSchema()"
      ],
      "metadata": {
        "colab": {
          "base_uri": "https://localhost:8080/"
        },
        "id": "HVLbKDK_AN1E",
        "outputId": "66f9c5bb-8301-439b-bea4-26cfa243f8bd"
      },
      "execution_count": null,
      "outputs": [
        {
          "output_type": "stream",
          "name": "stdout",
          "text": [
            "root\n",
            " |-- PRODUCT_ID: integer (nullable = true)\n",
            " |-- Beta1: void (nullable = true)\n",
            " |-- Beta0: void (nullable = true)\n",
            " |-- R2: void (nullable = true)\n",
            " |-- P_avg: double (nullable = true)\n",
            " |-- Q_avg: double (nullable = true)\n",
            " |-- Elasticity: void (nullable = true)\n",
            " |-- Demand_elasticity_type: string (nullable = false)\n",
            "\n"
          ]
        }
      ]
    },
    {
      "cell_type": "code",
      "source": [
        "for c in ['Beta1', 'Beta0', 'R2', 'Elasticity']:\n",
        "    df_result_perfect_elastic = df_result_perfect_elastic.withColumn(c, col(c).cast('double'))"
      ],
      "metadata": {
        "id": "eKpa4VHLAdYN"
      },
      "execution_count": null,
      "outputs": []
    },
    {
      "cell_type": "code",
      "source": [
        "df_result_perfect_elastic.filter(col('P_avg').isNull()).show()"
      ],
      "metadata": {
        "colab": {
          "base_uri": "https://localhost:8080/"
        },
        "id": "WpKpha1HAoVh",
        "outputId": "efd721ff-dd57-4145-d81a-59789baded3e"
      },
      "execution_count": null,
      "outputs": [
        {
          "output_type": "stream",
          "name": "stdout",
          "text": [
            "+----------+-----+-----+---+-----+-----+----------+----------------------+\n",
            "|PRODUCT_ID|Beta1|Beta0| R2|P_avg|Q_avg|Elasticity|Demand_elasticity_type|\n",
            "+----------+-----+-----+---+-----+-----+----------+----------------------+\n",
            "+----------+-----+-----+---+-----+-----+----------+----------------------+\n",
            "\n"
          ]
        }
      ]
    },
    {
      "cell_type": "code",
      "source": [
        "df_result_perfect_elastic.printSchema()"
      ],
      "metadata": {
        "colab": {
          "base_uri": "https://localhost:8080/"
        },
        "id": "Ku1fnQIJA5MF",
        "outputId": "e11d2206-4f21-4c2b-e2ed-dc90748b70c4"
      },
      "execution_count": null,
      "outputs": [
        {
          "output_type": "stream",
          "name": "stdout",
          "text": [
            "root\n",
            " |-- PRODUCT_ID: integer (nullable = true)\n",
            " |-- Beta1: double (nullable = true)\n",
            " |-- Beta0: double (nullable = true)\n",
            " |-- R2: double (nullable = true)\n",
            " |-- P_avg: double (nullable = true)\n",
            " |-- Q_avg: double (nullable = true)\n",
            " |-- Elasticity: double (nullable = true)\n",
            " |-- Demand_elasticity_type: string (nullable = false)\n",
            "\n"
          ]
        }
      ]
    },
    {
      "cell_type": "code",
      "source": [
        "export_sparkdf_to_csv(df_result_perfect_elastic, '/content/drive/MyDrive/DATA_SCI_SKILL/202406_CompleteJourneyProj/data set/02_DemandElasticity/', 'Result02_perfect_elastic')"
      ],
      "metadata": {
        "colab": {
          "base_uri": "https://localhost:8080/"
        },
        "id": "eIPt2nX5BJUh",
        "outputId": "ebf87017-d1ea-4177-e902-75aaddeeb403"
      },
      "execution_count": null,
      "outputs": [
        {
          "output_type": "stream",
          "name": "stdout",
          "text": [
            "Result02_perfect_elastic.csv has been exported successfully.\n"
          ]
        }
      ]
    },
    {
      "cell_type": "markdown",
      "source": [
        "##3) Relative Elastic demand"
      ],
      "metadata": {
        "id": "M9lh9QIvBbLZ"
      }
    },
    {
      "cell_type": "markdown",
      "source": [
        "Perform by using simple linear regression to estimate elasticity"
      ],
      "metadata": {
        "id": "sAyC03aVBmy0"
      }
    },
    {
      "cell_type": "markdown",
      "source": [
        "https://openstax.org/books/introductory-business-statistics-2e/pages/13-5-interpretation-of-regression-coefficients-elasticity-and-logarithmic-transformation"
      ],
      "metadata": {
        "id": "iVCoqY9lCR9z"
      }
    },
    {
      "cell_type": "markdown",
      "source": [
        "The formula to estimate an elasticity when an OLS demand curve has been estimated becomes:"
      ],
      "metadata": {
        "id": "mvQzunP-CXIO"
      }
    },
    {
      "cell_type": "markdown",
      "source": [
        "![image.png](data:image/png;base64,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)"
      ],
      "metadata": {
        "id": "ma82sTG2CP9G"
      }
    },
    {
      "cell_type": "code",
      "source": [
        "#Product_id left to perform linear regression\n",
        "92015-3819-17185-10323-33542"
      ],
      "metadata": {
        "colab": {
          "base_uri": "https://localhost:8080/"
        },
        "id": "8fYoP2_J4N8Q",
        "outputId": "99b80797-709b-4301-bece-e1661facbaed"
      },
      "execution_count": null,
      "outputs": [
        {
          "output_type": "execute_result",
          "data": {
            "text/plain": [
              "27146"
            ]
          },
          "metadata": {},
          "execution_count": 82
        }
      ]
    },
    {
      "cell_type": "markdown",
      "source": [
        "###df_relative_elastic_demand"
      ],
      "metadata": {
        "id": "kTWD8hRPC6hW"
      }
    },
    {
      "cell_type": "code",
      "source": [
        "df_relative_elastic_demand = df_fact_trans_data.filter(~df_fact_trans_data[\"PRODUCT_ID\"].isin(product_unknown_elasticity + product_perfect_elastic + product_perfect_inelastic))\n",
        "df_relative_elastic_demand.show()"
      ],
      "metadata": {
        "colab": {
          "base_uri": "https://localhost:8080/",
          "height": 176
        },
        "id": "7iZFFwMoCtki",
        "outputId": "38abf9fc-9c5b-4741-f50c-4ae10e73ad35"
      },
      "execution_count": null,
      "outputs": [
        {
          "output_type": "error",
          "ename": "NameError",
          "evalue": "name 'product_unknown_elasticity' is not defined",
          "traceback": [
            "\u001b[0;31m---------------------------------------------------------------------------\u001b[0m",
            "\u001b[0;31mNameError\u001b[0m                                 Traceback (most recent call last)",
            "\u001b[0;32m<ipython-input-37-4bdeff9324dc>\u001b[0m in \u001b[0;36m<cell line: 1>\u001b[0;34m()\u001b[0m\n\u001b[0;32m----> 1\u001b[0;31m \u001b[0mdf_relative_elastic_demand\u001b[0m \u001b[0;34m=\u001b[0m \u001b[0mdf_fact_trans_data\u001b[0m\u001b[0;34m.\u001b[0m\u001b[0mfilter\u001b[0m\u001b[0;34m(\u001b[0m\u001b[0;34m~\u001b[0m\u001b[0mdf_fact_trans_data\u001b[0m\u001b[0;34m[\u001b[0m\u001b[0;34m\"PRODUCT_ID\"\u001b[0m\u001b[0;34m]\u001b[0m\u001b[0;34m.\u001b[0m\u001b[0misin\u001b[0m\u001b[0;34m(\u001b[0m\u001b[0mproduct_unknown_elasticity\u001b[0m \u001b[0;34m+\u001b[0m \u001b[0mproduct_perfect_elastic\u001b[0m \u001b[0;34m+\u001b[0m \u001b[0mproduct_perfect_inelastic\u001b[0m\u001b[0;34m)\u001b[0m\u001b[0;34m)\u001b[0m\u001b[0;34m\u001b[0m\u001b[0;34m\u001b[0m\u001b[0m\n\u001b[0m\u001b[1;32m      2\u001b[0m \u001b[0mdf_relative_elastic_demand\u001b[0m\u001b[0;34m.\u001b[0m\u001b[0mshow\u001b[0m\u001b[0;34m(\u001b[0m\u001b[0;34m)\u001b[0m\u001b[0;34m\u001b[0m\u001b[0;34m\u001b[0m\u001b[0m\n",
            "\u001b[0;31mNameError\u001b[0m: name 'product_unknown_elasticity' is not defined"
          ]
        }
      ]
    },
    {
      "cell_type": "code",
      "source": [
        "df_relative_elastic_demand.printSchema()"
      ],
      "metadata": {
        "colab": {
          "base_uri": "https://localhost:8080/"
        },
        "id": "jPkL-UT3Duyg",
        "outputId": "f1bef602-b341-4aa0-f23f-e874d9d66dd9"
      },
      "execution_count": null,
      "outputs": [
        {
          "output_type": "stream",
          "name": "stdout",
          "text": [
            "root\n",
            " |-- PRODUCT_ID: integer (nullable = true)\n",
            " |-- Cust_paid_price: double (nullable = true)\n",
            " |-- QUANTITY: double (nullable = true)\n",
            "\n"
          ]
        }
      ]
    },
    {
      "cell_type": "code",
      "source": [
        "df_relative_elastic_demand.describe().show()"
      ],
      "metadata": {
        "colab": {
          "base_uri": "https://localhost:8080/"
        },
        "id": "XPukn7_JDj-K",
        "outputId": "3852ca8b-49a2-43d7-b76c-6306c098ea4d"
      },
      "execution_count": null,
      "outputs": [
        {
          "output_type": "stream",
          "name": "stdout",
          "text": [
            "+-------+------------------+------------------+------------------+\n",
            "|summary|        PRODUCT_ID|   Cust_paid_price|          QUANTITY|\n",
            "+-------+------------------+------------------+------------------+\n",
            "|  count|           2299794|           2299794|           2299794|\n",
            "|   mean| 2647655.679085605| 2.220118520947005| 113.1921837347171|\n",
            "| stddev|3578904.5476174816|2.1517574205883854|1224.6650790886451|\n",
            "|    min|             26540|               0.0|               1.0|\n",
            "|    max|          18203921|             455.0|           89638.0|\n",
            "+-------+------------------+------------------+------------------+\n",
            "\n"
          ]
        }
      ]
    },
    {
      "cell_type": "markdown",
      "source": [
        "####Finding: 27146 records"
      ],
      "metadata": {
        "id": "wY_8eJYp1f1W"
      }
    },
    {
      "cell_type": "markdown",
      "source": [
        "#####product_relative_elastic [list]"
      ],
      "metadata": {
        "id": "rg1qrvyE3TKm"
      }
    },
    {
      "cell_type": "code",
      "source": [
        "product_relative_elastic = get_columnvalues_as_list(df_relative_elastic_demand, \"PRODUCT_ID\",1)\n",
        "len(product_relative_elastic)"
      ],
      "metadata": {
        "colab": {
          "base_uri": "https://localhost:8080/"
        },
        "id": "sTomHIAnmYof",
        "outputId": "7ef359b0-6d49-41eb-d478-699a0891f4dc"
      },
      "execution_count": null,
      "outputs": [
        {
          "output_type": "execute_result",
          "data": {
            "text/plain": [
              "27146"
            ]
          },
          "metadata": {},
          "execution_count": 91
        }
      ]
    },
    {
      "cell_type": "markdown",
      "source": [
        "######Export list"
      ],
      "metadata": {
        "id": "GImJRWmxbQ2K"
      }
    },
    {
      "cell_type": "code",
      "source": [
        "# Open the file in write mode and write the list values\n",
        "with open('/content/drive/MyDrive/DATA_SCI_SKILL/202406_CompleteJourneyProj/data set/02_DemandElasticity/product_relative_elastic.txt', 'w') as file:\n",
        "    for item in product_relative_elastic:\n",
        "        file.write(f\"{item}\\n\")"
      ],
      "metadata": {
        "id": "Sfozs6uNbQL-"
      },
      "execution_count": null,
      "outputs": []
    },
    {
      "cell_type": "markdown",
      "source": [
        "####EDA"
      ],
      "metadata": {
        "id": "PPX4h-nTgWOH"
      }
    },
    {
      "cell_type": "code",
      "source": [
        "df_relative_elastic_demand.createOrReplaceTempView(\"trans_relative_elastic_demand\")"
      ],
      "metadata": {
        "id": "8lFxqQcSgeld"
      },
      "execution_count": null,
      "outputs": []
    },
    {
      "cell_type": "code",
      "source": [
        "EDA_relative_qtybyprice = spark.sql('''\n",
        "  SELECT PRODUCT_ID, Cust_paid_price, COUNT(DISTINCT QUANTITY), AVG(QUANTITY), COUNT(QUANTITY) AS num_record\n",
        "  FROM trans_relative_elastic_demand\n",
        "  GROUP BY PRODUCT_ID, Cust_paid_price\n",
        "  ORDER BY PRODUCT_ID,COUNT(DISTINCT QUANTITY) ASC\n",
        "''')\n",
        "EDA_relative_qtybyprice.show()"
      ],
      "metadata": {
        "colab": {
          "base_uri": "https://localhost:8080/"
        },
        "id": "Rx2cyVH4g4-x",
        "outputId": "dcca046b-1d20-48b3-fe7e-881bd20d9db3"
      },
      "execution_count": null,
      "outputs": [
        {
          "output_type": "stream",
          "name": "stdout",
          "text": [
            "+----------+------------------+------------------------+------------------+----------+\n",
            "|PRODUCT_ID|   Cust_paid_price|count(DISTINCT QUANTITY)|     avg(QUANTITY)|num_record|\n",
            "+----------+------------------+------------------------+------------------+----------+\n",
            "|     26540|              0.91|                       1|               2.0|         1|\n",
            "|     26540|              0.97|                       1|               1.0|         1|\n",
            "|     27658|              0.99|                       1|               1.0|         7|\n",
            "|     27658|               1.0|                       2|               1.5|         6|\n",
            "|     27658|              0.79|                       2|             1.125|         8|\n",
            "|     27658|              0.88|                       2|               1.1|        10|\n",
            "|     27754|              1.34|                       1|               1.0|         1|\n",
            "|     27754|1.3333333333333333|                       1|               3.0|         2|\n",
            "|     27754|              1.59|                       1|               3.0|         1|\n",
            "|     27754|              1.39|                       1|               2.0|         1|\n",
            "|     27754|             1.335|                       1|               2.0|         2|\n",
            "|     27978|              4.99|                       1|               2.0|         1|\n",
            "|     27978|              5.99|                       2|               1.5|         2|\n",
            "|     27978|              6.99|                       2|3.3333333333333335|         3|\n",
            "|     28268|              0.99|                       1|               1.0|         1|\n",
            "|     28268|               1.0|                       1|               2.0|         1|\n",
            "|     28268|              0.88|                       1|               1.0|         1|\n",
            "|     28304|              0.53|                       1|               1.0|         1|\n",
            "|     28304|               0.2|                       1|               5.0|         1|\n",
            "|     28897|              0.54|                       1|               2.0|         1|\n",
            "+----------+------------------+------------------------+------------------+----------+\n",
            "only showing top 20 rows\n",
            "\n"
          ]
        }
      ]
    },
    {
      "cell_type": "markdown",
      "source": [
        "Returns only the rows with the minimum count of distinct Cust_paid_price"
      ],
      "metadata": {
        "id": "Bw98wkaBzrq1"
      }
    },
    {
      "cell_type": "code",
      "source": [
        "spark.sql('''\n",
        "  SELECT PRODUCT_ID, COUNT(DISTINCT Cust_paid_price) AS distinct_price_count\n",
        "  FROM trans_relative_elastic_demand\n",
        "  GROUP BY PRODUCT_ID\n",
        "  HAVING COUNT(DISTINCT Cust_paid_price) = (\n",
        "    SELECT MIN(price_count)\n",
        "    FROM (\n",
        "        SELECT COUNT(DISTINCT Cust_paid_price) AS price_count\n",
        "        FROM trans_relative_elastic_demand\n",
        "        GROUP BY PRODUCT_ID\n",
        "    )\n",
        "  )\n",
        "  ORDER BY distinct_price_count ASC\n",
        "''').show(50)"
      ],
      "metadata": {
        "colab": {
          "base_uri": "https://localhost:8080/"
        },
        "id": "9eEH6JrgtQU_",
        "outputId": "39b5c35c-f3f5-42b6-c7ee-7b4b608747c3"
      },
      "execution_count": null,
      "outputs": [
        {
          "output_type": "stream",
          "name": "stdout",
          "text": [
            "+----------+--------------------+\n",
            "|PRODUCT_ID|distinct_price_count|\n",
            "+----------+--------------------+\n",
            "|    902024|                   2|\n",
            "|   1328168|                   2|\n",
            "|  10355983|                   2|\n",
            "|  12384763|                   2|\n",
            "|    829452|                   2|\n",
            "|   6442850|                   2|\n",
            "|   9368487|                   2|\n",
            "|  15972688|                   2|\n",
            "|   1063244|                   2|\n",
            "|   1942515|                   2|\n",
            "|    947784|                   2|\n",
            "|  12949795|                   2|\n",
            "|   1325404|                   2|\n",
            "|  13911378|                   2|\n",
            "|   1056071|                   2|\n",
            "|    850207|                   2|\n",
            "|   1082608|                   2|\n",
            "|   8159433|                   2|\n",
            "|   9575330|                   2|\n",
            "|   1049722|                   2|\n",
            "|   1100552|                   2|\n",
            "|    999189|                   2|\n",
            "|  13987000|                   2|\n",
            "|  13777104|                   2|\n",
            "|    920757|                   2|\n",
            "|  15972700|                   2|\n",
            "|   1737953|                   2|\n",
            "|  12384912|                   2|\n",
            "|    875030|                   2|\n",
            "|   7442332|                   2|\n",
            "|   9194664|                   2|\n",
            "|    999966|                   2|\n",
            "|  16123358|                   2|\n",
            "|   6979435|                   2|\n",
            "|    859930|                   2|\n",
            "|   8181553|                   2|\n",
            "|    845514|                   2|\n",
            "|    869827|                   2|\n",
            "|   1050733|                   2|\n",
            "|    886416|                   2|\n",
            "|  15687115|                   2|\n",
            "|    892759|                   2|\n",
            "|   5996380|                   2|\n",
            "|    921269|                   2|\n",
            "|   1391600|                   2|\n",
            "|    832526|                   2|\n",
            "|   5979283|                   2|\n",
            "|   1057935|                   2|\n",
            "|   8198189|                   2|\n",
            "|  15800619|                   2|\n",
            "+----------+--------------------+\n",
            "only showing top 50 rows\n",
            "\n"
          ]
        }
      ]
    },
    {
      "cell_type": "markdown",
      "source": [
        "Return only the rows with the minimum count of distinct quantities"
      ],
      "metadata": {
        "id": "Cq54lvm00DkF"
      }
    },
    {
      "cell_type": "code",
      "source": [
        "spark.sql('''\n",
        "  SELECT PRODUCT_ID, COUNT(DISTINCT QUANTITY) AS distinct_quantity_count\n",
        "  FROM trans_relative_elastic_demand\n",
        "  GROUP BY PRODUCT_ID\n",
        "  HAVING COUNT(DISTINCT QUANTITY) = (\n",
        "      SELECT MIN(quantity_count)\n",
        "      FROM (\n",
        "          SELECT COUNT(DISTINCT QUANTITY) AS quantity_count\n",
        "          FROM trans_relative_elastic_demand\n",
        "          GROUP BY PRODUCT_ID\n",
        "      )\n",
        "  )\n",
        "  ORDER BY distinct_quantity_count ASC;\n",
        "''').show(50)"
      ],
      "metadata": {
        "colab": {
          "base_uri": "https://localhost:8080/"
        },
        "id": "t9--j0TR0Mns",
        "outputId": "5953eb97-a6b1-4865-ee0c-7ef842aaf11e"
      },
      "execution_count": null,
      "outputs": [
        {
          "output_type": "stream",
          "name": "stdout",
          "text": [
            "+----------+-----------------------+\n",
            "|PRODUCT_ID|distinct_quantity_count|\n",
            "+----------+-----------------------+\n",
            "|    937789|                      2|\n",
            "|   6513703|                      2|\n",
            "|   1138775|                      2|\n",
            "|  12428488|                      2|\n",
            "|    902024|                      2|\n",
            "|   1081915|                      2|\n",
            "|   1003031|                      2|\n",
            "|    890604|                      2|\n",
            "|    973051|                      2|\n",
            "|   9552792|                      2|\n",
            "|   9368487|                      2|\n",
            "|  10457241|                      2|\n",
            "|  13073225|                      2|\n",
            "|  13189847|                      2|\n",
            "|  13072680|                      2|\n",
            "|   1062074|                      2|\n",
            "|  15800767|                      2|\n",
            "|  13007357|                      2|\n",
            "|   1002431|                      2|\n",
            "|    946127|                      2|\n",
            "|  13213107|                      2|\n",
            "|   7432030|                      2|\n",
            "|   6442850|                      2|\n",
            "|  12330770|                      2|\n",
            "|   9526663|                      2|\n",
            "|    828613|                      2|\n",
            "|    903454|                      2|\n",
            "|    965815|                      2|\n",
            "|    944178|                      2|\n",
            "|  12649321|                      2|\n",
            "|   9526884|                      2|\n",
            "|  12949795|                      2|\n",
            "|  12777678|                      2|\n",
            "|   1068322|                      2|\n",
            "|   1942515|                      2|\n",
            "|    975658|                      2|\n",
            "|    850207|                      2|\n",
            "|   9677543|                      2|\n",
            "|    850574|                      2|\n",
            "|  15452443|                      2|\n",
            "|   1124818|                      2|\n",
            "|   1056071|                      2|\n",
            "|  15972688|                      2|\n",
            "|    838571|                      2|\n",
            "|   1025454|                      2|\n",
            "|    956167|                      2|\n",
            "|    853638|                      2|\n",
            "|  13115796|                      2|\n",
            "|   1055280|                      2|\n",
            "|  12384763|                      2|\n",
            "+----------+-----------------------+\n",
            "only showing top 50 rows\n",
            "\n"
          ]
        }
      ]
    },
    {
      "cell_type": "markdown",
      "source": [
        "From overall EDA, this dataset is suitable for regression analysis as it has more than 1 price[x] where each price has various qty response[y]."
      ],
      "metadata": {
        "id": "tr2BohWDndaP"
      }
    },
    {
      "cell_type": "markdown",
      "source": [
        "### Estimate Trendline using regression model"
      ],
      "metadata": {
        "id": "0JG877qI3aXo"
      }
    },
    {
      "cell_type": "markdown",
      "source": [
        "####Import list of product_id relevant to this part [Comment this part if not run batch]"
      ],
      "metadata": {
        "id": "bnEMDQGWgYaD"
      }
    },
    {
      "cell_type": "code",
      "source": [
        "#Import list (Comment this if not run batch)\n",
        "with open('/content/drive/MyDrive/DATA_SCI_SKILL/202406_CompleteJourneyProj/data set/02_DemandElasticity/product_relative_elastic.txt', 'r') as file:\n",
        "    # Read the entire file and split by newline characters\n",
        "    content = file.read().strip()\n",
        "    # Split the content by newlines to create a list\n",
        "    my_list = content.split('\\n')"
      ],
      "metadata": {
        "id": "gLT4qN1jf-8K"
      },
      "execution_count": null,
      "outputs": []
    },
    {
      "cell_type": "code",
      "source": [
        "#Comment this part if not run batch\n",
        "#product_relative_elastic = my_list\n",
        "#len(product_relative_elastic)"
      ],
      "metadata": {
        "colab": {
          "base_uri": "https://localhost:8080/"
        },
        "id": "gWIGdBQDgzDi",
        "outputId": "9730015d-3017-41ed-b8e6-15aab6f62c0d"
      },
      "execution_count": null,
      "outputs": [
        {
          "output_type": "execute_result",
          "data": {
            "text/plain": [
              "27146"
            ]
          },
          "metadata": {},
          "execution_count": 39
        }
      ]
    },
    {
      "cell_type": "code",
      "source": [
        "#Comment this part if not run batch\n",
        "#df_trans_agg_relative_elastic = df_fact_trans_data.filter(df_fact_trans_data[\"PRODUCT_ID\"].isin(product_relative_elastic))"
      ],
      "metadata": {
        "id": "L1cWJyyyhKzd"
      },
      "execution_count": null,
      "outputs": []
    },
    {
      "cell_type": "code",
      "source": [
        "#Comment this part if not run batch\n",
        "#df_trans_agg_relative_elastic.createOrReplaceTempView(\"trans_relative_elastic_demand\")"
      ],
      "metadata": {
        "id": "SWzn-uDzjXuL"
      },
      "execution_count": null,
      "outputs": []
    },
    {
      "cell_type": "markdown",
      "source": [
        "####Aggregate data for regression analysis"
      ],
      "metadata": {
        "id": "T0Tp8Mr4gZyL"
      }
    },
    {
      "cell_type": "markdown",
      "source": [
        "For analysis using simple linear regression in price[x]-demand[y] elasticity analysis, there is the assumption that each unique value of (x) MUST HAVE single corresponding value of (y). In other words, each data point has a unique (x)-(y) pair. Thus **aggregation is required**."
      ],
      "metadata": {
        "id": "VCMLIYZeEw4k"
      }
    },
    {
      "cell_type": "markdown",
      "source": [
        "To perform price elasticity of demand (PED) analysis using simple linear regression, the focus will be on **how changes in price impact quantity demanded**:\n",
        "- **Aggregating AVG(QTY[y]) data by each price[x]** aims to analyze how the average quantity demanded changes with price, capturing the true relationship between price and quantity, providing a more accurate estimate of price elasticity.\n",
        "  - From overall statistics, there is a high standard deviation relative to the mean, indicating **considerable variability** in the data, which can `obscure the true relationship between price and quantity` if analyzed on a granular level.\n",
        "  - Aggregating average quantity by price can help **smooth out the fluctuations and outliers in QTY data**, achieving a `clearer trend and better insights` into the price-quantity relationship."
      ],
      "metadata": {
        "id": "IPFNH4z0bbAJ"
      }
    },
    {
      "cell_type": "markdown",
      "source": [
        "**Remark:** *Aggregating average price by each fixed quantity* **is not appropriate** for estimating price elasticity of demand because:\n",
        "\n",
        "1) **Distortion of Price-Quantity Relationship**\n",
        "- Aggregating price by a fixed quantity is `not capturing variations in price [x]` that correspond to different levels of demand [y] but might end up with `misleading or less relevant average prices for each quantity`.\n",
        "\n",
        "2) **Loss of Information due to Varied Price Points**\n",
        "- Aggregating average price by a fixed quantity will **mix different price levels into a single average**, thereby `losing` detailed information about `how price changes influence quantity demanded`.\n",
        "\n",
        "3) **Bias in Regression Analysis**\n",
        "- When prices are aggregated for each fixed quantities, `the regression model may not accurately capture how price affects quantity`.\n",
        "- This can result in biased estimates of price elasticity, as **the average price for each fixed quantity might not represent the true market conditions** where prices and quantities vary more dynamically.\n",
        "\n",
        "4) **Impact on Elasticity Estimation**\n",
        "- Accurate elasticity calculation requires a direct correlation between varying prices [x] and the resulting quantity [y] changes.\n",
        "- Averaging prices for fixed quantities will **disorder this direct relationship**, making it d`ifficult to estimate how quantity responds to price changes`.\n",
        "\n",
        "5) **Empirical Data Usage**\n",
        "- In real-world scenarios, prices are **not uniform for each quantity** as customers may buy different quantities at different prices.\n",
        "- Aggregating prices for fixed quantities does **not reflect this variability**, leading to `less accurate or less useful results for demand analysis`."
      ],
      "metadata": {
        "id": "N3eNlZG-d2Me"
      }
    },
    {
      "cell_type": "code",
      "source": [
        "df_trans_agg_relative_elastic = spark.sql('''\n",
        "    SELECT PRODUCT_ID, Cust_paid_price AS P, AVG(QUANTITY) AS Q\n",
        "    FROM trans_relative_elastic_demand\n",
        "    GROUP BY PRODUCT_ID, Cust_paid_price\n",
        "    ORDER BY PRODUCT_ID, Cust_paid_price\n",
        "''')"
      ],
      "metadata": {
        "id": "o-XspOAdW94Y"
      },
      "execution_count": null,
      "outputs": []
    },
    {
      "cell_type": "code",
      "source": [
        "df_trans_agg_relative_elastic.show()"
      ],
      "metadata": {
        "colab": {
          "base_uri": "https://localhost:8080/"
        },
        "id": "siLdAAZt008b",
        "outputId": "bd1addcb-b745-4eda-b5a3-9626c086a851"
      },
      "execution_count": null,
      "outputs": [
        {
          "output_type": "stream",
          "name": "stdout",
          "text": [
            "+----------+------------------+------------------+\n",
            "|PRODUCT_ID|                 P|                 Q|\n",
            "+----------+------------------+------------------+\n",
            "|     26540|              0.91|               2.0|\n",
            "|     26540|              0.97|               1.0|\n",
            "|     27658|              0.79|             1.125|\n",
            "|     27658|              0.88|               1.1|\n",
            "|     27658|              0.99|               1.0|\n",
            "|     27658|               1.0|               1.5|\n",
            "|     27754|1.3333333333333333|               3.0|\n",
            "|     27754|             1.335|               2.0|\n",
            "|     27754|              1.34|               1.0|\n",
            "|     27754|              1.39|               2.0|\n",
            "|     27754|              1.59|               3.0|\n",
            "|     27978|              4.99|               2.0|\n",
            "|     27978|              5.99|               1.5|\n",
            "|     27978|              6.99|3.3333333333333335|\n",
            "|     28268|              0.88|               1.0|\n",
            "|     28268|              0.99|               1.0|\n",
            "|     28268|               1.0|               2.0|\n",
            "|     28304|               0.2|               5.0|\n",
            "|     28304|              0.53|               1.0|\n",
            "|     28897|              0.54|               2.0|\n",
            "+----------+------------------+------------------+\n",
            "only showing top 20 rows\n",
            "\n"
          ]
        }
      ]
    },
    {
      "cell_type": "code",
      "source": [
        "df_trans_agg_relative_elastic.printSchema()"
      ],
      "metadata": {
        "colab": {
          "base_uri": "https://localhost:8080/"
        },
        "id": "0u97DUQa1ueM",
        "outputId": "e334b937-5434-440d-ae13-159b9da319a2"
      },
      "execution_count": null,
      "outputs": [
        {
          "output_type": "stream",
          "name": "stdout",
          "text": [
            "root\n",
            " |-- PRODUCT_ID: integer (nullable = true)\n",
            " |-- P: double (nullable = true)\n",
            " |-- Q: double (nullable = true)\n",
            "\n"
          ]
        }
      ]
    },
    {
      "cell_type": "markdown",
      "source": [
        "PED measures how responsive quantity demanded is to changes in price:\n",
        "- If PED > 1: Demand is elastic. A 1% increase in price leads to a more than 1% decrease in quantity demanded.\n",
        "- If PED = 1: Unitary elasticity. A 1% change in price corresponds to a 1% change in quantity demanded.\n",
        "- If PED < 1: Demand is inelastic. A 1% increase in price results in less than a 1% decrease in quantity demanded."
      ],
      "metadata": {
        "id": "ADpTxbZKNqh-"
      }
    },
    {
      "cell_type": "markdown",
      "source": [
        "#### Run Linear Regression Model"
      ],
      "metadata": {
        "id": "wbcPnJgK2L7N"
      }
    },
    {
      "cell_type": "code",
      "source": [
        "#Build dictionary to outcome values from regression model\n",
        "dict_beta1 = dict()\n",
        "dict_beta0 = dict()\n",
        "dict_r2 = dict()\n",
        "dict_pavg = dict()\n",
        "dict_qavg = dict()\n",
        "dict_elasticity = dict()"
      ],
      "metadata": {
        "id": "SZG1o34h4BCw"
      },
      "execution_count": null,
      "outputs": []
    },
    {
      "cell_type": "code",
      "source": [
        "from pyspark.ml.regression import LinearRegression\n",
        "from pyspark.ml.feature import VectorAssembler"
      ],
      "metadata": {
        "id": "jjPxGW045C4O"
      },
      "execution_count": null,
      "outputs": []
    },
    {
      "cell_type": "code",
      "source": [
        "print(product_relative_elastic[6788:6790])"
      ],
      "metadata": {
        "colab": {
          "base_uri": "https://localhost:8080/"
        },
        "id": "vJ5hjU6d5YWc",
        "outputId": "df4b1ae9-e5d6-4139-dbc6-9ef6d632b4b1"
      },
      "execution_count": null,
      "outputs": [
        {
          "output_type": "stream",
          "name": "stdout",
          "text": [
            "[941012, 941033]\n"
          ]
        }
      ]
    },
    {
      "cell_type": "code",
      "source": [
        "product_relative_elastic[6790:6792]"
      ],
      "metadata": {
        "colab": {
          "base_uri": "https://localhost:8080/"
        },
        "id": "pD8rk1m0csve",
        "outputId": "f8b26205-6866-46c2-95c6-84093892394e"
      },
      "execution_count": null,
      "outputs": [
        {
          "output_type": "execute_result",
          "data": {
            "text/plain": [
              "[941036, 941051]"
            ]
          },
          "metadata": {},
          "execution_count": 154
        }
      ]
    },
    {
      "cell_type": "code",
      "source": [
        "for product_id in product_relative_elastic:\n",
        "  # Filter only data by each product_id\n",
        "  df_data = spark.sql(f'''\n",
        "    SELECT P,Q\n",
        "    FROM trans_agg_relative_elastic\n",
        "    WHERE PRODUCT_ID = {product_id}\n",
        "  ''')\n",
        "  # Prepare data for MLlib\n",
        "  assembler = VectorAssembler(inputCols=[\"P\"], outputCol=\"features\")\n",
        "  data_transformed = assembler.transform(df_data).select(col(\"features\"), col(\"Q\").alias(\"label\"))\n",
        "\n",
        "  # Fit the Linear Regression model\n",
        "  lr = LinearRegression(featuresCol=\"features\", labelCol=\"label\")\n",
        "  lr_model = lr.fit(data_transformed)\n",
        "\n",
        "  # Extract coefficients\n",
        "  beta1 = lr_model.coefficients[0]\n",
        "  beta0 = lr_model.intercept\n",
        "  # Get R2 value\n",
        "  r2 = lr_model.summary.r2\n",
        "\n",
        "  # Calculate average price and quantity\n",
        "  P_avg = df_data.agg(avg(\"P\")).collect()[0][0]\n",
        "  Q_avg = df_data.agg(avg(\"Q\")).collect()[0][0]\n",
        "\n",
        "  # Calculate elasticity\n",
        "  elasticity = beta1 * (P_avg / Q_avg)\n",
        "\n",
        "  #Store outcome values from model in dict\n",
        "  dict_beta1[product_id] = beta1\n",
        "  dict_beta0[product_id] = beta0\n",
        "  dict_r2[product_id] = r2\n",
        "  dict_pavg[product_id] = P_avg\n",
        "  dict_qavg[product_id] = Q_avg\n",
        "  dict_elasticity[product_id] = elasticity"
      ],
      "metadata": {
        "id": "_5lhSX_04FS9"
      },
      "execution_count": null,
      "outputs": []
    },
    {
      "cell_type": "code",
      "source": [
        "dict_elasticity"
      ],
      "metadata": {
        "id": "sciF0eNq6sO3",
        "colab": {
          "base_uri": "https://localhost:8080/"
        },
        "outputId": "3cf436f0-3b2c-45f6-ff19-7404039081f5"
      },
      "execution_count": null,
      "outputs": [
        {
          "output_type": "execute_result",
          "data": {
            "text/plain": [
              "{'26540': -10.444444444442565,\n",
              " '27658': 0.6096413874191716,\n",
              " '27754': 2.434954272297792,\n",
              " '27978': 1.7531707317072946,\n",
              " '28268': 3.5065789473686957}"
            ]
          },
          "metadata": {},
          "execution_count": 48
        }
      ]
    },
    {
      "cell_type": "code",
      "source": [
        "df_result_relative_elastic = pd.DataFrame(product_relative_elastic[0:5+1], columns=['PRODUCT_ID'])\n",
        "df_result_relative_elastic[\"Beta1\"] = df_result_relative_elastic['PRODUCT_ID'].map(dict_beta1)\n",
        "df_result_relative_elastic[\"Beta0\"] = df_result_relative_elastic['PRODUCT_ID'].map(dict_beta0)\n",
        "df_result_relative_elastic[\"R2\"] = df_result_relative_elastic['PRODUCT_ID'].map(dict_r2)\n",
        "df_result_relative_elastic[\"P_avg\"] = df_result_relative_elastic['PRODUCT_ID'].map(dict_pavg)\n",
        "df_result_relative_elastic[\"Q_avg\"] = df_result_relative_elastic['PRODUCT_ID'].map(dict_qavg)\n",
        "df_result_relative_elastic[\"Elasticity\"] = df_result_relative_elastic['PRODUCT_ID'].map(dict_elasticity)"
      ],
      "metadata": {
        "id": "3CDGv5ov7Cov"
      },
      "execution_count": null,
      "outputs": []
    },
    {
      "cell_type": "code",
      "source": [
        "df_result_relative_elastic.head()"
      ],
      "metadata": {
        "id": "KvjHh1Hu72Kf",
        "colab": {
          "base_uri": "https://localhost:8080/",
          "height": 206
        },
        "outputId": "e7a7b1d0-4bd2-488a-8c0f-09d2cf715539"
      },
      "execution_count": null,
      "outputs": [
        {
          "output_type": "execute_result",
          "data": {
            "text/plain": [
              "  PRODUCT_ID      Beta1      Beta0        R2     P_avg     Q_avg  Elasticity  \\\n",
              "0      26540 -16.666667  17.166667  1.000000  0.940000  1.500000  -10.444444   \n",
              "1      27658   0.787037   0.461111  0.127563  0.915000  1.181250    0.609641   \n",
              "2      27754   3.832745  -3.156899  0.254147  1.397667  2.200000    2.434954   \n",
              "3      27978   0.666667  -1.715556  0.494845  5.990000  2.277778    1.753171   \n",
              "4      28268   4.887218  -3.342105  0.317669  0.956667  1.333333    3.506579   \n",
              "\n",
              "  Demand_elasticity_type  \n",
              "0         Highly Elastic  \n",
              "1              Inelastic  \n",
              "2     Elastic (Positive)  \n",
              "3     Elastic (Positive)  \n",
              "4     Elastic (Positive)  "
            ],
            "text/html": [
              "\n",
              "  <div id=\"df-73e93a6e-8162-4f61-9317-d30503fb6fd7\" class=\"colab-df-container\">\n",
              "    <div>\n",
              "<style scoped>\n",
              "    .dataframe tbody tr th:only-of-type {\n",
              "        vertical-align: middle;\n",
              "    }\n",
              "\n",
              "    .dataframe tbody tr th {\n",
              "        vertical-align: top;\n",
              "    }\n",
              "\n",
              "    .dataframe thead th {\n",
              "        text-align: right;\n",
              "    }\n",
              "</style>\n",
              "<table border=\"1\" class=\"dataframe\">\n",
              "  <thead>\n",
              "    <tr style=\"text-align: right;\">\n",
              "      <th></th>\n",
              "      <th>PRODUCT_ID</th>\n",
              "      <th>Beta1</th>\n",
              "      <th>Beta0</th>\n",
              "      <th>R2</th>\n",
              "      <th>P_avg</th>\n",
              "      <th>Q_avg</th>\n",
              "      <th>Elasticity</th>\n",
              "      <th>Demand_elasticity_type</th>\n",
              "    </tr>\n",
              "  </thead>\n",
              "  <tbody>\n",
              "    <tr>\n",
              "      <th>0</th>\n",
              "      <td>26540</td>\n",
              "      <td>-16.666667</td>\n",
              "      <td>17.166667</td>\n",
              "      <td>1.000000</td>\n",
              "      <td>0.940000</td>\n",
              "      <td>1.500000</td>\n",
              "      <td>-10.444444</td>\n",
              "      <td>Highly Elastic</td>\n",
              "    </tr>\n",
              "    <tr>\n",
              "      <th>1</th>\n",
              "      <td>27658</td>\n",
              "      <td>0.787037</td>\n",
              "      <td>0.461111</td>\n",
              "      <td>0.127563</td>\n",
              "      <td>0.915000</td>\n",
              "      <td>1.181250</td>\n",
              "      <td>0.609641</td>\n",
              "      <td>Inelastic</td>\n",
              "    </tr>\n",
              "    <tr>\n",
              "      <th>2</th>\n",
              "      <td>27754</td>\n",
              "      <td>3.832745</td>\n",
              "      <td>-3.156899</td>\n",
              "      <td>0.254147</td>\n",
              "      <td>1.397667</td>\n",
              "      <td>2.200000</td>\n",
              "      <td>2.434954</td>\n",
              "      <td>Elastic (Positive)</td>\n",
              "    </tr>\n",
              "    <tr>\n",
              "      <th>3</th>\n",
              "      <td>27978</td>\n",
              "      <td>0.666667</td>\n",
              "      <td>-1.715556</td>\n",
              "      <td>0.494845</td>\n",
              "      <td>5.990000</td>\n",
              "      <td>2.277778</td>\n",
              "      <td>1.753171</td>\n",
              "      <td>Elastic (Positive)</td>\n",
              "    </tr>\n",
              "    <tr>\n",
              "      <th>4</th>\n",
              "      <td>28268</td>\n",
              "      <td>4.887218</td>\n",
              "      <td>-3.342105</td>\n",
              "      <td>0.317669</td>\n",
              "      <td>0.956667</td>\n",
              "      <td>1.333333</td>\n",
              "      <td>3.506579</td>\n",
              "      <td>Elastic (Positive)</td>\n",
              "    </tr>\n",
              "  </tbody>\n",
              "</table>\n",
              "</div>\n",
              "    <div class=\"colab-df-buttons\">\n",
              "\n",
              "  <div class=\"colab-df-container\">\n",
              "    <button class=\"colab-df-convert\" onclick=\"convertToInteractive('df-73e93a6e-8162-4f61-9317-d30503fb6fd7')\"\n",
              "            title=\"Convert this dataframe to an interactive table.\"\n",
              "            style=\"display:none;\">\n",
              "\n",
              "  <svg xmlns=\"http://www.w3.org/2000/svg\" height=\"24px\" viewBox=\"0 -960 960 960\">\n",
              "    <path d=\"M120-120v-720h720v720H120Zm60-500h600v-160H180v160Zm220 220h160v-160H400v160Zm0 220h160v-160H400v160ZM180-400h160v-160H180v160Zm440 0h160v-160H620v160ZM180-180h160v-160H180v160Zm440 0h160v-160H620v160Z\"/>\n",
              "  </svg>\n",
              "    </button>\n",
              "\n",
              "  <style>\n",
              "    .colab-df-container {\n",
              "      display:flex;\n",
              "      gap: 12px;\n",
              "    }\n",
              "\n",
              "    .colab-df-convert {\n",
              "      background-color: #E8F0FE;\n",
              "      border: none;\n",
              "      border-radius: 50%;\n",
              "      cursor: pointer;\n",
              "      display: none;\n",
              "      fill: #1967D2;\n",
              "      height: 32px;\n",
              "      padding: 0 0 0 0;\n",
              "      width: 32px;\n",
              "    }\n",
              "\n",
              "    .colab-df-convert:hover {\n",
              "      background-color: #E2EBFA;\n",
              "      box-shadow: 0px 1px 2px rgba(60, 64, 67, 0.3), 0px 1px 3px 1px rgba(60, 64, 67, 0.15);\n",
              "      fill: #174EA6;\n",
              "    }\n",
              "\n",
              "    .colab-df-buttons div {\n",
              "      margin-bottom: 4px;\n",
              "    }\n",
              "\n",
              "    [theme=dark] .colab-df-convert {\n",
              "      background-color: #3B4455;\n",
              "      fill: #D2E3FC;\n",
              "    }\n",
              "\n",
              "    [theme=dark] .colab-df-convert:hover {\n",
              "      background-color: #434B5C;\n",
              "      box-shadow: 0px 1px 3px 1px rgba(0, 0, 0, 0.15);\n",
              "      filter: drop-shadow(0px 1px 2px rgba(0, 0, 0, 0.3));\n",
              "      fill: #FFFFFF;\n",
              "    }\n",
              "  </style>\n",
              "\n",
              "    <script>\n",
              "      const buttonEl =\n",
              "        document.querySelector('#df-73e93a6e-8162-4f61-9317-d30503fb6fd7 button.colab-df-convert');\n",
              "      buttonEl.style.display =\n",
              "        google.colab.kernel.accessAllowed ? 'block' : 'none';\n",
              "\n",
              "      async function convertToInteractive(key) {\n",
              "        const element = document.querySelector('#df-73e93a6e-8162-4f61-9317-d30503fb6fd7');\n",
              "        const dataTable =\n",
              "          await google.colab.kernel.invokeFunction('convertToInteractive',\n",
              "                                                    [key], {});\n",
              "        if (!dataTable) return;\n",
              "\n",
              "        const docLinkHtml = 'Like what you see? Visit the ' +\n",
              "          '<a target=\"_blank\" href=https://colab.research.google.com/notebooks/data_table.ipynb>data table notebook</a>'\n",
              "          + ' to learn more about interactive tables.';\n",
              "        element.innerHTML = '';\n",
              "        dataTable['output_type'] = 'display_data';\n",
              "        await google.colab.output.renderOutput(dataTable, element);\n",
              "        const docLink = document.createElement('div');\n",
              "        docLink.innerHTML = docLinkHtml;\n",
              "        element.appendChild(docLink);\n",
              "      }\n",
              "    </script>\n",
              "  </div>\n",
              "\n",
              "\n",
              "<div id=\"df-26556a51-f7c9-4fc9-9307-cbaa835fb2d9\">\n",
              "  <button class=\"colab-df-quickchart\" onclick=\"quickchart('df-26556a51-f7c9-4fc9-9307-cbaa835fb2d9')\"\n",
              "            title=\"Suggest charts\"\n",
              "            style=\"display:none;\">\n",
              "\n",
              "<svg xmlns=\"http://www.w3.org/2000/svg\" height=\"24px\"viewBox=\"0 0 24 24\"\n",
              "     width=\"24px\">\n",
              "    <g>\n",
              "        <path d=\"M19 3H5c-1.1 0-2 .9-2 2v14c0 1.1.9 2 2 2h14c1.1 0 2-.9 2-2V5c0-1.1-.9-2-2-2zM9 17H7v-7h2v7zm4 0h-2V7h2v10zm4 0h-2v-4h2v4z\"/>\n",
              "    </g>\n",
              "</svg>\n",
              "  </button>\n",
              "\n",
              "<style>\n",
              "  .colab-df-quickchart {\n",
              "      --bg-color: #E8F0FE;\n",
              "      --fill-color: #1967D2;\n",
              "      --hover-bg-color: #E2EBFA;\n",
              "      --hover-fill-color: #174EA6;\n",
              "      --disabled-fill-color: #AAA;\n",
              "      --disabled-bg-color: #DDD;\n",
              "  }\n",
              "\n",
              "  [theme=dark] .colab-df-quickchart {\n",
              "      --bg-color: #3B4455;\n",
              "      --fill-color: #D2E3FC;\n",
              "      --hover-bg-color: #434B5C;\n",
              "      --hover-fill-color: #FFFFFF;\n",
              "      --disabled-bg-color: #3B4455;\n",
              "      --disabled-fill-color: #666;\n",
              "  }\n",
              "\n",
              "  .colab-df-quickchart {\n",
              "    background-color: var(--bg-color);\n",
              "    border: none;\n",
              "    border-radius: 50%;\n",
              "    cursor: pointer;\n",
              "    display: none;\n",
              "    fill: var(--fill-color);\n",
              "    height: 32px;\n",
              "    padding: 0;\n",
              "    width: 32px;\n",
              "  }\n",
              "\n",
              "  .colab-df-quickchart:hover {\n",
              "    background-color: var(--hover-bg-color);\n",
              "    box-shadow: 0 1px 2px rgba(60, 64, 67, 0.3), 0 1px 3px 1px rgba(60, 64, 67, 0.15);\n",
              "    fill: var(--button-hover-fill-color);\n",
              "  }\n",
              "\n",
              "  .colab-df-quickchart-complete:disabled,\n",
              "  .colab-df-quickchart-complete:disabled:hover {\n",
              "    background-color: var(--disabled-bg-color);\n",
              "    fill: var(--disabled-fill-color);\n",
              "    box-shadow: none;\n",
              "  }\n",
              "\n",
              "  .colab-df-spinner {\n",
              "    border: 2px solid var(--fill-color);\n",
              "    border-color: transparent;\n",
              "    border-bottom-color: var(--fill-color);\n",
              "    animation:\n",
              "      spin 1s steps(1) infinite;\n",
              "  }\n",
              "\n",
              "  @keyframes spin {\n",
              "    0% {\n",
              "      border-color: transparent;\n",
              "      border-bottom-color: var(--fill-color);\n",
              "      border-left-color: var(--fill-color);\n",
              "    }\n",
              "    20% {\n",
              "      border-color: transparent;\n",
              "      border-left-color: var(--fill-color);\n",
              "      border-top-color: var(--fill-color);\n",
              "    }\n",
              "    30% {\n",
              "      border-color: transparent;\n",
              "      border-left-color: var(--fill-color);\n",
              "      border-top-color: var(--fill-color);\n",
              "      border-right-color: var(--fill-color);\n",
              "    }\n",
              "    40% {\n",
              "      border-color: transparent;\n",
              "      border-right-color: var(--fill-color);\n",
              "      border-top-color: var(--fill-color);\n",
              "    }\n",
              "    60% {\n",
              "      border-color: transparent;\n",
              "      border-right-color: var(--fill-color);\n",
              "    }\n",
              "    80% {\n",
              "      border-color: transparent;\n",
              "      border-right-color: var(--fill-color);\n",
              "      border-bottom-color: var(--fill-color);\n",
              "    }\n",
              "    90% {\n",
              "      border-color: transparent;\n",
              "      border-bottom-color: var(--fill-color);\n",
              "    }\n",
              "  }\n",
              "</style>\n",
              "\n",
              "  <script>\n",
              "    async function quickchart(key) {\n",
              "      const quickchartButtonEl =\n",
              "        document.querySelector('#' + key + ' button');\n",
              "      quickchartButtonEl.disabled = true;  // To prevent multiple clicks.\n",
              "      quickchartButtonEl.classList.add('colab-df-spinner');\n",
              "      try {\n",
              "        const charts = await google.colab.kernel.invokeFunction(\n",
              "            'suggestCharts', [key], {});\n",
              "      } catch (error) {\n",
              "        console.error('Error during call to suggestCharts:', error);\n",
              "      }\n",
              "      quickchartButtonEl.classList.remove('colab-df-spinner');\n",
              "      quickchartButtonEl.classList.add('colab-df-quickchart-complete');\n",
              "    }\n",
              "    (() => {\n",
              "      let quickchartButtonEl =\n",
              "        document.querySelector('#df-26556a51-f7c9-4fc9-9307-cbaa835fb2d9 button');\n",
              "      quickchartButtonEl.style.display =\n",
              "        google.colab.kernel.accessAllowed ? 'block' : 'none';\n",
              "    })();\n",
              "  </script>\n",
              "</div>\n",
              "\n",
              "    </div>\n",
              "  </div>\n"
            ],
            "application/vnd.google.colaboratory.intrinsic+json": {
              "type": "dataframe",
              "variable_name": "df_result_relative_elastic",
              "summary": "{\n  \"name\": \"df_result_relative_elastic\",\n  \"rows\": 6,\n  \"fields\": [\n    {\n      \"column\": \"PRODUCT_ID\",\n      \"properties\": {\n        \"dtype\": \"string\",\n        \"num_unique_values\": 6,\n        \"samples\": [\n          \"26540\",\n          \"27658\",\n          \"28304\"\n        ],\n        \"semantic_type\": \"\",\n        \"description\": \"\"\n      }\n    },\n    {\n      \"column\": \"Beta1\",\n      \"properties\": {\n        \"dtype\": \"number\",\n        \"std\": 8.788979896755883,\n        \"min\": -16.66666666666367,\n        \"max\": 4.887218045113165,\n        \"num_unique_values\": 5,\n        \"samples\": [\n          0.7870370370370452,\n          4.887218045113165,\n          3.832744621313006\n        ],\n        \"semantic_type\": \"\",\n        \"description\": \"\"\n      }\n    },\n    {\n      \"column\": \"Beta0\",\n      \"properties\": {\n        \"dtype\": \"number\",\n        \"std\": 8.678481249687627,\n        \"min\": -3.3421052631582615,\n        \"max\": 17.166666666663847,\n        \"num_unique_values\": 5,\n        \"samples\": [\n          0.4611111111111036,\n          -3.3421052631582615,\n          -3.1568993990551455\n        ],\n        \"semantic_type\": \"\",\n        \"description\": \"\"\n      }\n    },\n    {\n      \"column\": \"R2\",\n      \"properties\": {\n        \"dtype\": \"number\",\n        \"std\": 0.3404864734717724,\n        \"min\": 0.1275630993940855,\n        \"max\": 1.0,\n        \"num_unique_values\": 5,\n        \"samples\": [\n          0.1275630993940855,\n          0.3176691729323309,\n          0.25414747072277133\n        ],\n        \"semantic_type\": \"\",\n        \"description\": \"\"\n      }\n    },\n    {\n      \"column\": \"P_avg\",\n      \"properties\": {\n        \"dtype\": \"number\",\n        \"std\": 2.217223947492299,\n        \"min\": 0.915,\n        \"max\": 5.989999999999999,\n        \"num_unique_values\": 5,\n        \"samples\": [\n          0.915,\n          0.9566666666666667,\n          1.3976666666666664\n        ],\n        \"semantic_type\": \"\",\n        \"description\": \"\"\n      }\n    },\n    {\n      \"column\": \"Q_avg\",\n      \"properties\": {\n        \"dtype\": \"number\",\n        \"std\": 0.5067942128994719,\n        \"min\": 1.18125,\n        \"max\": 2.277777777777778,\n        \"num_unique_values\": 5,\n        \"samples\": [\n          1.18125,\n          1.3333333333333333,\n          2.2\n        ],\n        \"semantic_type\": \"\",\n        \"description\": \"\"\n      }\n    },\n    {\n      \"column\": \"Elasticity\",\n      \"properties\": {\n        \"dtype\": \"number\",\n        \"std\": 5.697385000478878,\n        \"min\": -10.444444444442565,\n        \"max\": 3.5065789473686957,\n        \"num_unique_values\": 5,\n        \"samples\": [\n          0.6096413874191716,\n          3.5065789473686957,\n          2.434954272297792\n        ],\n        \"semantic_type\": \"\",\n        \"description\": \"\"\n      }\n    },\n    {\n      \"column\": \"Demand_elasticity_type\",\n      \"properties\": {\n        \"dtype\": \"string\",\n        \"num_unique_values\": 4,\n        \"samples\": [\n          \"Inelastic\",\n          \"Unknown\",\n          \"Highly Elastic\"\n        ],\n        \"semantic_type\": \"\",\n        \"description\": \"\"\n      }\n    }\n  ]\n}"
            }
          },
          "metadata": {},
          "execution_count": 55
        }
      ]
    },
    {
      "cell_type": "markdown",
      "source": [
        "###Categorize demand elasticity type"
      ],
      "metadata": {
        "id": "rcTWrU1UBnPX"
      }
    },
    {
      "cell_type": "markdown",
      "source": [
        "For practical applications like pricing strategies and revenue predictions, the magnitude of elasticity is more relevant than its direction. Absolute values give a clearer idea of how much demand will change in response to price adjustments, which is crucial for strategic decisions.\n",
        "- Positive Elasticity:\n",
        "    - Uncommon, where demand increases as price increases.\n",
        "    - In some cases, like with Giffen goods, speculative markets or certain luxury items, higher prices might lead to higher demand.\n",
        "- Negative Elasticity:\n",
        "    - Most common, where demand decreases as price increases.\n",
        "    - This is the standard case where price increases lead to reduced demand.\n",
        "- Inelastic (Positive):\n",
        "    - Products with a positive elasticity between 0 and 1 see a smaller increase in demand relative to price increases.\n",
        "    - This scenario is rare but can occur in markets with certain consumer behaviors or expectations."
      ],
      "metadata": {
        "id": "3fIpYQ4hCNnh"
      }
    },
    {
      "cell_type": "markdown",
      "source": [
        "The elasticity values can be categorized into different types:\n",
        "1. **Highly Elastic:** Elasticity < -1\n",
        "\n",
        "    - Interpretation: Demand is highly sensitive to price changes.\n",
        "    - A 1% increase in price leads to a decrease in quantity demanded by more than 1%.\n",
        "    - Practical Application:\n",
        "      - Products that experience significant changes in demand with small price changes.\n",
        "      - Useful for determining when price cuts can lead to substantial increases in sales.\n",
        "\n",
        "2. **Elastic:** -1 < Elasticity < 0\n",
        "\n",
        "    - Interpretation: Demand is moderately sensitive to price changes.\n",
        "    - A 1% increase in price leads to a decrease in quantity demanded by less than 1% but more than 0%.\n",
        "    - Practical Application:\n",
        "      - Products with moderate sensitivity to price changes.\n",
        "      - Pricing strategies should consider the moderate response to price adjustments.\n",
        "\n",
        "3. **Unitary Elastic:** Elasticity = -1 or 1\n",
        "\n",
        "    - Interpretation: Demand changes proportionately with price changes.\n",
        "    - A 1% increase in price results in a 1% decrease or increase in quantity demanded.\n",
        "    - Practical Application:\n",
        "      - Products where total revenue remains constant when the price changes.\n",
        "      - Price changes won't affect total revenue.\n",
        "\n",
        "4. **Inelastic:** 0 < Elasticity < 1\n",
        "\n",
        "    - Interpretation: Demand is less sensitive to price changes.\n",
        "    - A 1% increase in price leads to a less than 1% increase in quantity demanded.\n",
        "    - Practical Application:\n",
        "      - Products where demand is relatively stable despite price changes.\n",
        "      - These are often necessities or products with fewer substitutes.\n",
        "\n",
        "5. **Elastic (Positive):** Elasticity > 1\n",
        "\n",
        "    - Interpretation: Demand increases significantly with price.\n",
        "    - This is less common in typical demand scenarios.\n",
        "    - Practical Application:\n"
      ],
      "metadata": {
        "id": "L6seWPS-EStR"
      }
    },
    {
      "cell_type": "code",
      "source": [
        "# Function to categorize elasticity\n",
        "def categorize_elasticity(elasticity):\n",
        "    if elasticity < -1:\n",
        "        return 'Highly Elastic'\n",
        "    elif -1 < elasticity < 0:\n",
        "        return 'Elastic (Negative)'\n",
        "    elif elasticity == -1 or elasticity == 1:\n",
        "        return 'Unitary Elastic'\n",
        "    elif 0 < elasticity < 1:\n",
        "        return 'Inelastic'\n",
        "    elif elasticity > 1:\n",
        "        return 'Elastic (Positive)'\n",
        "    else:\n",
        "        return 'Unknown'"
      ],
      "metadata": {
        "id": "YsMhrHa273yF"
      },
      "execution_count": null,
      "outputs": []
    },
    {
      "cell_type": "code",
      "source": [
        "df_result_relative_elastic['Demand_elasticity_type'] = df_result_relative_elastic['Elasticity'].apply(categorize_elasticity)\n",
        "df_result_relative_elastic.head()"
      ],
      "metadata": {
        "id": "7SMUsO4CCFvE",
        "colab": {
          "base_uri": "https://localhost:8080/",
          "height": 206
        },
        "outputId": "d60e7270-fda0-4453-9a9b-f1fc43c59823"
      },
      "execution_count": null,
      "outputs": [
        {
          "output_type": "execute_result",
          "data": {
            "text/plain": [
              "  PRODUCT_ID      Beta1      Beta0        R2     P_avg     Q_avg  Elasticity  \\\n",
              "0      26540 -16.666667  17.166667  1.000000  0.940000  1.500000  -10.444444   \n",
              "1      27658   0.787037   0.461111  0.127563  0.915000  1.181250    0.609641   \n",
              "2      27754   3.832745  -3.156899  0.254147  1.397667  2.200000    2.434954   \n",
              "3      27978   0.666667  -1.715556  0.494845  5.990000  2.277778    1.753171   \n",
              "4      28268   4.887218  -3.342105  0.317669  0.956667  1.333333    3.506579   \n",
              "\n",
              "  Demand_elasticity_type  \n",
              "0         Highly Elastic  \n",
              "1              Inelastic  \n",
              "2     Elastic (Positive)  \n",
              "3     Elastic (Positive)  \n",
              "4     Elastic (Positive)  "
            ],
            "text/html": [
              "\n",
              "  <div id=\"df-6deefa28-8591-4066-bcab-f97faf0d56ba\" class=\"colab-df-container\">\n",
              "    <div>\n",
              "<style scoped>\n",
              "    .dataframe tbody tr th:only-of-type {\n",
              "        vertical-align: middle;\n",
              "    }\n",
              "\n",
              "    .dataframe tbody tr th {\n",
              "        vertical-align: top;\n",
              "    }\n",
              "\n",
              "    .dataframe thead th {\n",
              "        text-align: right;\n",
              "    }\n",
              "</style>\n",
              "<table border=\"1\" class=\"dataframe\">\n",
              "  <thead>\n",
              "    <tr style=\"text-align: right;\">\n",
              "      <th></th>\n",
              "      <th>PRODUCT_ID</th>\n",
              "      <th>Beta1</th>\n",
              "      <th>Beta0</th>\n",
              "      <th>R2</th>\n",
              "      <th>P_avg</th>\n",
              "      <th>Q_avg</th>\n",
              "      <th>Elasticity</th>\n",
              "      <th>Demand_elasticity_type</th>\n",
              "    </tr>\n",
              "  </thead>\n",
              "  <tbody>\n",
              "    <tr>\n",
              "      <th>0</th>\n",
              "      <td>26540</td>\n",
              "      <td>-16.666667</td>\n",
              "      <td>17.166667</td>\n",
              "      <td>1.000000</td>\n",
              "      <td>0.940000</td>\n",
              "      <td>1.500000</td>\n",
              "      <td>-10.444444</td>\n",
              "      <td>Highly Elastic</td>\n",
              "    </tr>\n",
              "    <tr>\n",
              "      <th>1</th>\n",
              "      <td>27658</td>\n",
              "      <td>0.787037</td>\n",
              "      <td>0.461111</td>\n",
              "      <td>0.127563</td>\n",
              "      <td>0.915000</td>\n",
              "      <td>1.181250</td>\n",
              "      <td>0.609641</td>\n",
              "      <td>Inelastic</td>\n",
              "    </tr>\n",
              "    <tr>\n",
              "      <th>2</th>\n",
              "      <td>27754</td>\n",
              "      <td>3.832745</td>\n",
              "      <td>-3.156899</td>\n",
              "      <td>0.254147</td>\n",
              "      <td>1.397667</td>\n",
              "      <td>2.200000</td>\n",
              "      <td>2.434954</td>\n",
              "      <td>Elastic (Positive)</td>\n",
              "    </tr>\n",
              "    <tr>\n",
              "      <th>3</th>\n",
              "      <td>27978</td>\n",
              "      <td>0.666667</td>\n",
              "      <td>-1.715556</td>\n",
              "      <td>0.494845</td>\n",
              "      <td>5.990000</td>\n",
              "      <td>2.277778</td>\n",
              "      <td>1.753171</td>\n",
              "      <td>Elastic (Positive)</td>\n",
              "    </tr>\n",
              "    <tr>\n",
              "      <th>4</th>\n",
              "      <td>28268</td>\n",
              "      <td>4.887218</td>\n",
              "      <td>-3.342105</td>\n",
              "      <td>0.317669</td>\n",
              "      <td>0.956667</td>\n",
              "      <td>1.333333</td>\n",
              "      <td>3.506579</td>\n",
              "      <td>Elastic (Positive)</td>\n",
              "    </tr>\n",
              "  </tbody>\n",
              "</table>\n",
              "</div>\n",
              "    <div class=\"colab-df-buttons\">\n",
              "\n",
              "  <div class=\"colab-df-container\">\n",
              "    <button class=\"colab-df-convert\" onclick=\"convertToInteractive('df-6deefa28-8591-4066-bcab-f97faf0d56ba')\"\n",
              "            title=\"Convert this dataframe to an interactive table.\"\n",
              "            style=\"display:none;\">\n",
              "\n",
              "  <svg xmlns=\"http://www.w3.org/2000/svg\" height=\"24px\" viewBox=\"0 -960 960 960\">\n",
              "    <path d=\"M120-120v-720h720v720H120Zm60-500h600v-160H180v160Zm220 220h160v-160H400v160Zm0 220h160v-160H400v160ZM180-400h160v-160H180v160Zm440 0h160v-160H620v160ZM180-180h160v-160H180v160Zm440 0h160v-160H620v160Z\"/>\n",
              "  </svg>\n",
              "    </button>\n",
              "\n",
              "  <style>\n",
              "    .colab-df-container {\n",
              "      display:flex;\n",
              "      gap: 12px;\n",
              "    }\n",
              "\n",
              "    .colab-df-convert {\n",
              "      background-color: #E8F0FE;\n",
              "      border: none;\n",
              "      border-radius: 50%;\n",
              "      cursor: pointer;\n",
              "      display: none;\n",
              "      fill: #1967D2;\n",
              "      height: 32px;\n",
              "      padding: 0 0 0 0;\n",
              "      width: 32px;\n",
              "    }\n",
              "\n",
              "    .colab-df-convert:hover {\n",
              "      background-color: #E2EBFA;\n",
              "      box-shadow: 0px 1px 2px rgba(60, 64, 67, 0.3), 0px 1px 3px 1px rgba(60, 64, 67, 0.15);\n",
              "      fill: #174EA6;\n",
              "    }\n",
              "\n",
              "    .colab-df-buttons div {\n",
              "      margin-bottom: 4px;\n",
              "    }\n",
              "\n",
              "    [theme=dark] .colab-df-convert {\n",
              "      background-color: #3B4455;\n",
              "      fill: #D2E3FC;\n",
              "    }\n",
              "\n",
              "    [theme=dark] .colab-df-convert:hover {\n",
              "      background-color: #434B5C;\n",
              "      box-shadow: 0px 1px 3px 1px rgba(0, 0, 0, 0.15);\n",
              "      filter: drop-shadow(0px 1px 2px rgba(0, 0, 0, 0.3));\n",
              "      fill: #FFFFFF;\n",
              "    }\n",
              "  </style>\n",
              "\n",
              "    <script>\n",
              "      const buttonEl =\n",
              "        document.querySelector('#df-6deefa28-8591-4066-bcab-f97faf0d56ba button.colab-df-convert');\n",
              "      buttonEl.style.display =\n",
              "        google.colab.kernel.accessAllowed ? 'block' : 'none';\n",
              "\n",
              "      async function convertToInteractive(key) {\n",
              "        const element = document.querySelector('#df-6deefa28-8591-4066-bcab-f97faf0d56ba');\n",
              "        const dataTable =\n",
              "          await google.colab.kernel.invokeFunction('convertToInteractive',\n",
              "                                                    [key], {});\n",
              "        if (!dataTable) return;\n",
              "\n",
              "        const docLinkHtml = 'Like what you see? Visit the ' +\n",
              "          '<a target=\"_blank\" href=https://colab.research.google.com/notebooks/data_table.ipynb>data table notebook</a>'\n",
              "          + ' to learn more about interactive tables.';\n",
              "        element.innerHTML = '';\n",
              "        dataTable['output_type'] = 'display_data';\n",
              "        await google.colab.output.renderOutput(dataTable, element);\n",
              "        const docLink = document.createElement('div');\n",
              "        docLink.innerHTML = docLinkHtml;\n",
              "        element.appendChild(docLink);\n",
              "      }\n",
              "    </script>\n",
              "  </div>\n",
              "\n",
              "\n",
              "<div id=\"df-3b9c94ca-6163-4013-9133-5824e6068553\">\n",
              "  <button class=\"colab-df-quickchart\" onclick=\"quickchart('df-3b9c94ca-6163-4013-9133-5824e6068553')\"\n",
              "            title=\"Suggest charts\"\n",
              "            style=\"display:none;\">\n",
              "\n",
              "<svg xmlns=\"http://www.w3.org/2000/svg\" height=\"24px\"viewBox=\"0 0 24 24\"\n",
              "     width=\"24px\">\n",
              "    <g>\n",
              "        <path d=\"M19 3H5c-1.1 0-2 .9-2 2v14c0 1.1.9 2 2 2h14c1.1 0 2-.9 2-2V5c0-1.1-.9-2-2-2zM9 17H7v-7h2v7zm4 0h-2V7h2v10zm4 0h-2v-4h2v4z\"/>\n",
              "    </g>\n",
              "</svg>\n",
              "  </button>\n",
              "\n",
              "<style>\n",
              "  .colab-df-quickchart {\n",
              "      --bg-color: #E8F0FE;\n",
              "      --fill-color: #1967D2;\n",
              "      --hover-bg-color: #E2EBFA;\n",
              "      --hover-fill-color: #174EA6;\n",
              "      --disabled-fill-color: #AAA;\n",
              "      --disabled-bg-color: #DDD;\n",
              "  }\n",
              "\n",
              "  [theme=dark] .colab-df-quickchart {\n",
              "      --bg-color: #3B4455;\n",
              "      --fill-color: #D2E3FC;\n",
              "      --hover-bg-color: #434B5C;\n",
              "      --hover-fill-color: #FFFFFF;\n",
              "      --disabled-bg-color: #3B4455;\n",
              "      --disabled-fill-color: #666;\n",
              "  }\n",
              "\n",
              "  .colab-df-quickchart {\n",
              "    background-color: var(--bg-color);\n",
              "    border: none;\n",
              "    border-radius: 50%;\n",
              "    cursor: pointer;\n",
              "    display: none;\n",
              "    fill: var(--fill-color);\n",
              "    height: 32px;\n",
              "    padding: 0;\n",
              "    width: 32px;\n",
              "  }\n",
              "\n",
              "  .colab-df-quickchart:hover {\n",
              "    background-color: var(--hover-bg-color);\n",
              "    box-shadow: 0 1px 2px rgba(60, 64, 67, 0.3), 0 1px 3px 1px rgba(60, 64, 67, 0.15);\n",
              "    fill: var(--button-hover-fill-color);\n",
              "  }\n",
              "\n",
              "  .colab-df-quickchart-complete:disabled,\n",
              "  .colab-df-quickchart-complete:disabled:hover {\n",
              "    background-color: var(--disabled-bg-color);\n",
              "    fill: var(--disabled-fill-color);\n",
              "    box-shadow: none;\n",
              "  }\n",
              "\n",
              "  .colab-df-spinner {\n",
              "    border: 2px solid var(--fill-color);\n",
              "    border-color: transparent;\n",
              "    border-bottom-color: var(--fill-color);\n",
              "    animation:\n",
              "      spin 1s steps(1) infinite;\n",
              "  }\n",
              "\n",
              "  @keyframes spin {\n",
              "    0% {\n",
              "      border-color: transparent;\n",
              "      border-bottom-color: var(--fill-color);\n",
              "      border-left-color: var(--fill-color);\n",
              "    }\n",
              "    20% {\n",
              "      border-color: transparent;\n",
              "      border-left-color: var(--fill-color);\n",
              "      border-top-color: var(--fill-color);\n",
              "    }\n",
              "    30% {\n",
              "      border-color: transparent;\n",
              "      border-left-color: var(--fill-color);\n",
              "      border-top-color: var(--fill-color);\n",
              "      border-right-color: var(--fill-color);\n",
              "    }\n",
              "    40% {\n",
              "      border-color: transparent;\n",
              "      border-right-color: var(--fill-color);\n",
              "      border-top-color: var(--fill-color);\n",
              "    }\n",
              "    60% {\n",
              "      border-color: transparent;\n",
              "      border-right-color: var(--fill-color);\n",
              "    }\n",
              "    80% {\n",
              "      border-color: transparent;\n",
              "      border-right-color: var(--fill-color);\n",
              "      border-bottom-color: var(--fill-color);\n",
              "    }\n",
              "    90% {\n",
              "      border-color: transparent;\n",
              "      border-bottom-color: var(--fill-color);\n",
              "    }\n",
              "  }\n",
              "</style>\n",
              "\n",
              "  <script>\n",
              "    async function quickchart(key) {\n",
              "      const quickchartButtonEl =\n",
              "        document.querySelector('#' + key + ' button');\n",
              "      quickchartButtonEl.disabled = true;  // To prevent multiple clicks.\n",
              "      quickchartButtonEl.classList.add('colab-df-spinner');\n",
              "      try {\n",
              "        const charts = await google.colab.kernel.invokeFunction(\n",
              "            'suggestCharts', [key], {});\n",
              "      } catch (error) {\n",
              "        console.error('Error during call to suggestCharts:', error);\n",
              "      }\n",
              "      quickchartButtonEl.classList.remove('colab-df-spinner');\n",
              "      quickchartButtonEl.classList.add('colab-df-quickchart-complete');\n",
              "    }\n",
              "    (() => {\n",
              "      let quickchartButtonEl =\n",
              "        document.querySelector('#df-3b9c94ca-6163-4013-9133-5824e6068553 button');\n",
              "      quickchartButtonEl.style.display =\n",
              "        google.colab.kernel.accessAllowed ? 'block' : 'none';\n",
              "    })();\n",
              "  </script>\n",
              "</div>\n",
              "\n",
              "    </div>\n",
              "  </div>\n"
            ],
            "application/vnd.google.colaboratory.intrinsic+json": {
              "type": "dataframe",
              "variable_name": "df_result_relative_elastic",
              "summary": "{\n  \"name\": \"df_result_relative_elastic\",\n  \"rows\": 6,\n  \"fields\": [\n    {\n      \"column\": \"PRODUCT_ID\",\n      \"properties\": {\n        \"dtype\": \"string\",\n        \"num_unique_values\": 6,\n        \"samples\": [\n          \"26540\",\n          \"27658\",\n          \"28304\"\n        ],\n        \"semantic_type\": \"\",\n        \"description\": \"\"\n      }\n    },\n    {\n      \"column\": \"Beta1\",\n      \"properties\": {\n        \"dtype\": \"number\",\n        \"std\": 8.788979896755883,\n        \"min\": -16.66666666666367,\n        \"max\": 4.887218045113165,\n        \"num_unique_values\": 5,\n        \"samples\": [\n          0.7870370370370452,\n          4.887218045113165,\n          3.832744621313006\n        ],\n        \"semantic_type\": \"\",\n        \"description\": \"\"\n      }\n    },\n    {\n      \"column\": \"Beta0\",\n      \"properties\": {\n        \"dtype\": \"number\",\n        \"std\": 8.678481249687627,\n        \"min\": -3.3421052631582615,\n        \"max\": 17.166666666663847,\n        \"num_unique_values\": 5,\n        \"samples\": [\n          0.4611111111111036,\n          -3.3421052631582615,\n          -3.1568993990551455\n        ],\n        \"semantic_type\": \"\",\n        \"description\": \"\"\n      }\n    },\n    {\n      \"column\": \"R2\",\n      \"properties\": {\n        \"dtype\": \"number\",\n        \"std\": 0.3404864734717724,\n        \"min\": 0.1275630993940855,\n        \"max\": 1.0,\n        \"num_unique_values\": 5,\n        \"samples\": [\n          0.1275630993940855,\n          0.3176691729323309,\n          0.25414747072277133\n        ],\n        \"semantic_type\": \"\",\n        \"description\": \"\"\n      }\n    },\n    {\n      \"column\": \"P_avg\",\n      \"properties\": {\n        \"dtype\": \"number\",\n        \"std\": 2.217223947492299,\n        \"min\": 0.915,\n        \"max\": 5.989999999999999,\n        \"num_unique_values\": 5,\n        \"samples\": [\n          0.915,\n          0.9566666666666667,\n          1.3976666666666664\n        ],\n        \"semantic_type\": \"\",\n        \"description\": \"\"\n      }\n    },\n    {\n      \"column\": \"Q_avg\",\n      \"properties\": {\n        \"dtype\": \"number\",\n        \"std\": 0.5067942128994719,\n        \"min\": 1.18125,\n        \"max\": 2.277777777777778,\n        \"num_unique_values\": 5,\n        \"samples\": [\n          1.18125,\n          1.3333333333333333,\n          2.2\n        ],\n        \"semantic_type\": \"\",\n        \"description\": \"\"\n      }\n    },\n    {\n      \"column\": \"Elasticity\",\n      \"properties\": {\n        \"dtype\": \"number\",\n        \"std\": 5.697385000478878,\n        \"min\": -10.444444444442565,\n        \"max\": 3.5065789473686957,\n        \"num_unique_values\": 5,\n        \"samples\": [\n          0.6096413874191716,\n          3.5065789473686957,\n          2.434954272297792\n        ],\n        \"semantic_type\": \"\",\n        \"description\": \"\"\n      }\n    },\n    {\n      \"column\": \"Demand_elasticity_type\",\n      \"properties\": {\n        \"dtype\": \"string\",\n        \"num_unique_values\": 4,\n        \"samples\": [\n          \"Inelastic\",\n          \"Unknown\",\n          \"Highly Elastic\"\n        ],\n        \"semantic_type\": \"\",\n        \"description\": \"\"\n      }\n    }\n  ]\n}"
            }
          },
          "metadata": {},
          "execution_count": 58
        }
      ]
    },
    {
      "cell_type": "markdown",
      "source": [
        "#####Sample of Interpreting the Values\n",
        "\n",
        "**Product_ID = 26540: Elasticity = -10.444444444442565**\n",
        "- A negative elasticity value indicates that the quantity demanded decreases as the price increases.\n",
        "- In this case, a price increase would lead to a significant decrease in quantity demanded.\n",
        "- An elasticity of -10.44 suggests that the product is highly elastic; a 1% increase in price would lead to a 10.44% decrease in quantity demanded.\n",
        "\n",
        "**Product_ID =  27658: Elasticity = 0.6096413874191716**\n",
        "- A positive elasticity value indicates that the quantity demanded increases as the price increases.\n",
        "- This can be less common in typical demand scenarios but may apply to Veblen goods or luxury items.\n",
        "- An elasticity of 0.61 means that a 1% increase in price would lead to a 0.61% increase in quantity demanded."
      ],
      "metadata": {
        "id": "2bEsVf1HKzsa"
      }
    },
    {
      "cell_type": "markdown",
      "source": [
        "###Export Result"
      ],
      "metadata": {
        "id": "1HQEIIo0NPMY"
      }
    },
    {
      "cell_type": "code",
      "source": [
        "export_pandasdf_to_csv(df_result_relative_elastic, '/content/drive/MyDrive/DATA_SCI_SKILL/202406_CompleteJourneyProj/data set/02_DemandElasticity/', 'Result03_relative_elastic')"
      ],
      "metadata": {
        "id": "9BKqSW9mOXl2",
        "colab": {
          "base_uri": "https://localhost:8080/"
        },
        "outputId": "ea055013-85fe-47f3-a680-cef4c077646f"
      },
      "execution_count": null,
      "outputs": [
        {
          "output_type": "stream",
          "name": "stdout",
          "text": [
            "Result03_relative_elastic.csv has been exported successfully.\n"
          ]
        }
      ]
    }
  ]
}
