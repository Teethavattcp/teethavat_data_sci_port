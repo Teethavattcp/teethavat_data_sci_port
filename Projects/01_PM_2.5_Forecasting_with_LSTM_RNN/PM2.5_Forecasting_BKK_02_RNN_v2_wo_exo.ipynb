{
  "nbformat": 4,
  "nbformat_minor": 0,
  "metadata": {
    "colab": {
      "provenance": [],
      "collapsed_sections": [],
      "toc_visible": true,
      "mount_file_id": "1zLPFnpIX3Hk1bdTPUKAtQ0Z4AJTXpfpH",
      "authorship_tag": "ABX9TyN+T4G2WwO7RiC1vBjmUBDP",
      "include_colab_link": true
    },
    "kernelspec": {
      "name": "python3",
      "display_name": "Python 3"
    },
    "language_info": {
      "name": "python"
    }
  },
  "cells": [
    {
      "cell_type": "markdown",
      "metadata": {
        "id": "view-in-github",
        "colab_type": "text"
      },
      "source": [
        "<a href=\"https://colab.research.google.com/github/teethavattcp/teethavat_data_sci_port/blob/main/Projects/01_PM_2.5_Forecasting_with_LSTM_RNN/PM2.5_Forecasting_BKK_02_RNN_v2_wo_exo.ipynb\" target=\"_parent\"><img src=\"https://colab.research.google.com/assets/colab-badge.svg\" alt=\"Open In Colab\"/></a>"
      ]
    },
    {
      "cell_type": "markdown",
      "source": [
        "# Building RNN forecasting model"
      ],
      "metadata": {
        "id": "81EVe72ej0P_"
      }
    },
    {
      "cell_type": "code",
      "source": [
        "import numpy as np\n",
        "import pandas as pd"
      ],
      "metadata": {
        "id": "nuE6pIv0hoJ-"
      },
      "execution_count": null,
      "outputs": []
    },
    {
      "cell_type": "code",
      "source": [
        "import matplotlib.pyplot as plt\n",
        "import tensorflow as tf\n",
        "from tensorflow import keras\n",
        "import seaborn as sns;\n",
        "import math\n",
        "\n",
        "from sklearn import preprocessing\n",
        "from sklearn.preprocessing import MinMaxScaler\n",
        "from sklearn.preprocessing import StandardScaler\n",
        "\n",
        "from sklearn.metrics import accuracy_score\n",
        "from sklearn.metrics import mean_squared_error\n",
        "\n",
        "from keras import optimizers\n",
        "from keras.models import Sequential\n",
        "\n",
        "from keras.layers import LSTM\n",
        "from keras.layers.core import Dense, Dropout, Activation\n",
        "\n",
        "from keras.callbacks import ModelCheckpoint"
      ],
      "metadata": {
        "id": "jkzfEUybRRt0"
      },
      "execution_count": null,
      "outputs": []
    },
    {
      "cell_type": "code",
      "source": [
        "from keras.callbacks import EarlyStopping, ReduceLROnPlateau"
      ],
      "metadata": {
        "id": "zM2uVZrHH-rv"
      },
      "execution_count": null,
      "outputs": []
    },
    {
      "cell_type": "code",
      "source": [
        "from google.colab import drive\n",
        "drive.mount('/content/drive')"
      ],
      "metadata": {
        "colab": {
          "base_uri": "https://localhost:8080/"
        },
        "id": "UNg_GVqNcjBJ",
        "outputId": "a4af3ea4-c6c9-4f4c-b9b6-6a9f5766fa64"
      },
      "execution_count": null,
      "outputs": [
        {
          "output_type": "stream",
          "name": "stdout",
          "text": [
            "Mounted at /content/drive\n"
          ]
        }
      ]
    },
    {
      "cell_type": "markdown",
      "source": [
        "# Join dataframe"
      ],
      "metadata": {
        "id": "j-hnZHCPxHs7"
      }
    },
    {
      "cell_type": "code",
      "source": [
        "df_train_pm25 = pd.read_csv('/content/drive/MyDrive/DATA_SCI_SKILL/DATA SCI ENG/Final_Proj_1/train_pm25_BKK.csv',sep=',')"
      ],
      "metadata": {
        "id": "Tjjck4EAdJxa"
      },
      "execution_count": null,
      "outputs": []
    },
    {
      "cell_type": "markdown",
      "source": [
        "## Manage Training dataset"
      ],
      "metadata": {
        "id": "07J5_2TCS9Ty"
      }
    },
    {
      "cell_type": "code",
      "source": [
        "df_train_pm25"
      ],
      "metadata": {
        "colab": {
          "base_uri": "https://localhost:8080/",
          "height": 424
        },
        "id": "Kk8285xCStWD",
        "outputId": "622dfd77-6dbc-4bf2-c685-b916f530d264"
      },
      "execution_count": null,
      "outputs": [
        {
          "output_type": "execute_result",
          "data": {
            "text/plain": [
              "                     Time  PM2.5(µg/m3)\n",
              "0     2017-07-01 01:00:00          10.0\n",
              "1     2017-07-01 04:00:00          15.0\n",
              "2     2017-07-01 07:00:00          23.0\n",
              "3     2017-07-01 10:00:00          22.0\n",
              "4     2017-07-01 13:00:00          14.0\n",
              "...                   ...           ...\n",
              "8763  2020-06-30 10:00:00          14.0\n",
              "8764  2020-06-30 13:00:00          12.0\n",
              "8765  2020-06-30 16:00:00           9.0\n",
              "8766  2020-06-30 19:00:00          15.0\n",
              "8767  2020-06-30 22:00:00           5.0\n",
              "\n",
              "[8768 rows x 2 columns]"
            ],
            "text/html": [
              "\n",
              "  <div id=\"df-0cc20201-95c9-49e5-959a-382f19376dd9\">\n",
              "    <div class=\"colab-df-container\">\n",
              "      <div>\n",
              "<style scoped>\n",
              "    .dataframe tbody tr th:only-of-type {\n",
              "        vertical-align: middle;\n",
              "    }\n",
              "\n",
              "    .dataframe tbody tr th {\n",
              "        vertical-align: top;\n",
              "    }\n",
              "\n",
              "    .dataframe thead th {\n",
              "        text-align: right;\n",
              "    }\n",
              "</style>\n",
              "<table border=\"1\" class=\"dataframe\">\n",
              "  <thead>\n",
              "    <tr style=\"text-align: right;\">\n",
              "      <th></th>\n",
              "      <th>Time</th>\n",
              "      <th>PM2.5(µg/m3)</th>\n",
              "    </tr>\n",
              "  </thead>\n",
              "  <tbody>\n",
              "    <tr>\n",
              "      <th>0</th>\n",
              "      <td>2017-07-01 01:00:00</td>\n",
              "      <td>10.0</td>\n",
              "    </tr>\n",
              "    <tr>\n",
              "      <th>1</th>\n",
              "      <td>2017-07-01 04:00:00</td>\n",
              "      <td>15.0</td>\n",
              "    </tr>\n",
              "    <tr>\n",
              "      <th>2</th>\n",
              "      <td>2017-07-01 07:00:00</td>\n",
              "      <td>23.0</td>\n",
              "    </tr>\n",
              "    <tr>\n",
              "      <th>3</th>\n",
              "      <td>2017-07-01 10:00:00</td>\n",
              "      <td>22.0</td>\n",
              "    </tr>\n",
              "    <tr>\n",
              "      <th>4</th>\n",
              "      <td>2017-07-01 13:00:00</td>\n",
              "      <td>14.0</td>\n",
              "    </tr>\n",
              "    <tr>\n",
              "      <th>...</th>\n",
              "      <td>...</td>\n",
              "      <td>...</td>\n",
              "    </tr>\n",
              "    <tr>\n",
              "      <th>8763</th>\n",
              "      <td>2020-06-30 10:00:00</td>\n",
              "      <td>14.0</td>\n",
              "    </tr>\n",
              "    <tr>\n",
              "      <th>8764</th>\n",
              "      <td>2020-06-30 13:00:00</td>\n",
              "      <td>12.0</td>\n",
              "    </tr>\n",
              "    <tr>\n",
              "      <th>8765</th>\n",
              "      <td>2020-06-30 16:00:00</td>\n",
              "      <td>9.0</td>\n",
              "    </tr>\n",
              "    <tr>\n",
              "      <th>8766</th>\n",
              "      <td>2020-06-30 19:00:00</td>\n",
              "      <td>15.0</td>\n",
              "    </tr>\n",
              "    <tr>\n",
              "      <th>8767</th>\n",
              "      <td>2020-06-30 22:00:00</td>\n",
              "      <td>5.0</td>\n",
              "    </tr>\n",
              "  </tbody>\n",
              "</table>\n",
              "<p>8768 rows × 2 columns</p>\n",
              "</div>\n",
              "      <button class=\"colab-df-convert\" onclick=\"convertToInteractive('df-0cc20201-95c9-49e5-959a-382f19376dd9')\"\n",
              "              title=\"Convert this dataframe to an interactive table.\"\n",
              "              style=\"display:none;\">\n",
              "        \n",
              "  <svg xmlns=\"http://www.w3.org/2000/svg\" height=\"24px\"viewBox=\"0 0 24 24\"\n",
              "       width=\"24px\">\n",
              "    <path d=\"M0 0h24v24H0V0z\" fill=\"none\"/>\n",
              "    <path d=\"M18.56 5.44l.94 2.06.94-2.06 2.06-.94-2.06-.94-.94-2.06-.94 2.06-2.06.94zm-11 1L8.5 8.5l.94-2.06 2.06-.94-2.06-.94L8.5 2.5l-.94 2.06-2.06.94zm10 10l.94 2.06.94-2.06 2.06-.94-2.06-.94-.94-2.06-.94 2.06-2.06.94z\"/><path d=\"M17.41 7.96l-1.37-1.37c-.4-.4-.92-.59-1.43-.59-.52 0-1.04.2-1.43.59L10.3 9.45l-7.72 7.72c-.78.78-.78 2.05 0 2.83L4 21.41c.39.39.9.59 1.41.59.51 0 1.02-.2 1.41-.59l7.78-7.78 2.81-2.81c.8-.78.8-2.07 0-2.86zM5.41 20L4 18.59l7.72-7.72 1.47 1.35L5.41 20z\"/>\n",
              "  </svg>\n",
              "      </button>\n",
              "      \n",
              "  <style>\n",
              "    .colab-df-container {\n",
              "      display:flex;\n",
              "      flex-wrap:wrap;\n",
              "      gap: 12px;\n",
              "    }\n",
              "\n",
              "    .colab-df-convert {\n",
              "      background-color: #E8F0FE;\n",
              "      border: none;\n",
              "      border-radius: 50%;\n",
              "      cursor: pointer;\n",
              "      display: none;\n",
              "      fill: #1967D2;\n",
              "      height: 32px;\n",
              "      padding: 0 0 0 0;\n",
              "      width: 32px;\n",
              "    }\n",
              "\n",
              "    .colab-df-convert:hover {\n",
              "      background-color: #E2EBFA;\n",
              "      box-shadow: 0px 1px 2px rgba(60, 64, 67, 0.3), 0px 1px 3px 1px rgba(60, 64, 67, 0.15);\n",
              "      fill: #174EA6;\n",
              "    }\n",
              "\n",
              "    [theme=dark] .colab-df-convert {\n",
              "      background-color: #3B4455;\n",
              "      fill: #D2E3FC;\n",
              "    }\n",
              "\n",
              "    [theme=dark] .colab-df-convert:hover {\n",
              "      background-color: #434B5C;\n",
              "      box-shadow: 0px 1px 3px 1px rgba(0, 0, 0, 0.15);\n",
              "      filter: drop-shadow(0px 1px 2px rgba(0, 0, 0, 0.3));\n",
              "      fill: #FFFFFF;\n",
              "    }\n",
              "  </style>\n",
              "\n",
              "      <script>\n",
              "        const buttonEl =\n",
              "          document.querySelector('#df-0cc20201-95c9-49e5-959a-382f19376dd9 button.colab-df-convert');\n",
              "        buttonEl.style.display =\n",
              "          google.colab.kernel.accessAllowed ? 'block' : 'none';\n",
              "\n",
              "        async function convertToInteractive(key) {\n",
              "          const element = document.querySelector('#df-0cc20201-95c9-49e5-959a-382f19376dd9');\n",
              "          const dataTable =\n",
              "            await google.colab.kernel.invokeFunction('convertToInteractive',\n",
              "                                                     [key], {});\n",
              "          if (!dataTable) return;\n",
              "\n",
              "          const docLinkHtml = 'Like what you see? Visit the ' +\n",
              "            '<a target=\"_blank\" href=https://colab.research.google.com/notebooks/data_table.ipynb>data table notebook</a>'\n",
              "            + ' to learn more about interactive tables.';\n",
              "          element.innerHTML = '';\n",
              "          dataTable['output_type'] = 'display_data';\n",
              "          await google.colab.output.renderOutput(dataTable, element);\n",
              "          const docLink = document.createElement('div');\n",
              "          docLink.innerHTML = docLinkHtml;\n",
              "          element.appendChild(docLink);\n",
              "        }\n",
              "      </script>\n",
              "    </div>\n",
              "  </div>\n",
              "  "
            ]
          },
          "metadata": {},
          "execution_count": 6
        }
      ]
    },
    {
      "cell_type": "code",
      "source": [
        "df_train_pm25.isnull().sum()"
      ],
      "metadata": {
        "colab": {
          "base_uri": "https://localhost:8080/"
        },
        "id": "EP_hZ_IhT767",
        "outputId": "9abe22f3-cad2-4077-e8bd-8897edd5f518"
      },
      "execution_count": null,
      "outputs": [
        {
          "output_type": "execute_result",
          "data": {
            "text/plain": [
              "Time            0\n",
              "PM2.5(µg/m3)    0\n",
              "dtype: int64"
            ]
          },
          "metadata": {},
          "execution_count": 7
        }
      ]
    },
    {
      "cell_type": "markdown",
      "source": [
        "### Import exogeneous data"
      ],
      "metadata": {
        "id": "vM8fvCsXMH0M"
      }
    },
    {
      "cell_type": "code",
      "source": [
        "df_train_temp = pd.read_csv('/content/drive/MyDrive/DATA_SCI_SKILL/DATA SCI ENG/Final_Proj_1/datasci_dataset_2022/BKK/train/bkk_temp_surface.csv',sep=',')"
      ],
      "metadata": {
        "id": "nVwWzW045mWR"
      },
      "execution_count": null,
      "outputs": []
    },
    {
      "cell_type": "code",
      "source": [
        "df_train_temp"
      ],
      "metadata": {
        "colab": {
          "base_uri": "https://localhost:8080/",
          "height": 424
        },
        "id": "TcwACT6pTcnU",
        "outputId": "f24623bf-4bc4-4ea5-f28d-b7c29cf17e89"
      },
      "execution_count": null,
      "outputs": [
        {
          "output_type": "execute_result",
          "data": {
            "text/plain": [
              "            date_time  temp\n",
              "0       07-01-17 1:00  27.9\n",
              "1       07-01-17 4:00  27.4\n",
              "2       07-01-17 7:00  28.0\n",
              "3      07-01-17 10:00  31.1\n",
              "4      07-01-17 13:00  33.3\n",
              "...               ...   ...\n",
              "8763  6/30/2020 10:00  30.8\n",
              "8764  6/30/2020 13:00  32.0\n",
              "8765  6/30/2020 16:00  32.1\n",
              "8766  6/30/2020 19:00  30.3\n",
              "8767  6/30/2020 22:00  29.4\n",
              "\n",
              "[8768 rows x 2 columns]"
            ],
            "text/html": [
              "\n",
              "  <div id=\"df-ce2dfb67-d3de-4d0e-b99d-28fc287ce1d1\">\n",
              "    <div class=\"colab-df-container\">\n",
              "      <div>\n",
              "<style scoped>\n",
              "    .dataframe tbody tr th:only-of-type {\n",
              "        vertical-align: middle;\n",
              "    }\n",
              "\n",
              "    .dataframe tbody tr th {\n",
              "        vertical-align: top;\n",
              "    }\n",
              "\n",
              "    .dataframe thead th {\n",
              "        text-align: right;\n",
              "    }\n",
              "</style>\n",
              "<table border=\"1\" class=\"dataframe\">\n",
              "  <thead>\n",
              "    <tr style=\"text-align: right;\">\n",
              "      <th></th>\n",
              "      <th>date_time</th>\n",
              "      <th>temp</th>\n",
              "    </tr>\n",
              "  </thead>\n",
              "  <tbody>\n",
              "    <tr>\n",
              "      <th>0</th>\n",
              "      <td>07-01-17 1:00</td>\n",
              "      <td>27.9</td>\n",
              "    </tr>\n",
              "    <tr>\n",
              "      <th>1</th>\n",
              "      <td>07-01-17 4:00</td>\n",
              "      <td>27.4</td>\n",
              "    </tr>\n",
              "    <tr>\n",
              "      <th>2</th>\n",
              "      <td>07-01-17 7:00</td>\n",
              "      <td>28.0</td>\n",
              "    </tr>\n",
              "    <tr>\n",
              "      <th>3</th>\n",
              "      <td>07-01-17 10:00</td>\n",
              "      <td>31.1</td>\n",
              "    </tr>\n",
              "    <tr>\n",
              "      <th>4</th>\n",
              "      <td>07-01-17 13:00</td>\n",
              "      <td>33.3</td>\n",
              "    </tr>\n",
              "    <tr>\n",
              "      <th>...</th>\n",
              "      <td>...</td>\n",
              "      <td>...</td>\n",
              "    </tr>\n",
              "    <tr>\n",
              "      <th>8763</th>\n",
              "      <td>6/30/2020 10:00</td>\n",
              "      <td>30.8</td>\n",
              "    </tr>\n",
              "    <tr>\n",
              "      <th>8764</th>\n",
              "      <td>6/30/2020 13:00</td>\n",
              "      <td>32.0</td>\n",
              "    </tr>\n",
              "    <tr>\n",
              "      <th>8765</th>\n",
              "      <td>6/30/2020 16:00</td>\n",
              "      <td>32.1</td>\n",
              "    </tr>\n",
              "    <tr>\n",
              "      <th>8766</th>\n",
              "      <td>6/30/2020 19:00</td>\n",
              "      <td>30.3</td>\n",
              "    </tr>\n",
              "    <tr>\n",
              "      <th>8767</th>\n",
              "      <td>6/30/2020 22:00</td>\n",
              "      <td>29.4</td>\n",
              "    </tr>\n",
              "  </tbody>\n",
              "</table>\n",
              "<p>8768 rows × 2 columns</p>\n",
              "</div>\n",
              "      <button class=\"colab-df-convert\" onclick=\"convertToInteractive('df-ce2dfb67-d3de-4d0e-b99d-28fc287ce1d1')\"\n",
              "              title=\"Convert this dataframe to an interactive table.\"\n",
              "              style=\"display:none;\">\n",
              "        \n",
              "  <svg xmlns=\"http://www.w3.org/2000/svg\" height=\"24px\"viewBox=\"0 0 24 24\"\n",
              "       width=\"24px\">\n",
              "    <path d=\"M0 0h24v24H0V0z\" fill=\"none\"/>\n",
              "    <path d=\"M18.56 5.44l.94 2.06.94-2.06 2.06-.94-2.06-.94-.94-2.06-.94 2.06-2.06.94zm-11 1L8.5 8.5l.94-2.06 2.06-.94-2.06-.94L8.5 2.5l-.94 2.06-2.06.94zm10 10l.94 2.06.94-2.06 2.06-.94-2.06-.94-.94-2.06-.94 2.06-2.06.94z\"/><path d=\"M17.41 7.96l-1.37-1.37c-.4-.4-.92-.59-1.43-.59-.52 0-1.04.2-1.43.59L10.3 9.45l-7.72 7.72c-.78.78-.78 2.05 0 2.83L4 21.41c.39.39.9.59 1.41.59.51 0 1.02-.2 1.41-.59l7.78-7.78 2.81-2.81c.8-.78.8-2.07 0-2.86zM5.41 20L4 18.59l7.72-7.72 1.47 1.35L5.41 20z\"/>\n",
              "  </svg>\n",
              "      </button>\n",
              "      \n",
              "  <style>\n",
              "    .colab-df-container {\n",
              "      display:flex;\n",
              "      flex-wrap:wrap;\n",
              "      gap: 12px;\n",
              "    }\n",
              "\n",
              "    .colab-df-convert {\n",
              "      background-color: #E8F0FE;\n",
              "      border: none;\n",
              "      border-radius: 50%;\n",
              "      cursor: pointer;\n",
              "      display: none;\n",
              "      fill: #1967D2;\n",
              "      height: 32px;\n",
              "      padding: 0 0 0 0;\n",
              "      width: 32px;\n",
              "    }\n",
              "\n",
              "    .colab-df-convert:hover {\n",
              "      background-color: #E2EBFA;\n",
              "      box-shadow: 0px 1px 2px rgba(60, 64, 67, 0.3), 0px 1px 3px 1px rgba(60, 64, 67, 0.15);\n",
              "      fill: #174EA6;\n",
              "    }\n",
              "\n",
              "    [theme=dark] .colab-df-convert {\n",
              "      background-color: #3B4455;\n",
              "      fill: #D2E3FC;\n",
              "    }\n",
              "\n",
              "    [theme=dark] .colab-df-convert:hover {\n",
              "      background-color: #434B5C;\n",
              "      box-shadow: 0px 1px 3px 1px rgba(0, 0, 0, 0.15);\n",
              "      filter: drop-shadow(0px 1px 2px rgba(0, 0, 0, 0.3));\n",
              "      fill: #FFFFFF;\n",
              "    }\n",
              "  </style>\n",
              "\n",
              "      <script>\n",
              "        const buttonEl =\n",
              "          document.querySelector('#df-ce2dfb67-d3de-4d0e-b99d-28fc287ce1d1 button.colab-df-convert');\n",
              "        buttonEl.style.display =\n",
              "          google.colab.kernel.accessAllowed ? 'block' : 'none';\n",
              "\n",
              "        async function convertToInteractive(key) {\n",
              "          const element = document.querySelector('#df-ce2dfb67-d3de-4d0e-b99d-28fc287ce1d1');\n",
              "          const dataTable =\n",
              "            await google.colab.kernel.invokeFunction('convertToInteractive',\n",
              "                                                     [key], {});\n",
              "          if (!dataTable) return;\n",
              "\n",
              "          const docLinkHtml = 'Like what you see? Visit the ' +\n",
              "            '<a target=\"_blank\" href=https://colab.research.google.com/notebooks/data_table.ipynb>data table notebook</a>'\n",
              "            + ' to learn more about interactive tables.';\n",
              "          element.innerHTML = '';\n",
              "          dataTable['output_type'] = 'display_data';\n",
              "          await google.colab.output.renderOutput(dataTable, element);\n",
              "          const docLink = document.createElement('div');\n",
              "          docLink.innerHTML = docLinkHtml;\n",
              "          element.appendChild(docLink);\n",
              "        }\n",
              "      </script>\n",
              "    </div>\n",
              "  </div>\n",
              "  "
            ]
          },
          "metadata": {},
          "execution_count": 9
        }
      ]
    },
    {
      "cell_type": "code",
      "source": [
        "df_train_temp.isnull().sum()"
      ],
      "metadata": {
        "colab": {
          "base_uri": "https://localhost:8080/"
        },
        "id": "CZqwyMVTTfjn",
        "outputId": "eb25091d-9fc3-4503-9732-99332230dec0"
      },
      "execution_count": null,
      "outputs": [
        {
          "output_type": "execute_result",
          "data": {
            "text/plain": [
              "date_time    0\n",
              "temp         0\n",
              "dtype: int64"
            ]
          },
          "metadata": {},
          "execution_count": 10
        }
      ]
    },
    {
      "cell_type": "code",
      "source": [
        "df_train_wind = pd.read_csv('/content/drive/MyDrive/DATA_SCI_SKILL/DATA SCI ENG/Final_Proj_1/datasci_dataset_2022/BKK/train/bkk_weather_wind.csv',sep=',')\n",
        "df_train_wind"
      ],
      "metadata": {
        "colab": {
          "base_uri": "https://localhost:8080/",
          "height": 424
        },
        "id": "2u9GocqzTt1y",
        "outputId": "e12e78af-b587-4caf-b368-969a6e21ff5c"
      },
      "execution_count": null,
      "outputs": [
        {
          "output_type": "execute_result",
          "data": {
            "text/plain": [
              "                date_time  wind speed  wind dir\n",
              "0     2017-07-01 01:00:00          16       260\n",
              "1     2017-07-01 04:00:00          16       255\n",
              "2     2017-07-01 07:00:00          17       235\n",
              "3     2017-07-01 10:00:00          18       240\n",
              "4     2017-07-01 13:00:00          18       255\n",
              "...                   ...         ...       ...\n",
              "8763  2020-06-30 10:00:00          24       250\n",
              "8764  2020-06-30 13:00:00          23       250\n",
              "8765  2020-06-30 16:00:00          37       255\n",
              "8766  2020-06-30 19:00:00          36       265\n",
              "8767  2020-06-30 22:00:00          35       270\n",
              "\n",
              "[8768 rows x 3 columns]"
            ],
            "text/html": [
              "\n",
              "  <div id=\"df-cb70813e-b201-4e88-92c5-c746ed5d6855\">\n",
              "    <div class=\"colab-df-container\">\n",
              "      <div>\n",
              "<style scoped>\n",
              "    .dataframe tbody tr th:only-of-type {\n",
              "        vertical-align: middle;\n",
              "    }\n",
              "\n",
              "    .dataframe tbody tr th {\n",
              "        vertical-align: top;\n",
              "    }\n",
              "\n",
              "    .dataframe thead th {\n",
              "        text-align: right;\n",
              "    }\n",
              "</style>\n",
              "<table border=\"1\" class=\"dataframe\">\n",
              "  <thead>\n",
              "    <tr style=\"text-align: right;\">\n",
              "      <th></th>\n",
              "      <th>date_time</th>\n",
              "      <th>wind speed</th>\n",
              "      <th>wind dir</th>\n",
              "    </tr>\n",
              "  </thead>\n",
              "  <tbody>\n",
              "    <tr>\n",
              "      <th>0</th>\n",
              "      <td>2017-07-01 01:00:00</td>\n",
              "      <td>16</td>\n",
              "      <td>260</td>\n",
              "    </tr>\n",
              "    <tr>\n",
              "      <th>1</th>\n",
              "      <td>2017-07-01 04:00:00</td>\n",
              "      <td>16</td>\n",
              "      <td>255</td>\n",
              "    </tr>\n",
              "    <tr>\n",
              "      <th>2</th>\n",
              "      <td>2017-07-01 07:00:00</td>\n",
              "      <td>17</td>\n",
              "      <td>235</td>\n",
              "    </tr>\n",
              "    <tr>\n",
              "      <th>3</th>\n",
              "      <td>2017-07-01 10:00:00</td>\n",
              "      <td>18</td>\n",
              "      <td>240</td>\n",
              "    </tr>\n",
              "    <tr>\n",
              "      <th>4</th>\n",
              "      <td>2017-07-01 13:00:00</td>\n",
              "      <td>18</td>\n",
              "      <td>255</td>\n",
              "    </tr>\n",
              "    <tr>\n",
              "      <th>...</th>\n",
              "      <td>...</td>\n",
              "      <td>...</td>\n",
              "      <td>...</td>\n",
              "    </tr>\n",
              "    <tr>\n",
              "      <th>8763</th>\n",
              "      <td>2020-06-30 10:00:00</td>\n",
              "      <td>24</td>\n",
              "      <td>250</td>\n",
              "    </tr>\n",
              "    <tr>\n",
              "      <th>8764</th>\n",
              "      <td>2020-06-30 13:00:00</td>\n",
              "      <td>23</td>\n",
              "      <td>250</td>\n",
              "    </tr>\n",
              "    <tr>\n",
              "      <th>8765</th>\n",
              "      <td>2020-06-30 16:00:00</td>\n",
              "      <td>37</td>\n",
              "      <td>255</td>\n",
              "    </tr>\n",
              "    <tr>\n",
              "      <th>8766</th>\n",
              "      <td>2020-06-30 19:00:00</td>\n",
              "      <td>36</td>\n",
              "      <td>265</td>\n",
              "    </tr>\n",
              "    <tr>\n",
              "      <th>8767</th>\n",
              "      <td>2020-06-30 22:00:00</td>\n",
              "      <td>35</td>\n",
              "      <td>270</td>\n",
              "    </tr>\n",
              "  </tbody>\n",
              "</table>\n",
              "<p>8768 rows × 3 columns</p>\n",
              "</div>\n",
              "      <button class=\"colab-df-convert\" onclick=\"convertToInteractive('df-cb70813e-b201-4e88-92c5-c746ed5d6855')\"\n",
              "              title=\"Convert this dataframe to an interactive table.\"\n",
              "              style=\"display:none;\">\n",
              "        \n",
              "  <svg xmlns=\"http://www.w3.org/2000/svg\" height=\"24px\"viewBox=\"0 0 24 24\"\n",
              "       width=\"24px\">\n",
              "    <path d=\"M0 0h24v24H0V0z\" fill=\"none\"/>\n",
              "    <path d=\"M18.56 5.44l.94 2.06.94-2.06 2.06-.94-2.06-.94-.94-2.06-.94 2.06-2.06.94zm-11 1L8.5 8.5l.94-2.06 2.06-.94-2.06-.94L8.5 2.5l-.94 2.06-2.06.94zm10 10l.94 2.06.94-2.06 2.06-.94-2.06-.94-.94-2.06-.94 2.06-2.06.94z\"/><path d=\"M17.41 7.96l-1.37-1.37c-.4-.4-.92-.59-1.43-.59-.52 0-1.04.2-1.43.59L10.3 9.45l-7.72 7.72c-.78.78-.78 2.05 0 2.83L4 21.41c.39.39.9.59 1.41.59.51 0 1.02-.2 1.41-.59l7.78-7.78 2.81-2.81c.8-.78.8-2.07 0-2.86zM5.41 20L4 18.59l7.72-7.72 1.47 1.35L5.41 20z\"/>\n",
              "  </svg>\n",
              "      </button>\n",
              "      \n",
              "  <style>\n",
              "    .colab-df-container {\n",
              "      display:flex;\n",
              "      flex-wrap:wrap;\n",
              "      gap: 12px;\n",
              "    }\n",
              "\n",
              "    .colab-df-convert {\n",
              "      background-color: #E8F0FE;\n",
              "      border: none;\n",
              "      border-radius: 50%;\n",
              "      cursor: pointer;\n",
              "      display: none;\n",
              "      fill: #1967D2;\n",
              "      height: 32px;\n",
              "      padding: 0 0 0 0;\n",
              "      width: 32px;\n",
              "    }\n",
              "\n",
              "    .colab-df-convert:hover {\n",
              "      background-color: #E2EBFA;\n",
              "      box-shadow: 0px 1px 2px rgba(60, 64, 67, 0.3), 0px 1px 3px 1px rgba(60, 64, 67, 0.15);\n",
              "      fill: #174EA6;\n",
              "    }\n",
              "\n",
              "    [theme=dark] .colab-df-convert {\n",
              "      background-color: #3B4455;\n",
              "      fill: #D2E3FC;\n",
              "    }\n",
              "\n",
              "    [theme=dark] .colab-df-convert:hover {\n",
              "      background-color: #434B5C;\n",
              "      box-shadow: 0px 1px 3px 1px rgba(0, 0, 0, 0.15);\n",
              "      filter: drop-shadow(0px 1px 2px rgba(0, 0, 0, 0.3));\n",
              "      fill: #FFFFFF;\n",
              "    }\n",
              "  </style>\n",
              "\n",
              "      <script>\n",
              "        const buttonEl =\n",
              "          document.querySelector('#df-cb70813e-b201-4e88-92c5-c746ed5d6855 button.colab-df-convert');\n",
              "        buttonEl.style.display =\n",
              "          google.colab.kernel.accessAllowed ? 'block' : 'none';\n",
              "\n",
              "        async function convertToInteractive(key) {\n",
              "          const element = document.querySelector('#df-cb70813e-b201-4e88-92c5-c746ed5d6855');\n",
              "          const dataTable =\n",
              "            await google.colab.kernel.invokeFunction('convertToInteractive',\n",
              "                                                     [key], {});\n",
              "          if (!dataTable) return;\n",
              "\n",
              "          const docLinkHtml = 'Like what you see? Visit the ' +\n",
              "            '<a target=\"_blank\" href=https://colab.research.google.com/notebooks/data_table.ipynb>data table notebook</a>'\n",
              "            + ' to learn more about interactive tables.';\n",
              "          element.innerHTML = '';\n",
              "          dataTable['output_type'] = 'display_data';\n",
              "          await google.colab.output.renderOutput(dataTable, element);\n",
              "          const docLink = document.createElement('div');\n",
              "          docLink.innerHTML = docLinkHtml;\n",
              "          element.appendChild(docLink);\n",
              "        }\n",
              "      </script>\n",
              "    </div>\n",
              "  </div>\n",
              "  "
            ]
          },
          "metadata": {},
          "execution_count": 11
        }
      ]
    },
    {
      "cell_type": "code",
      "source": [
        "df_train_wind.isnull().sum()"
      ],
      "metadata": {
        "colab": {
          "base_uri": "https://localhost:8080/"
        },
        "id": "PR_Af-qbXfBf",
        "outputId": "2af4aa87-d901-41d8-9485-40e812963c0d"
      },
      "execution_count": null,
      "outputs": [
        {
          "output_type": "execute_result",
          "data": {
            "text/plain": [
              "date_time     0\n",
              "wind speed    0\n",
              "wind dir      0\n",
              "dtype: int64"
            ]
          },
          "metadata": {},
          "execution_count": 12
        }
      ]
    },
    {
      "cell_type": "code",
      "source": [
        "df_train_rh = pd.read_csv('/content/drive/MyDrive/DATA_SCI_SKILL/DATA SCI ENG/Final_Proj_1/train_all_rescrap_BKK.csv',sep=',')\n",
        "del df_train_rh['Unnamed: 0']\n",
        "df_train_rh"
      ],
      "metadata": {
        "colab": {
          "base_uri": "https://localhost:8080/",
          "height": 424
        },
        "id": "RFzKhdN6Xzp5",
        "outputId": "ace50312-6905-4938-b6e3-6e014a5cb1af"
      },
      "execution_count": null,
      "outputs": [
        {
          "output_type": "execute_result",
          "data": {
            "text/plain": [
              "               Time (UTC)  Surface Relative Humidity (%)\n",
              "0     2017/06/30 00:00:00                             74\n",
              "1     2017/06/30 03:00:00                             62\n",
              "2     2017/06/30 06:00:00                             55\n",
              "3     2017/06/30 09:00:00                             55\n",
              "4     2017/06/30 12:00:00                             72\n",
              "...                   ...                            ...\n",
              "8771  2020/06/30 09:00:00                             61\n",
              "8772  2020/06/30 12:00:00                             69\n",
              "8773  2020/06/30 15:00:00                             69\n",
              "8774  2020/06/30 18:00:00                             68\n",
              "8775  2020/06/30 21:00:00                             69\n",
              "\n",
              "[8776 rows x 2 columns]"
            ],
            "text/html": [
              "\n",
              "  <div id=\"df-27d85844-c927-4d59-8a8d-b1cb1f9f8454\">\n",
              "    <div class=\"colab-df-container\">\n",
              "      <div>\n",
              "<style scoped>\n",
              "    .dataframe tbody tr th:only-of-type {\n",
              "        vertical-align: middle;\n",
              "    }\n",
              "\n",
              "    .dataframe tbody tr th {\n",
              "        vertical-align: top;\n",
              "    }\n",
              "\n",
              "    .dataframe thead th {\n",
              "        text-align: right;\n",
              "    }\n",
              "</style>\n",
              "<table border=\"1\" class=\"dataframe\">\n",
              "  <thead>\n",
              "    <tr style=\"text-align: right;\">\n",
              "      <th></th>\n",
              "      <th>Time (UTC)</th>\n",
              "      <th>Surface Relative Humidity (%)</th>\n",
              "    </tr>\n",
              "  </thead>\n",
              "  <tbody>\n",
              "    <tr>\n",
              "      <th>0</th>\n",
              "      <td>2017/06/30 00:00:00</td>\n",
              "      <td>74</td>\n",
              "    </tr>\n",
              "    <tr>\n",
              "      <th>1</th>\n",
              "      <td>2017/06/30 03:00:00</td>\n",
              "      <td>62</td>\n",
              "    </tr>\n",
              "    <tr>\n",
              "      <th>2</th>\n",
              "      <td>2017/06/30 06:00:00</td>\n",
              "      <td>55</td>\n",
              "    </tr>\n",
              "    <tr>\n",
              "      <th>3</th>\n",
              "      <td>2017/06/30 09:00:00</td>\n",
              "      <td>55</td>\n",
              "    </tr>\n",
              "    <tr>\n",
              "      <th>4</th>\n",
              "      <td>2017/06/30 12:00:00</td>\n",
              "      <td>72</td>\n",
              "    </tr>\n",
              "    <tr>\n",
              "      <th>...</th>\n",
              "      <td>...</td>\n",
              "      <td>...</td>\n",
              "    </tr>\n",
              "    <tr>\n",
              "      <th>8771</th>\n",
              "      <td>2020/06/30 09:00:00</td>\n",
              "      <td>61</td>\n",
              "    </tr>\n",
              "    <tr>\n",
              "      <th>8772</th>\n",
              "      <td>2020/06/30 12:00:00</td>\n",
              "      <td>69</td>\n",
              "    </tr>\n",
              "    <tr>\n",
              "      <th>8773</th>\n",
              "      <td>2020/06/30 15:00:00</td>\n",
              "      <td>69</td>\n",
              "    </tr>\n",
              "    <tr>\n",
              "      <th>8774</th>\n",
              "      <td>2020/06/30 18:00:00</td>\n",
              "      <td>68</td>\n",
              "    </tr>\n",
              "    <tr>\n",
              "      <th>8775</th>\n",
              "      <td>2020/06/30 21:00:00</td>\n",
              "      <td>69</td>\n",
              "    </tr>\n",
              "  </tbody>\n",
              "</table>\n",
              "<p>8776 rows × 2 columns</p>\n",
              "</div>\n",
              "      <button class=\"colab-df-convert\" onclick=\"convertToInteractive('df-27d85844-c927-4d59-8a8d-b1cb1f9f8454')\"\n",
              "              title=\"Convert this dataframe to an interactive table.\"\n",
              "              style=\"display:none;\">\n",
              "        \n",
              "  <svg xmlns=\"http://www.w3.org/2000/svg\" height=\"24px\"viewBox=\"0 0 24 24\"\n",
              "       width=\"24px\">\n",
              "    <path d=\"M0 0h24v24H0V0z\" fill=\"none\"/>\n",
              "    <path d=\"M18.56 5.44l.94 2.06.94-2.06 2.06-.94-2.06-.94-.94-2.06-.94 2.06-2.06.94zm-11 1L8.5 8.5l.94-2.06 2.06-.94-2.06-.94L8.5 2.5l-.94 2.06-2.06.94zm10 10l.94 2.06.94-2.06 2.06-.94-2.06-.94-.94-2.06-.94 2.06-2.06.94z\"/><path d=\"M17.41 7.96l-1.37-1.37c-.4-.4-.92-.59-1.43-.59-.52 0-1.04.2-1.43.59L10.3 9.45l-7.72 7.72c-.78.78-.78 2.05 0 2.83L4 21.41c.39.39.9.59 1.41.59.51 0 1.02-.2 1.41-.59l7.78-7.78 2.81-2.81c.8-.78.8-2.07 0-2.86zM5.41 20L4 18.59l7.72-7.72 1.47 1.35L5.41 20z\"/>\n",
              "  </svg>\n",
              "      </button>\n",
              "      \n",
              "  <style>\n",
              "    .colab-df-container {\n",
              "      display:flex;\n",
              "      flex-wrap:wrap;\n",
              "      gap: 12px;\n",
              "    }\n",
              "\n",
              "    .colab-df-convert {\n",
              "      background-color: #E8F0FE;\n",
              "      border: none;\n",
              "      border-radius: 50%;\n",
              "      cursor: pointer;\n",
              "      display: none;\n",
              "      fill: #1967D2;\n",
              "      height: 32px;\n",
              "      padding: 0 0 0 0;\n",
              "      width: 32px;\n",
              "    }\n",
              "\n",
              "    .colab-df-convert:hover {\n",
              "      background-color: #E2EBFA;\n",
              "      box-shadow: 0px 1px 2px rgba(60, 64, 67, 0.3), 0px 1px 3px 1px rgba(60, 64, 67, 0.15);\n",
              "      fill: #174EA6;\n",
              "    }\n",
              "\n",
              "    [theme=dark] .colab-df-convert {\n",
              "      background-color: #3B4455;\n",
              "      fill: #D2E3FC;\n",
              "    }\n",
              "\n",
              "    [theme=dark] .colab-df-convert:hover {\n",
              "      background-color: #434B5C;\n",
              "      box-shadow: 0px 1px 3px 1px rgba(0, 0, 0, 0.15);\n",
              "      filter: drop-shadow(0px 1px 2px rgba(0, 0, 0, 0.3));\n",
              "      fill: #FFFFFF;\n",
              "    }\n",
              "  </style>\n",
              "\n",
              "      <script>\n",
              "        const buttonEl =\n",
              "          document.querySelector('#df-27d85844-c927-4d59-8a8d-b1cb1f9f8454 button.colab-df-convert');\n",
              "        buttonEl.style.display =\n",
              "          google.colab.kernel.accessAllowed ? 'block' : 'none';\n",
              "\n",
              "        async function convertToInteractive(key) {\n",
              "          const element = document.querySelector('#df-27d85844-c927-4d59-8a8d-b1cb1f9f8454');\n",
              "          const dataTable =\n",
              "            await google.colab.kernel.invokeFunction('convertToInteractive',\n",
              "                                                     [key], {});\n",
              "          if (!dataTable) return;\n",
              "\n",
              "          const docLinkHtml = 'Like what you see? Visit the ' +\n",
              "            '<a target=\"_blank\" href=https://colab.research.google.com/notebooks/data_table.ipynb>data table notebook</a>'\n",
              "            + ' to learn more about interactive tables.';\n",
              "          element.innerHTML = '';\n",
              "          dataTable['output_type'] = 'display_data';\n",
              "          await google.colab.output.renderOutput(dataTable, element);\n",
              "          const docLink = document.createElement('div');\n",
              "          docLink.innerHTML = docLinkHtml;\n",
              "          element.appendChild(docLink);\n",
              "        }\n",
              "      </script>\n",
              "    </div>\n",
              "  </div>\n",
              "  "
            ]
          },
          "metadata": {},
          "execution_count": 13
        }
      ]
    },
    {
      "cell_type": "markdown",
      "source": [
        "### Eliminate first 6 columns and last 2 columns"
      ],
      "metadata": {
        "id": "E2igSlpqEqYg"
      }
    },
    {
      "cell_type": "code",
      "source": [
        "df_train_rh.drop([0,1,2,3,4,5,8774,8775],axis=0, inplace = True)\n",
        "df_train_rh"
      ],
      "metadata": {
        "colab": {
          "base_uri": "https://localhost:8080/",
          "height": 424
        },
        "id": "rtmpYjuGFERA",
        "outputId": "ec7b19ea-6b14-4e4e-d7d8-c30c456ccc52"
      },
      "execution_count": null,
      "outputs": [
        {
          "output_type": "execute_result",
          "data": {
            "text/plain": [
              "               Time (UTC)  Surface Relative Humidity (%)\n",
              "6     2017/06/30 18:00:00                             79\n",
              "7     2017/06/30 21:00:00                             80\n",
              "8     2017/07/01 00:00:00                             75\n",
              "9     2017/07/01 03:00:00                             59\n",
              "10    2017/07/01 06:00:00                             51\n",
              "...                   ...                            ...\n",
              "8769  2020/06/30 03:00:00                             61\n",
              "8770  2020/06/30 06:00:00                             60\n",
              "8771  2020/06/30 09:00:00                             61\n",
              "8772  2020/06/30 12:00:00                             69\n",
              "8773  2020/06/30 15:00:00                             69\n",
              "\n",
              "[8768 rows x 2 columns]"
            ],
            "text/html": [
              "\n",
              "  <div id=\"df-a3e271fc-455f-4484-9c19-3388004b7e1d\">\n",
              "    <div class=\"colab-df-container\">\n",
              "      <div>\n",
              "<style scoped>\n",
              "    .dataframe tbody tr th:only-of-type {\n",
              "        vertical-align: middle;\n",
              "    }\n",
              "\n",
              "    .dataframe tbody tr th {\n",
              "        vertical-align: top;\n",
              "    }\n",
              "\n",
              "    .dataframe thead th {\n",
              "        text-align: right;\n",
              "    }\n",
              "</style>\n",
              "<table border=\"1\" class=\"dataframe\">\n",
              "  <thead>\n",
              "    <tr style=\"text-align: right;\">\n",
              "      <th></th>\n",
              "      <th>Time (UTC)</th>\n",
              "      <th>Surface Relative Humidity (%)</th>\n",
              "    </tr>\n",
              "  </thead>\n",
              "  <tbody>\n",
              "    <tr>\n",
              "      <th>6</th>\n",
              "      <td>2017/06/30 18:00:00</td>\n",
              "      <td>79</td>\n",
              "    </tr>\n",
              "    <tr>\n",
              "      <th>7</th>\n",
              "      <td>2017/06/30 21:00:00</td>\n",
              "      <td>80</td>\n",
              "    </tr>\n",
              "    <tr>\n",
              "      <th>8</th>\n",
              "      <td>2017/07/01 00:00:00</td>\n",
              "      <td>75</td>\n",
              "    </tr>\n",
              "    <tr>\n",
              "      <th>9</th>\n",
              "      <td>2017/07/01 03:00:00</td>\n",
              "      <td>59</td>\n",
              "    </tr>\n",
              "    <tr>\n",
              "      <th>10</th>\n",
              "      <td>2017/07/01 06:00:00</td>\n",
              "      <td>51</td>\n",
              "    </tr>\n",
              "    <tr>\n",
              "      <th>...</th>\n",
              "      <td>...</td>\n",
              "      <td>...</td>\n",
              "    </tr>\n",
              "    <tr>\n",
              "      <th>8769</th>\n",
              "      <td>2020/06/30 03:00:00</td>\n",
              "      <td>61</td>\n",
              "    </tr>\n",
              "    <tr>\n",
              "      <th>8770</th>\n",
              "      <td>2020/06/30 06:00:00</td>\n",
              "      <td>60</td>\n",
              "    </tr>\n",
              "    <tr>\n",
              "      <th>8771</th>\n",
              "      <td>2020/06/30 09:00:00</td>\n",
              "      <td>61</td>\n",
              "    </tr>\n",
              "    <tr>\n",
              "      <th>8772</th>\n",
              "      <td>2020/06/30 12:00:00</td>\n",
              "      <td>69</td>\n",
              "    </tr>\n",
              "    <tr>\n",
              "      <th>8773</th>\n",
              "      <td>2020/06/30 15:00:00</td>\n",
              "      <td>69</td>\n",
              "    </tr>\n",
              "  </tbody>\n",
              "</table>\n",
              "<p>8768 rows × 2 columns</p>\n",
              "</div>\n",
              "      <button class=\"colab-df-convert\" onclick=\"convertToInteractive('df-a3e271fc-455f-4484-9c19-3388004b7e1d')\"\n",
              "              title=\"Convert this dataframe to an interactive table.\"\n",
              "              style=\"display:none;\">\n",
              "        \n",
              "  <svg xmlns=\"http://www.w3.org/2000/svg\" height=\"24px\"viewBox=\"0 0 24 24\"\n",
              "       width=\"24px\">\n",
              "    <path d=\"M0 0h24v24H0V0z\" fill=\"none\"/>\n",
              "    <path d=\"M18.56 5.44l.94 2.06.94-2.06 2.06-.94-2.06-.94-.94-2.06-.94 2.06-2.06.94zm-11 1L8.5 8.5l.94-2.06 2.06-.94-2.06-.94L8.5 2.5l-.94 2.06-2.06.94zm10 10l.94 2.06.94-2.06 2.06-.94-2.06-.94-.94-2.06-.94 2.06-2.06.94z\"/><path d=\"M17.41 7.96l-1.37-1.37c-.4-.4-.92-.59-1.43-.59-.52 0-1.04.2-1.43.59L10.3 9.45l-7.72 7.72c-.78.78-.78 2.05 0 2.83L4 21.41c.39.39.9.59 1.41.59.51 0 1.02-.2 1.41-.59l7.78-7.78 2.81-2.81c.8-.78.8-2.07 0-2.86zM5.41 20L4 18.59l7.72-7.72 1.47 1.35L5.41 20z\"/>\n",
              "  </svg>\n",
              "      </button>\n",
              "      \n",
              "  <style>\n",
              "    .colab-df-container {\n",
              "      display:flex;\n",
              "      flex-wrap:wrap;\n",
              "      gap: 12px;\n",
              "    }\n",
              "\n",
              "    .colab-df-convert {\n",
              "      background-color: #E8F0FE;\n",
              "      border: none;\n",
              "      border-radius: 50%;\n",
              "      cursor: pointer;\n",
              "      display: none;\n",
              "      fill: #1967D2;\n",
              "      height: 32px;\n",
              "      padding: 0 0 0 0;\n",
              "      width: 32px;\n",
              "    }\n",
              "\n",
              "    .colab-df-convert:hover {\n",
              "      background-color: #E2EBFA;\n",
              "      box-shadow: 0px 1px 2px rgba(60, 64, 67, 0.3), 0px 1px 3px 1px rgba(60, 64, 67, 0.15);\n",
              "      fill: #174EA6;\n",
              "    }\n",
              "\n",
              "    [theme=dark] .colab-df-convert {\n",
              "      background-color: #3B4455;\n",
              "      fill: #D2E3FC;\n",
              "    }\n",
              "\n",
              "    [theme=dark] .colab-df-convert:hover {\n",
              "      background-color: #434B5C;\n",
              "      box-shadow: 0px 1px 3px 1px rgba(0, 0, 0, 0.15);\n",
              "      filter: drop-shadow(0px 1px 2px rgba(0, 0, 0, 0.3));\n",
              "      fill: #FFFFFF;\n",
              "    }\n",
              "  </style>\n",
              "\n",
              "      <script>\n",
              "        const buttonEl =\n",
              "          document.querySelector('#df-a3e271fc-455f-4484-9c19-3388004b7e1d button.colab-df-convert');\n",
              "        buttonEl.style.display =\n",
              "          google.colab.kernel.accessAllowed ? 'block' : 'none';\n",
              "\n",
              "        async function convertToInteractive(key) {\n",
              "          const element = document.querySelector('#df-a3e271fc-455f-4484-9c19-3388004b7e1d');\n",
              "          const dataTable =\n",
              "            await google.colab.kernel.invokeFunction('convertToInteractive',\n",
              "                                                     [key], {});\n",
              "          if (!dataTable) return;\n",
              "\n",
              "          const docLinkHtml = 'Like what you see? Visit the ' +\n",
              "            '<a target=\"_blank\" href=https://colab.research.google.com/notebooks/data_table.ipynb>data table notebook</a>'\n",
              "            + ' to learn more about interactive tables.';\n",
              "          element.innerHTML = '';\n",
              "          dataTable['output_type'] = 'display_data';\n",
              "          await google.colab.output.renderOutput(dataTable, element);\n",
              "          const docLink = document.createElement('div');\n",
              "          docLink.innerHTML = docLinkHtml;\n",
              "          element.appendChild(docLink);\n",
              "        }\n",
              "      </script>\n",
              "    </div>\n",
              "  </div>\n",
              "  "
            ]
          },
          "metadata": {},
          "execution_count": 14
        }
      ]
    },
    {
      "cell_type": "code",
      "source": [
        "df_train_rh = df_train_rh.copy().reset_index()\n",
        "df_train_rh = df_train_rh[['Time (UTC)','Surface Relative Humidity (%)']]\n",
        "df_train_rh"
      ],
      "metadata": {
        "colab": {
          "base_uri": "https://localhost:8080/",
          "height": 424
        },
        "id": "jWyltSeYHKry",
        "outputId": "11901b90-6809-4c29-e846-6f60a261d79b"
      },
      "execution_count": null,
      "outputs": [
        {
          "output_type": "execute_result",
          "data": {
            "text/plain": [
              "               Time (UTC)  Surface Relative Humidity (%)\n",
              "0     2017/06/30 18:00:00                             79\n",
              "1     2017/06/30 21:00:00                             80\n",
              "2     2017/07/01 00:00:00                             75\n",
              "3     2017/07/01 03:00:00                             59\n",
              "4     2017/07/01 06:00:00                             51\n",
              "...                   ...                            ...\n",
              "8763  2020/06/30 03:00:00                             61\n",
              "8764  2020/06/30 06:00:00                             60\n",
              "8765  2020/06/30 09:00:00                             61\n",
              "8766  2020/06/30 12:00:00                             69\n",
              "8767  2020/06/30 15:00:00                             69\n",
              "\n",
              "[8768 rows x 2 columns]"
            ],
            "text/html": [
              "\n",
              "  <div id=\"df-c76ca2eb-37f9-4c54-8f29-381321d0fc90\">\n",
              "    <div class=\"colab-df-container\">\n",
              "      <div>\n",
              "<style scoped>\n",
              "    .dataframe tbody tr th:only-of-type {\n",
              "        vertical-align: middle;\n",
              "    }\n",
              "\n",
              "    .dataframe tbody tr th {\n",
              "        vertical-align: top;\n",
              "    }\n",
              "\n",
              "    .dataframe thead th {\n",
              "        text-align: right;\n",
              "    }\n",
              "</style>\n",
              "<table border=\"1\" class=\"dataframe\">\n",
              "  <thead>\n",
              "    <tr style=\"text-align: right;\">\n",
              "      <th></th>\n",
              "      <th>Time (UTC)</th>\n",
              "      <th>Surface Relative Humidity (%)</th>\n",
              "    </tr>\n",
              "  </thead>\n",
              "  <tbody>\n",
              "    <tr>\n",
              "      <th>0</th>\n",
              "      <td>2017/06/30 18:00:00</td>\n",
              "      <td>79</td>\n",
              "    </tr>\n",
              "    <tr>\n",
              "      <th>1</th>\n",
              "      <td>2017/06/30 21:00:00</td>\n",
              "      <td>80</td>\n",
              "    </tr>\n",
              "    <tr>\n",
              "      <th>2</th>\n",
              "      <td>2017/07/01 00:00:00</td>\n",
              "      <td>75</td>\n",
              "    </tr>\n",
              "    <tr>\n",
              "      <th>3</th>\n",
              "      <td>2017/07/01 03:00:00</td>\n",
              "      <td>59</td>\n",
              "    </tr>\n",
              "    <tr>\n",
              "      <th>4</th>\n",
              "      <td>2017/07/01 06:00:00</td>\n",
              "      <td>51</td>\n",
              "    </tr>\n",
              "    <tr>\n",
              "      <th>...</th>\n",
              "      <td>...</td>\n",
              "      <td>...</td>\n",
              "    </tr>\n",
              "    <tr>\n",
              "      <th>8763</th>\n",
              "      <td>2020/06/30 03:00:00</td>\n",
              "      <td>61</td>\n",
              "    </tr>\n",
              "    <tr>\n",
              "      <th>8764</th>\n",
              "      <td>2020/06/30 06:00:00</td>\n",
              "      <td>60</td>\n",
              "    </tr>\n",
              "    <tr>\n",
              "      <th>8765</th>\n",
              "      <td>2020/06/30 09:00:00</td>\n",
              "      <td>61</td>\n",
              "    </tr>\n",
              "    <tr>\n",
              "      <th>8766</th>\n",
              "      <td>2020/06/30 12:00:00</td>\n",
              "      <td>69</td>\n",
              "    </tr>\n",
              "    <tr>\n",
              "      <th>8767</th>\n",
              "      <td>2020/06/30 15:00:00</td>\n",
              "      <td>69</td>\n",
              "    </tr>\n",
              "  </tbody>\n",
              "</table>\n",
              "<p>8768 rows × 2 columns</p>\n",
              "</div>\n",
              "      <button class=\"colab-df-convert\" onclick=\"convertToInteractive('df-c76ca2eb-37f9-4c54-8f29-381321d0fc90')\"\n",
              "              title=\"Convert this dataframe to an interactive table.\"\n",
              "              style=\"display:none;\">\n",
              "        \n",
              "  <svg xmlns=\"http://www.w3.org/2000/svg\" height=\"24px\"viewBox=\"0 0 24 24\"\n",
              "       width=\"24px\">\n",
              "    <path d=\"M0 0h24v24H0V0z\" fill=\"none\"/>\n",
              "    <path d=\"M18.56 5.44l.94 2.06.94-2.06 2.06-.94-2.06-.94-.94-2.06-.94 2.06-2.06.94zm-11 1L8.5 8.5l.94-2.06 2.06-.94-2.06-.94L8.5 2.5l-.94 2.06-2.06.94zm10 10l.94 2.06.94-2.06 2.06-.94-2.06-.94-.94-2.06-.94 2.06-2.06.94z\"/><path d=\"M17.41 7.96l-1.37-1.37c-.4-.4-.92-.59-1.43-.59-.52 0-1.04.2-1.43.59L10.3 9.45l-7.72 7.72c-.78.78-.78 2.05 0 2.83L4 21.41c.39.39.9.59 1.41.59.51 0 1.02-.2 1.41-.59l7.78-7.78 2.81-2.81c.8-.78.8-2.07 0-2.86zM5.41 20L4 18.59l7.72-7.72 1.47 1.35L5.41 20z\"/>\n",
              "  </svg>\n",
              "      </button>\n",
              "      \n",
              "  <style>\n",
              "    .colab-df-container {\n",
              "      display:flex;\n",
              "      flex-wrap:wrap;\n",
              "      gap: 12px;\n",
              "    }\n",
              "\n",
              "    .colab-df-convert {\n",
              "      background-color: #E8F0FE;\n",
              "      border: none;\n",
              "      border-radius: 50%;\n",
              "      cursor: pointer;\n",
              "      display: none;\n",
              "      fill: #1967D2;\n",
              "      height: 32px;\n",
              "      padding: 0 0 0 0;\n",
              "      width: 32px;\n",
              "    }\n",
              "\n",
              "    .colab-df-convert:hover {\n",
              "      background-color: #E2EBFA;\n",
              "      box-shadow: 0px 1px 2px rgba(60, 64, 67, 0.3), 0px 1px 3px 1px rgba(60, 64, 67, 0.15);\n",
              "      fill: #174EA6;\n",
              "    }\n",
              "\n",
              "    [theme=dark] .colab-df-convert {\n",
              "      background-color: #3B4455;\n",
              "      fill: #D2E3FC;\n",
              "    }\n",
              "\n",
              "    [theme=dark] .colab-df-convert:hover {\n",
              "      background-color: #434B5C;\n",
              "      box-shadow: 0px 1px 3px 1px rgba(0, 0, 0, 0.15);\n",
              "      filter: drop-shadow(0px 1px 2px rgba(0, 0, 0, 0.3));\n",
              "      fill: #FFFFFF;\n",
              "    }\n",
              "  </style>\n",
              "\n",
              "      <script>\n",
              "        const buttonEl =\n",
              "          document.querySelector('#df-c76ca2eb-37f9-4c54-8f29-381321d0fc90 button.colab-df-convert');\n",
              "        buttonEl.style.display =\n",
              "          google.colab.kernel.accessAllowed ? 'block' : 'none';\n",
              "\n",
              "        async function convertToInteractive(key) {\n",
              "          const element = document.querySelector('#df-c76ca2eb-37f9-4c54-8f29-381321d0fc90');\n",
              "          const dataTable =\n",
              "            await google.colab.kernel.invokeFunction('convertToInteractive',\n",
              "                                                     [key], {});\n",
              "          if (!dataTable) return;\n",
              "\n",
              "          const docLinkHtml = 'Like what you see? Visit the ' +\n",
              "            '<a target=\"_blank\" href=https://colab.research.google.com/notebooks/data_table.ipynb>data table notebook</a>'\n",
              "            + ' to learn more about interactive tables.';\n",
              "          element.innerHTML = '';\n",
              "          dataTable['output_type'] = 'display_data';\n",
              "          await google.colab.output.renderOutput(dataTable, element);\n",
              "          const docLink = document.createElement('div');\n",
              "          docLink.innerHTML = docLinkHtml;\n",
              "          element.appendChild(docLink);\n",
              "        }\n",
              "      </script>\n",
              "    </div>\n",
              "  </div>\n",
              "  "
            ]
          },
          "metadata": {},
          "execution_count": 15
        }
      ]
    },
    {
      "cell_type": "markdown",
      "source": [
        "### Join columns"
      ],
      "metadata": {
        "id": "lOLCwpxPGdFr"
      }
    },
    {
      "cell_type": "code",
      "source": [
        "df_train = pd.concat([df_train_pm25, df_train_wind, df_train_temp,df_train_rh],axis=1)\n",
        "df_train"
      ],
      "metadata": {
        "colab": {
          "base_uri": "https://localhost:8080/",
          "height": 468
        },
        "id": "6YIJlLa2c49F",
        "outputId": "eac18cef-44b7-4090-dc98-ff82461b3f89"
      },
      "execution_count": null,
      "outputs": [
        {
          "output_type": "execute_result",
          "data": {
            "text/plain": [
              "                     Time  PM2.5(µg/m3)            date_time  wind speed  \\\n",
              "0     2017-07-01 01:00:00          10.0  2017-07-01 01:00:00          16   \n",
              "1     2017-07-01 04:00:00          15.0  2017-07-01 04:00:00          16   \n",
              "2     2017-07-01 07:00:00          23.0  2017-07-01 07:00:00          17   \n",
              "3     2017-07-01 10:00:00          22.0  2017-07-01 10:00:00          18   \n",
              "4     2017-07-01 13:00:00          14.0  2017-07-01 13:00:00          18   \n",
              "...                   ...           ...                  ...         ...   \n",
              "8763  2020-06-30 10:00:00          14.0  2020-06-30 10:00:00          24   \n",
              "8764  2020-06-30 13:00:00          12.0  2020-06-30 13:00:00          23   \n",
              "8765  2020-06-30 16:00:00           9.0  2020-06-30 16:00:00          37   \n",
              "8766  2020-06-30 19:00:00          15.0  2020-06-30 19:00:00          36   \n",
              "8767  2020-06-30 22:00:00           5.0  2020-06-30 22:00:00          35   \n",
              "\n",
              "      wind dir        date_time  temp           Time (UTC)  \\\n",
              "0          260    07-01-17 1:00  27.9  2017/06/30 18:00:00   \n",
              "1          255    07-01-17 4:00  27.4  2017/06/30 21:00:00   \n",
              "2          235    07-01-17 7:00  28.0  2017/07/01 00:00:00   \n",
              "3          240   07-01-17 10:00  31.1  2017/07/01 03:00:00   \n",
              "4          255   07-01-17 13:00  33.3  2017/07/01 06:00:00   \n",
              "...        ...              ...   ...                  ...   \n",
              "8763       250  6/30/2020 10:00  30.8  2020/06/30 03:00:00   \n",
              "8764       250  6/30/2020 13:00  32.0  2020/06/30 06:00:00   \n",
              "8765       255  6/30/2020 16:00  32.1  2020/06/30 09:00:00   \n",
              "8766       265  6/30/2020 19:00  30.3  2020/06/30 12:00:00   \n",
              "8767       270  6/30/2020 22:00  29.4  2020/06/30 15:00:00   \n",
              "\n",
              "      Surface Relative Humidity (%)  \n",
              "0                                79  \n",
              "1                                80  \n",
              "2                                75  \n",
              "3                                59  \n",
              "4                                51  \n",
              "...                             ...  \n",
              "8763                             61  \n",
              "8764                             60  \n",
              "8765                             61  \n",
              "8766                             69  \n",
              "8767                             69  \n",
              "\n",
              "[8768 rows x 9 columns]"
            ],
            "text/html": [
              "\n",
              "  <div id=\"df-697f1a27-c4f8-40a9-b1d2-bd51ad51ef04\">\n",
              "    <div class=\"colab-df-container\">\n",
              "      <div>\n",
              "<style scoped>\n",
              "    .dataframe tbody tr th:only-of-type {\n",
              "        vertical-align: middle;\n",
              "    }\n",
              "\n",
              "    .dataframe tbody tr th {\n",
              "        vertical-align: top;\n",
              "    }\n",
              "\n",
              "    .dataframe thead th {\n",
              "        text-align: right;\n",
              "    }\n",
              "</style>\n",
              "<table border=\"1\" class=\"dataframe\">\n",
              "  <thead>\n",
              "    <tr style=\"text-align: right;\">\n",
              "      <th></th>\n",
              "      <th>Time</th>\n",
              "      <th>PM2.5(µg/m3)</th>\n",
              "      <th>date_time</th>\n",
              "      <th>wind speed</th>\n",
              "      <th>wind dir</th>\n",
              "      <th>date_time</th>\n",
              "      <th>temp</th>\n",
              "      <th>Time (UTC)</th>\n",
              "      <th>Surface Relative Humidity (%)</th>\n",
              "    </tr>\n",
              "  </thead>\n",
              "  <tbody>\n",
              "    <tr>\n",
              "      <th>0</th>\n",
              "      <td>2017-07-01 01:00:00</td>\n",
              "      <td>10.0</td>\n",
              "      <td>2017-07-01 01:00:00</td>\n",
              "      <td>16</td>\n",
              "      <td>260</td>\n",
              "      <td>07-01-17 1:00</td>\n",
              "      <td>27.9</td>\n",
              "      <td>2017/06/30 18:00:00</td>\n",
              "      <td>79</td>\n",
              "    </tr>\n",
              "    <tr>\n",
              "      <th>1</th>\n",
              "      <td>2017-07-01 04:00:00</td>\n",
              "      <td>15.0</td>\n",
              "      <td>2017-07-01 04:00:00</td>\n",
              "      <td>16</td>\n",
              "      <td>255</td>\n",
              "      <td>07-01-17 4:00</td>\n",
              "      <td>27.4</td>\n",
              "      <td>2017/06/30 21:00:00</td>\n",
              "      <td>80</td>\n",
              "    </tr>\n",
              "    <tr>\n",
              "      <th>2</th>\n",
              "      <td>2017-07-01 07:00:00</td>\n",
              "      <td>23.0</td>\n",
              "      <td>2017-07-01 07:00:00</td>\n",
              "      <td>17</td>\n",
              "      <td>235</td>\n",
              "      <td>07-01-17 7:00</td>\n",
              "      <td>28.0</td>\n",
              "      <td>2017/07/01 00:00:00</td>\n",
              "      <td>75</td>\n",
              "    </tr>\n",
              "    <tr>\n",
              "      <th>3</th>\n",
              "      <td>2017-07-01 10:00:00</td>\n",
              "      <td>22.0</td>\n",
              "      <td>2017-07-01 10:00:00</td>\n",
              "      <td>18</td>\n",
              "      <td>240</td>\n",
              "      <td>07-01-17 10:00</td>\n",
              "      <td>31.1</td>\n",
              "      <td>2017/07/01 03:00:00</td>\n",
              "      <td>59</td>\n",
              "    </tr>\n",
              "    <tr>\n",
              "      <th>4</th>\n",
              "      <td>2017-07-01 13:00:00</td>\n",
              "      <td>14.0</td>\n",
              "      <td>2017-07-01 13:00:00</td>\n",
              "      <td>18</td>\n",
              "      <td>255</td>\n",
              "      <td>07-01-17 13:00</td>\n",
              "      <td>33.3</td>\n",
              "      <td>2017/07/01 06:00:00</td>\n",
              "      <td>51</td>\n",
              "    </tr>\n",
              "    <tr>\n",
              "      <th>...</th>\n",
              "      <td>...</td>\n",
              "      <td>...</td>\n",
              "      <td>...</td>\n",
              "      <td>...</td>\n",
              "      <td>...</td>\n",
              "      <td>...</td>\n",
              "      <td>...</td>\n",
              "      <td>...</td>\n",
              "      <td>...</td>\n",
              "    </tr>\n",
              "    <tr>\n",
              "      <th>8763</th>\n",
              "      <td>2020-06-30 10:00:00</td>\n",
              "      <td>14.0</td>\n",
              "      <td>2020-06-30 10:00:00</td>\n",
              "      <td>24</td>\n",
              "      <td>250</td>\n",
              "      <td>6/30/2020 10:00</td>\n",
              "      <td>30.8</td>\n",
              "      <td>2020/06/30 03:00:00</td>\n",
              "      <td>61</td>\n",
              "    </tr>\n",
              "    <tr>\n",
              "      <th>8764</th>\n",
              "      <td>2020-06-30 13:00:00</td>\n",
              "      <td>12.0</td>\n",
              "      <td>2020-06-30 13:00:00</td>\n",
              "      <td>23</td>\n",
              "      <td>250</td>\n",
              "      <td>6/30/2020 13:00</td>\n",
              "      <td>32.0</td>\n",
              "      <td>2020/06/30 06:00:00</td>\n",
              "      <td>60</td>\n",
              "    </tr>\n",
              "    <tr>\n",
              "      <th>8765</th>\n",
              "      <td>2020-06-30 16:00:00</td>\n",
              "      <td>9.0</td>\n",
              "      <td>2020-06-30 16:00:00</td>\n",
              "      <td>37</td>\n",
              "      <td>255</td>\n",
              "      <td>6/30/2020 16:00</td>\n",
              "      <td>32.1</td>\n",
              "      <td>2020/06/30 09:00:00</td>\n",
              "      <td>61</td>\n",
              "    </tr>\n",
              "    <tr>\n",
              "      <th>8766</th>\n",
              "      <td>2020-06-30 19:00:00</td>\n",
              "      <td>15.0</td>\n",
              "      <td>2020-06-30 19:00:00</td>\n",
              "      <td>36</td>\n",
              "      <td>265</td>\n",
              "      <td>6/30/2020 19:00</td>\n",
              "      <td>30.3</td>\n",
              "      <td>2020/06/30 12:00:00</td>\n",
              "      <td>69</td>\n",
              "    </tr>\n",
              "    <tr>\n",
              "      <th>8767</th>\n",
              "      <td>2020-06-30 22:00:00</td>\n",
              "      <td>5.0</td>\n",
              "      <td>2020-06-30 22:00:00</td>\n",
              "      <td>35</td>\n",
              "      <td>270</td>\n",
              "      <td>6/30/2020 22:00</td>\n",
              "      <td>29.4</td>\n",
              "      <td>2020/06/30 15:00:00</td>\n",
              "      <td>69</td>\n",
              "    </tr>\n",
              "  </tbody>\n",
              "</table>\n",
              "<p>8768 rows × 9 columns</p>\n",
              "</div>\n",
              "      <button class=\"colab-df-convert\" onclick=\"convertToInteractive('df-697f1a27-c4f8-40a9-b1d2-bd51ad51ef04')\"\n",
              "              title=\"Convert this dataframe to an interactive table.\"\n",
              "              style=\"display:none;\">\n",
              "        \n",
              "  <svg xmlns=\"http://www.w3.org/2000/svg\" height=\"24px\"viewBox=\"0 0 24 24\"\n",
              "       width=\"24px\">\n",
              "    <path d=\"M0 0h24v24H0V0z\" fill=\"none\"/>\n",
              "    <path d=\"M18.56 5.44l.94 2.06.94-2.06 2.06-.94-2.06-.94-.94-2.06-.94 2.06-2.06.94zm-11 1L8.5 8.5l.94-2.06 2.06-.94-2.06-.94L8.5 2.5l-.94 2.06-2.06.94zm10 10l.94 2.06.94-2.06 2.06-.94-2.06-.94-.94-2.06-.94 2.06-2.06.94z\"/><path d=\"M17.41 7.96l-1.37-1.37c-.4-.4-.92-.59-1.43-.59-.52 0-1.04.2-1.43.59L10.3 9.45l-7.72 7.72c-.78.78-.78 2.05 0 2.83L4 21.41c.39.39.9.59 1.41.59.51 0 1.02-.2 1.41-.59l7.78-7.78 2.81-2.81c.8-.78.8-2.07 0-2.86zM5.41 20L4 18.59l7.72-7.72 1.47 1.35L5.41 20z\"/>\n",
              "  </svg>\n",
              "      </button>\n",
              "      \n",
              "  <style>\n",
              "    .colab-df-container {\n",
              "      display:flex;\n",
              "      flex-wrap:wrap;\n",
              "      gap: 12px;\n",
              "    }\n",
              "\n",
              "    .colab-df-convert {\n",
              "      background-color: #E8F0FE;\n",
              "      border: none;\n",
              "      border-radius: 50%;\n",
              "      cursor: pointer;\n",
              "      display: none;\n",
              "      fill: #1967D2;\n",
              "      height: 32px;\n",
              "      padding: 0 0 0 0;\n",
              "      width: 32px;\n",
              "    }\n",
              "\n",
              "    .colab-df-convert:hover {\n",
              "      background-color: #E2EBFA;\n",
              "      box-shadow: 0px 1px 2px rgba(60, 64, 67, 0.3), 0px 1px 3px 1px rgba(60, 64, 67, 0.15);\n",
              "      fill: #174EA6;\n",
              "    }\n",
              "\n",
              "    [theme=dark] .colab-df-convert {\n",
              "      background-color: #3B4455;\n",
              "      fill: #D2E3FC;\n",
              "    }\n",
              "\n",
              "    [theme=dark] .colab-df-convert:hover {\n",
              "      background-color: #434B5C;\n",
              "      box-shadow: 0px 1px 3px 1px rgba(0, 0, 0, 0.15);\n",
              "      filter: drop-shadow(0px 1px 2px rgba(0, 0, 0, 0.3));\n",
              "      fill: #FFFFFF;\n",
              "    }\n",
              "  </style>\n",
              "\n",
              "      <script>\n",
              "        const buttonEl =\n",
              "          document.querySelector('#df-697f1a27-c4f8-40a9-b1d2-bd51ad51ef04 button.colab-df-convert');\n",
              "        buttonEl.style.display =\n",
              "          google.colab.kernel.accessAllowed ? 'block' : 'none';\n",
              "\n",
              "        async function convertToInteractive(key) {\n",
              "          const element = document.querySelector('#df-697f1a27-c4f8-40a9-b1d2-bd51ad51ef04');\n",
              "          const dataTable =\n",
              "            await google.colab.kernel.invokeFunction('convertToInteractive',\n",
              "                                                     [key], {});\n",
              "          if (!dataTable) return;\n",
              "\n",
              "          const docLinkHtml = 'Like what you see? Visit the ' +\n",
              "            '<a target=\"_blank\" href=https://colab.research.google.com/notebooks/data_table.ipynb>data table notebook</a>'\n",
              "            + ' to learn more about interactive tables.';\n",
              "          element.innerHTML = '';\n",
              "          dataTable['output_type'] = 'display_data';\n",
              "          await google.colab.output.renderOutput(dataTable, element);\n",
              "          const docLink = document.createElement('div');\n",
              "          docLink.innerHTML = docLinkHtml;\n",
              "          element.appendChild(docLink);\n",
              "        }\n",
              "      </script>\n",
              "    </div>\n",
              "  </div>\n",
              "  "
            ]
          },
          "metadata": {},
          "execution_count": 16
        }
      ]
    },
    {
      "cell_type": "code",
      "source": [
        "df_train = df_train[['Time','PM2.5(µg/m3)','wind speed','wind dir','temp','Surface Relative Humidity (%)']]\n",
        "\n",
        "df_train.columns = ['Time','PM2.5(µg/m3)','Wind Speed (km/h)','Wind Direction (°)','Surface Temperature (°C)','Surface Relative Humidity (%)']\n",
        "df_train['Time'] = pd.to_datetime(df_train['Time'])\n",
        "df_train = df_train.set_index('Time')\n",
        "\n",
        "df_train"
      ],
      "metadata": {
        "colab": {
          "base_uri": "https://localhost:8080/",
          "height": 559
        },
        "id": "O6rK0Mjo6Lyw",
        "outputId": "ada1388f-8e13-480c-aa48-1eb52c89373c"
      },
      "execution_count": null,
      "outputs": [
        {
          "output_type": "stream",
          "name": "stderr",
          "text": [
            "/usr/local/lib/python3.7/dist-packages/ipykernel_launcher.py:4: SettingWithCopyWarning: \n",
            "A value is trying to be set on a copy of a slice from a DataFrame.\n",
            "Try using .loc[row_indexer,col_indexer] = value instead\n",
            "\n",
            "See the caveats in the documentation: https://pandas.pydata.org/pandas-docs/stable/user_guide/indexing.html#returning-a-view-versus-a-copy\n",
            "  after removing the cwd from sys.path.\n"
          ]
        },
        {
          "output_type": "execute_result",
          "data": {
            "text/plain": [
              "                     PM2.5(µg/m3)  Wind Speed (km/h)  Wind Direction (°)  \\\n",
              "Time                                                                       \n",
              "2017-07-01 01:00:00          10.0                 16                 260   \n",
              "2017-07-01 04:00:00          15.0                 16                 255   \n",
              "2017-07-01 07:00:00          23.0                 17                 235   \n",
              "2017-07-01 10:00:00          22.0                 18                 240   \n",
              "2017-07-01 13:00:00          14.0                 18                 255   \n",
              "...                           ...                ...                 ...   \n",
              "2020-06-30 10:00:00          14.0                 24                 250   \n",
              "2020-06-30 13:00:00          12.0                 23                 250   \n",
              "2020-06-30 16:00:00           9.0                 37                 255   \n",
              "2020-06-30 19:00:00          15.0                 36                 265   \n",
              "2020-06-30 22:00:00           5.0                 35                 270   \n",
              "\n",
              "                     Surface Temperature (°C)  Surface Relative Humidity (%)  \n",
              "Time                                                                          \n",
              "2017-07-01 01:00:00                      27.9                             79  \n",
              "2017-07-01 04:00:00                      27.4                             80  \n",
              "2017-07-01 07:00:00                      28.0                             75  \n",
              "2017-07-01 10:00:00                      31.1                             59  \n",
              "2017-07-01 13:00:00                      33.3                             51  \n",
              "...                                       ...                            ...  \n",
              "2020-06-30 10:00:00                      30.8                             61  \n",
              "2020-06-30 13:00:00                      32.0                             60  \n",
              "2020-06-30 16:00:00                      32.1                             61  \n",
              "2020-06-30 19:00:00                      30.3                             69  \n",
              "2020-06-30 22:00:00                      29.4                             69  \n",
              "\n",
              "[8768 rows x 5 columns]"
            ],
            "text/html": [
              "\n",
              "  <div id=\"df-16d73fbb-144c-4615-a18c-699ae2435acc\">\n",
              "    <div class=\"colab-df-container\">\n",
              "      <div>\n",
              "<style scoped>\n",
              "    .dataframe tbody tr th:only-of-type {\n",
              "        vertical-align: middle;\n",
              "    }\n",
              "\n",
              "    .dataframe tbody tr th {\n",
              "        vertical-align: top;\n",
              "    }\n",
              "\n",
              "    .dataframe thead th {\n",
              "        text-align: right;\n",
              "    }\n",
              "</style>\n",
              "<table border=\"1\" class=\"dataframe\">\n",
              "  <thead>\n",
              "    <tr style=\"text-align: right;\">\n",
              "      <th></th>\n",
              "      <th>PM2.5(µg/m3)</th>\n",
              "      <th>Wind Speed (km/h)</th>\n",
              "      <th>Wind Direction (°)</th>\n",
              "      <th>Surface Temperature (°C)</th>\n",
              "      <th>Surface Relative Humidity (%)</th>\n",
              "    </tr>\n",
              "    <tr>\n",
              "      <th>Time</th>\n",
              "      <th></th>\n",
              "      <th></th>\n",
              "      <th></th>\n",
              "      <th></th>\n",
              "      <th></th>\n",
              "    </tr>\n",
              "  </thead>\n",
              "  <tbody>\n",
              "    <tr>\n",
              "      <th>2017-07-01 01:00:00</th>\n",
              "      <td>10.0</td>\n",
              "      <td>16</td>\n",
              "      <td>260</td>\n",
              "      <td>27.9</td>\n",
              "      <td>79</td>\n",
              "    </tr>\n",
              "    <tr>\n",
              "      <th>2017-07-01 04:00:00</th>\n",
              "      <td>15.0</td>\n",
              "      <td>16</td>\n",
              "      <td>255</td>\n",
              "      <td>27.4</td>\n",
              "      <td>80</td>\n",
              "    </tr>\n",
              "    <tr>\n",
              "      <th>2017-07-01 07:00:00</th>\n",
              "      <td>23.0</td>\n",
              "      <td>17</td>\n",
              "      <td>235</td>\n",
              "      <td>28.0</td>\n",
              "      <td>75</td>\n",
              "    </tr>\n",
              "    <tr>\n",
              "      <th>2017-07-01 10:00:00</th>\n",
              "      <td>22.0</td>\n",
              "      <td>18</td>\n",
              "      <td>240</td>\n",
              "      <td>31.1</td>\n",
              "      <td>59</td>\n",
              "    </tr>\n",
              "    <tr>\n",
              "      <th>2017-07-01 13:00:00</th>\n",
              "      <td>14.0</td>\n",
              "      <td>18</td>\n",
              "      <td>255</td>\n",
              "      <td>33.3</td>\n",
              "      <td>51</td>\n",
              "    </tr>\n",
              "    <tr>\n",
              "      <th>...</th>\n",
              "      <td>...</td>\n",
              "      <td>...</td>\n",
              "      <td>...</td>\n",
              "      <td>...</td>\n",
              "      <td>...</td>\n",
              "    </tr>\n",
              "    <tr>\n",
              "      <th>2020-06-30 10:00:00</th>\n",
              "      <td>14.0</td>\n",
              "      <td>24</td>\n",
              "      <td>250</td>\n",
              "      <td>30.8</td>\n",
              "      <td>61</td>\n",
              "    </tr>\n",
              "    <tr>\n",
              "      <th>2020-06-30 13:00:00</th>\n",
              "      <td>12.0</td>\n",
              "      <td>23</td>\n",
              "      <td>250</td>\n",
              "      <td>32.0</td>\n",
              "      <td>60</td>\n",
              "    </tr>\n",
              "    <tr>\n",
              "      <th>2020-06-30 16:00:00</th>\n",
              "      <td>9.0</td>\n",
              "      <td>37</td>\n",
              "      <td>255</td>\n",
              "      <td>32.1</td>\n",
              "      <td>61</td>\n",
              "    </tr>\n",
              "    <tr>\n",
              "      <th>2020-06-30 19:00:00</th>\n",
              "      <td>15.0</td>\n",
              "      <td>36</td>\n",
              "      <td>265</td>\n",
              "      <td>30.3</td>\n",
              "      <td>69</td>\n",
              "    </tr>\n",
              "    <tr>\n",
              "      <th>2020-06-30 22:00:00</th>\n",
              "      <td>5.0</td>\n",
              "      <td>35</td>\n",
              "      <td>270</td>\n",
              "      <td>29.4</td>\n",
              "      <td>69</td>\n",
              "    </tr>\n",
              "  </tbody>\n",
              "</table>\n",
              "<p>8768 rows × 5 columns</p>\n",
              "</div>\n",
              "      <button class=\"colab-df-convert\" onclick=\"convertToInteractive('df-16d73fbb-144c-4615-a18c-699ae2435acc')\"\n",
              "              title=\"Convert this dataframe to an interactive table.\"\n",
              "              style=\"display:none;\">\n",
              "        \n",
              "  <svg xmlns=\"http://www.w3.org/2000/svg\" height=\"24px\"viewBox=\"0 0 24 24\"\n",
              "       width=\"24px\">\n",
              "    <path d=\"M0 0h24v24H0V0z\" fill=\"none\"/>\n",
              "    <path d=\"M18.56 5.44l.94 2.06.94-2.06 2.06-.94-2.06-.94-.94-2.06-.94 2.06-2.06.94zm-11 1L8.5 8.5l.94-2.06 2.06-.94-2.06-.94L8.5 2.5l-.94 2.06-2.06.94zm10 10l.94 2.06.94-2.06 2.06-.94-2.06-.94-.94-2.06-.94 2.06-2.06.94z\"/><path d=\"M17.41 7.96l-1.37-1.37c-.4-.4-.92-.59-1.43-.59-.52 0-1.04.2-1.43.59L10.3 9.45l-7.72 7.72c-.78.78-.78 2.05 0 2.83L4 21.41c.39.39.9.59 1.41.59.51 0 1.02-.2 1.41-.59l7.78-7.78 2.81-2.81c.8-.78.8-2.07 0-2.86zM5.41 20L4 18.59l7.72-7.72 1.47 1.35L5.41 20z\"/>\n",
              "  </svg>\n",
              "      </button>\n",
              "      \n",
              "  <style>\n",
              "    .colab-df-container {\n",
              "      display:flex;\n",
              "      flex-wrap:wrap;\n",
              "      gap: 12px;\n",
              "    }\n",
              "\n",
              "    .colab-df-convert {\n",
              "      background-color: #E8F0FE;\n",
              "      border: none;\n",
              "      border-radius: 50%;\n",
              "      cursor: pointer;\n",
              "      display: none;\n",
              "      fill: #1967D2;\n",
              "      height: 32px;\n",
              "      padding: 0 0 0 0;\n",
              "      width: 32px;\n",
              "    }\n",
              "\n",
              "    .colab-df-convert:hover {\n",
              "      background-color: #E2EBFA;\n",
              "      box-shadow: 0px 1px 2px rgba(60, 64, 67, 0.3), 0px 1px 3px 1px rgba(60, 64, 67, 0.15);\n",
              "      fill: #174EA6;\n",
              "    }\n",
              "\n",
              "    [theme=dark] .colab-df-convert {\n",
              "      background-color: #3B4455;\n",
              "      fill: #D2E3FC;\n",
              "    }\n",
              "\n",
              "    [theme=dark] .colab-df-convert:hover {\n",
              "      background-color: #434B5C;\n",
              "      box-shadow: 0px 1px 3px 1px rgba(0, 0, 0, 0.15);\n",
              "      filter: drop-shadow(0px 1px 2px rgba(0, 0, 0, 0.3));\n",
              "      fill: #FFFFFF;\n",
              "    }\n",
              "  </style>\n",
              "\n",
              "      <script>\n",
              "        const buttonEl =\n",
              "          document.querySelector('#df-16d73fbb-144c-4615-a18c-699ae2435acc button.colab-df-convert');\n",
              "        buttonEl.style.display =\n",
              "          google.colab.kernel.accessAllowed ? 'block' : 'none';\n",
              "\n",
              "        async function convertToInteractive(key) {\n",
              "          const element = document.querySelector('#df-16d73fbb-144c-4615-a18c-699ae2435acc');\n",
              "          const dataTable =\n",
              "            await google.colab.kernel.invokeFunction('convertToInteractive',\n",
              "                                                     [key], {});\n",
              "          if (!dataTable) return;\n",
              "\n",
              "          const docLinkHtml = 'Like what you see? Visit the ' +\n",
              "            '<a target=\"_blank\" href=https://colab.research.google.com/notebooks/data_table.ipynb>data table notebook</a>'\n",
              "            + ' to learn more about interactive tables.';\n",
              "          element.innerHTML = '';\n",
              "          dataTable['output_type'] = 'display_data';\n",
              "          await google.colab.output.renderOutput(dataTable, element);\n",
              "          const docLink = document.createElement('div');\n",
              "          docLink.innerHTML = docLinkHtml;\n",
              "          element.appendChild(docLink);\n",
              "        }\n",
              "      </script>\n",
              "    </div>\n",
              "  </div>\n",
              "  "
            ]
          },
          "metadata": {},
          "execution_count": 17
        }
      ]
    },
    {
      "cell_type": "markdown",
      "source": [
        "### Re-EDA"
      ],
      "metadata": {
        "id": "1VTPcnyOLwpq"
      }
    },
    {
      "cell_type": "code",
      "source": [
        "df_train.isnull().sum()"
      ],
      "metadata": {
        "colab": {
          "base_uri": "https://localhost:8080/"
        },
        "id": "Q0WA2O7l4Kz6",
        "outputId": "b8bd8ba2-e3ae-46e4-9842-ddfbbf0a25c4"
      },
      "execution_count": null,
      "outputs": [
        {
          "output_type": "execute_result",
          "data": {
            "text/plain": [
              "PM2.5(µg/m3)                     0\n",
              "Wind Speed (km/h)                0\n",
              "Wind Direction (°)               0\n",
              "Surface Temperature (°C)         0\n",
              "Surface Relative Humidity (%)    0\n",
              "dtype: int64"
            ]
          },
          "metadata": {},
          "execution_count": 18
        }
      ]
    },
    {
      "cell_type": "code",
      "source": [
        "df_train.describe()"
      ],
      "metadata": {
        "colab": {
          "base_uri": "https://localhost:8080/",
          "height": 300
        },
        "id": "Fci7pvhPPCw0",
        "outputId": "22218f8b-7ee4-408f-f5e7-f270809dd401"
      },
      "execution_count": null,
      "outputs": [
        {
          "output_type": "execute_result",
          "data": {
            "text/plain": [
              "       PM2.5(µg/m3)  Wind Speed (km/h)  Wind Direction (°)  \\\n",
              "count   8768.000000        8768.000000          8768.00000   \n",
              "mean      27.227161          20.479813           167.61120   \n",
              "std       15.244270          13.030356            92.23499   \n",
              "min        3.000000           0.000000             0.00000   \n",
              "25%       17.000000          11.000000            80.00000   \n",
              "50%       23.000000          17.000000           155.00000   \n",
              "75%       34.000000          27.000000           260.00000   \n",
              "max      130.000000          85.000000           360.00000   \n",
              "\n",
              "       Surface Temperature (°C)  Surface Relative Humidity (%)  \n",
              "count               8768.000000                    8768.000000  \n",
              "mean                  29.810014                      62.183736  \n",
              "std                    2.652939                      10.993569  \n",
              "min                   17.200000                      24.000000  \n",
              "25%                   28.000000                      54.000000  \n",
              "50%                   29.600000                      63.000000  \n",
              "75%                   31.600000                      71.000000  \n",
              "max                   38.100000                      91.000000  "
            ],
            "text/html": [
              "\n",
              "  <div id=\"df-4ffc842e-ff45-4810-a2cb-b0c1b48605b5\">\n",
              "    <div class=\"colab-df-container\">\n",
              "      <div>\n",
              "<style scoped>\n",
              "    .dataframe tbody tr th:only-of-type {\n",
              "        vertical-align: middle;\n",
              "    }\n",
              "\n",
              "    .dataframe tbody tr th {\n",
              "        vertical-align: top;\n",
              "    }\n",
              "\n",
              "    .dataframe thead th {\n",
              "        text-align: right;\n",
              "    }\n",
              "</style>\n",
              "<table border=\"1\" class=\"dataframe\">\n",
              "  <thead>\n",
              "    <tr style=\"text-align: right;\">\n",
              "      <th></th>\n",
              "      <th>PM2.5(µg/m3)</th>\n",
              "      <th>Wind Speed (km/h)</th>\n",
              "      <th>Wind Direction (°)</th>\n",
              "      <th>Surface Temperature (°C)</th>\n",
              "      <th>Surface Relative Humidity (%)</th>\n",
              "    </tr>\n",
              "  </thead>\n",
              "  <tbody>\n",
              "    <tr>\n",
              "      <th>count</th>\n",
              "      <td>8768.000000</td>\n",
              "      <td>8768.000000</td>\n",
              "      <td>8768.00000</td>\n",
              "      <td>8768.000000</td>\n",
              "      <td>8768.000000</td>\n",
              "    </tr>\n",
              "    <tr>\n",
              "      <th>mean</th>\n",
              "      <td>27.227161</td>\n",
              "      <td>20.479813</td>\n",
              "      <td>167.61120</td>\n",
              "      <td>29.810014</td>\n",
              "      <td>62.183736</td>\n",
              "    </tr>\n",
              "    <tr>\n",
              "      <th>std</th>\n",
              "      <td>15.244270</td>\n",
              "      <td>13.030356</td>\n",
              "      <td>92.23499</td>\n",
              "      <td>2.652939</td>\n",
              "      <td>10.993569</td>\n",
              "    </tr>\n",
              "    <tr>\n",
              "      <th>min</th>\n",
              "      <td>3.000000</td>\n",
              "      <td>0.000000</td>\n",
              "      <td>0.00000</td>\n",
              "      <td>17.200000</td>\n",
              "      <td>24.000000</td>\n",
              "    </tr>\n",
              "    <tr>\n",
              "      <th>25%</th>\n",
              "      <td>17.000000</td>\n",
              "      <td>11.000000</td>\n",
              "      <td>80.00000</td>\n",
              "      <td>28.000000</td>\n",
              "      <td>54.000000</td>\n",
              "    </tr>\n",
              "    <tr>\n",
              "      <th>50%</th>\n",
              "      <td>23.000000</td>\n",
              "      <td>17.000000</td>\n",
              "      <td>155.00000</td>\n",
              "      <td>29.600000</td>\n",
              "      <td>63.000000</td>\n",
              "    </tr>\n",
              "    <tr>\n",
              "      <th>75%</th>\n",
              "      <td>34.000000</td>\n",
              "      <td>27.000000</td>\n",
              "      <td>260.00000</td>\n",
              "      <td>31.600000</td>\n",
              "      <td>71.000000</td>\n",
              "    </tr>\n",
              "    <tr>\n",
              "      <th>max</th>\n",
              "      <td>130.000000</td>\n",
              "      <td>85.000000</td>\n",
              "      <td>360.00000</td>\n",
              "      <td>38.100000</td>\n",
              "      <td>91.000000</td>\n",
              "    </tr>\n",
              "  </tbody>\n",
              "</table>\n",
              "</div>\n",
              "      <button class=\"colab-df-convert\" onclick=\"convertToInteractive('df-4ffc842e-ff45-4810-a2cb-b0c1b48605b5')\"\n",
              "              title=\"Convert this dataframe to an interactive table.\"\n",
              "              style=\"display:none;\">\n",
              "        \n",
              "  <svg xmlns=\"http://www.w3.org/2000/svg\" height=\"24px\"viewBox=\"0 0 24 24\"\n",
              "       width=\"24px\">\n",
              "    <path d=\"M0 0h24v24H0V0z\" fill=\"none\"/>\n",
              "    <path d=\"M18.56 5.44l.94 2.06.94-2.06 2.06-.94-2.06-.94-.94-2.06-.94 2.06-2.06.94zm-11 1L8.5 8.5l.94-2.06 2.06-.94-2.06-.94L8.5 2.5l-.94 2.06-2.06.94zm10 10l.94 2.06.94-2.06 2.06-.94-2.06-.94-.94-2.06-.94 2.06-2.06.94z\"/><path d=\"M17.41 7.96l-1.37-1.37c-.4-.4-.92-.59-1.43-.59-.52 0-1.04.2-1.43.59L10.3 9.45l-7.72 7.72c-.78.78-.78 2.05 0 2.83L4 21.41c.39.39.9.59 1.41.59.51 0 1.02-.2 1.41-.59l7.78-7.78 2.81-2.81c.8-.78.8-2.07 0-2.86zM5.41 20L4 18.59l7.72-7.72 1.47 1.35L5.41 20z\"/>\n",
              "  </svg>\n",
              "      </button>\n",
              "      \n",
              "  <style>\n",
              "    .colab-df-container {\n",
              "      display:flex;\n",
              "      flex-wrap:wrap;\n",
              "      gap: 12px;\n",
              "    }\n",
              "\n",
              "    .colab-df-convert {\n",
              "      background-color: #E8F0FE;\n",
              "      border: none;\n",
              "      border-radius: 50%;\n",
              "      cursor: pointer;\n",
              "      display: none;\n",
              "      fill: #1967D2;\n",
              "      height: 32px;\n",
              "      padding: 0 0 0 0;\n",
              "      width: 32px;\n",
              "    }\n",
              "\n",
              "    .colab-df-convert:hover {\n",
              "      background-color: #E2EBFA;\n",
              "      box-shadow: 0px 1px 2px rgba(60, 64, 67, 0.3), 0px 1px 3px 1px rgba(60, 64, 67, 0.15);\n",
              "      fill: #174EA6;\n",
              "    }\n",
              "\n",
              "    [theme=dark] .colab-df-convert {\n",
              "      background-color: #3B4455;\n",
              "      fill: #D2E3FC;\n",
              "    }\n",
              "\n",
              "    [theme=dark] .colab-df-convert:hover {\n",
              "      background-color: #434B5C;\n",
              "      box-shadow: 0px 1px 3px 1px rgba(0, 0, 0, 0.15);\n",
              "      filter: drop-shadow(0px 1px 2px rgba(0, 0, 0, 0.3));\n",
              "      fill: #FFFFFF;\n",
              "    }\n",
              "  </style>\n",
              "\n",
              "      <script>\n",
              "        const buttonEl =\n",
              "          document.querySelector('#df-4ffc842e-ff45-4810-a2cb-b0c1b48605b5 button.colab-df-convert');\n",
              "        buttonEl.style.display =\n",
              "          google.colab.kernel.accessAllowed ? 'block' : 'none';\n",
              "\n",
              "        async function convertToInteractive(key) {\n",
              "          const element = document.querySelector('#df-4ffc842e-ff45-4810-a2cb-b0c1b48605b5');\n",
              "          const dataTable =\n",
              "            await google.colab.kernel.invokeFunction('convertToInteractive',\n",
              "                                                     [key], {});\n",
              "          if (!dataTable) return;\n",
              "\n",
              "          const docLinkHtml = 'Like what you see? Visit the ' +\n",
              "            '<a target=\"_blank\" href=https://colab.research.google.com/notebooks/data_table.ipynb>data table notebook</a>'\n",
              "            + ' to learn more about interactive tables.';\n",
              "          element.innerHTML = '';\n",
              "          dataTable['output_type'] = 'display_data';\n",
              "          await google.colab.output.renderOutput(dataTable, element);\n",
              "          const docLink = document.createElement('div');\n",
              "          docLink.innerHTML = docLinkHtml;\n",
              "          element.appendChild(docLink);\n",
              "        }\n",
              "      </script>\n",
              "    </div>\n",
              "  </div>\n",
              "  "
            ]
          },
          "metadata": {},
          "execution_count": 19
        }
      ]
    },
    {
      "cell_type": "code",
      "source": [
        "plt.figure(figsize = (18,10))\n",
        "plt.rcParams.update({'font.size': 16})\n",
        "sns.heatmap(df_train[['PM2.5(µg/m3)','Wind Speed (km/h)','Wind Direction (°)','Surface Temperature (°C)','Surface Relative Humidity (%)']].corr(), annot =True, cmap = 'YlOrBr') "
      ],
      "metadata": {
        "colab": {
          "base_uri": "https://localhost:8080/",
          "height": 838
        },
        "id": "PStlmHcZLBGq",
        "outputId": "f45ef331-6856-4017-e8ef-ea46d8a7d27d"
      },
      "execution_count": null,
      "outputs": [
        {
          "output_type": "execute_result",
          "data": {
            "text/plain": [
              "<matplotlib.axes._subplots.AxesSubplot at 0x7fe334a57390>"
            ]
          },
          "metadata": {},
          "execution_count": 20
        },
        {
          "output_type": "display_data",
          "data": {
            "text/plain": [
              "<Figure size 1296x720 with 2 Axes>"
            ],
            "image/png": "[encoded data removed]"
          },
          "metadata": {
            "needs_background": "light"
          }
        }
      ]
    },
    {
      "cell_type": "markdown",
      "source": [
        "No correlation between each independent variables"
      ],
      "metadata": {
        "id": "eguysolXLp3k"
      }
    },
    {
      "cell_type": "markdown",
      "source": [
        "## Manage Testing Dataset"
      ],
      "metadata": {
        "id": "jMZUEJB5YcsR"
      }
    },
    {
      "cell_type": "code",
      "source": [
        "df_test_pm25 = pd.read_csv('/content/drive/MyDrive/DATA_SCI_SKILL/DATA SCI ENG/Final_Proj_1/test_pm25_BKK.csv',sep=',')"
      ],
      "metadata": {
        "id": "6sHRUSEo9YCC"
      },
      "execution_count": null,
      "outputs": []
    },
    {
      "cell_type": "code",
      "source": [
        "df_test_pm25"
      ],
      "metadata": {
        "colab": {
          "base_uri": "https://localhost:8080/",
          "height": 424
        },
        "id": "B4YLSLcAYstf",
        "outputId": "25242b52-297d-4561-e5ca-7b548ac38e08"
      },
      "execution_count": null,
      "outputs": [
        {
          "output_type": "execute_result",
          "data": {
            "text/plain": [
              "                     Time  PM2.5(µg/m3)\n",
              "0     2020-07-01 01:00:00           8.0\n",
              "1     2020-07-01 04:00:00           8.0\n",
              "2     2020-07-01 07:00:00          13.0\n",
              "3     2020-07-01 10:00:00          10.0\n",
              "4     2020-07-01 13:00:00          15.0\n",
              "...                   ...           ...\n",
              "2923  2021-07-01 10:00:00          14.0\n",
              "2924  2021-07-01 13:00:00          14.0\n",
              "2925  2021-07-01 16:00:00          14.0\n",
              "2926  2021-07-01 19:00:00          13.0\n",
              "2927  2021-07-01 22:00:00          14.0\n",
              "\n",
              "[2928 rows x 2 columns]"
            ],
            "text/html": [
              "\n",
              "  <div id=\"df-c2ed918b-6696-498d-a8c2-e10936351027\">\n",
              "    <div class=\"colab-df-container\">\n",
              "      <div>\n",
              "<style scoped>\n",
              "    .dataframe tbody tr th:only-of-type {\n",
              "        vertical-align: middle;\n",
              "    }\n",
              "\n",
              "    .dataframe tbody tr th {\n",
              "        vertical-align: top;\n",
              "    }\n",
              "\n",
              "    .dataframe thead th {\n",
              "        text-align: right;\n",
              "    }\n",
              "</style>\n",
              "<table border=\"1\" class=\"dataframe\">\n",
              "  <thead>\n",
              "    <tr style=\"text-align: right;\">\n",
              "      <th></th>\n",
              "      <th>Time</th>\n",
              "      <th>PM2.5(µg/m3)</th>\n",
              "    </tr>\n",
              "  </thead>\n",
              "  <tbody>\n",
              "    <tr>\n",
              "      <th>0</th>\n",
              "      <td>2020-07-01 01:00:00</td>\n",
              "      <td>8.0</td>\n",
              "    </tr>\n",
              "    <tr>\n",
              "      <th>1</th>\n",
              "      <td>2020-07-01 04:00:00</td>\n",
              "      <td>8.0</td>\n",
              "    </tr>\n",
              "    <tr>\n",
              "      <th>2</th>\n",
              "      <td>2020-07-01 07:00:00</td>\n",
              "      <td>13.0</td>\n",
              "    </tr>\n",
              "    <tr>\n",
              "      <th>3</th>\n",
              "      <td>2020-07-01 10:00:00</td>\n",
              "      <td>10.0</td>\n",
              "    </tr>\n",
              "    <tr>\n",
              "      <th>4</th>\n",
              "      <td>2020-07-01 13:00:00</td>\n",
              "      <td>15.0</td>\n",
              "    </tr>\n",
              "    <tr>\n",
              "      <th>...</th>\n",
              "      <td>...</td>\n",
              "      <td>...</td>\n",
              "    </tr>\n",
              "    <tr>\n",
              "      <th>2923</th>\n",
              "      <td>2021-07-01 10:00:00</td>\n",
              "      <td>14.0</td>\n",
              "    </tr>\n",
              "    <tr>\n",
              "      <th>2924</th>\n",
              "      <td>2021-07-01 13:00:00</td>\n",
              "      <td>14.0</td>\n",
              "    </tr>\n",
              "    <tr>\n",
              "      <th>2925</th>\n",
              "      <td>2021-07-01 16:00:00</td>\n",
              "      <td>14.0</td>\n",
              "    </tr>\n",
              "    <tr>\n",
              "      <th>2926</th>\n",
              "      <td>2021-07-01 19:00:00</td>\n",
              "      <td>13.0</td>\n",
              "    </tr>\n",
              "    <tr>\n",
              "      <th>2927</th>\n",
              "      <td>2021-07-01 22:00:00</td>\n",
              "      <td>14.0</td>\n",
              "    </tr>\n",
              "  </tbody>\n",
              "</table>\n",
              "<p>2928 rows × 2 columns</p>\n",
              "</div>\n",
              "      <button class=\"colab-df-convert\" onclick=\"convertToInteractive('df-c2ed918b-6696-498d-a8c2-e10936351027')\"\n",
              "              title=\"Convert this dataframe to an interactive table.\"\n",
              "              style=\"display:none;\">\n",
              "        \n",
              "  <svg xmlns=\"http://www.w3.org/2000/svg\" height=\"24px\"viewBox=\"0 0 24 24\"\n",
              "       width=\"24px\">\n",
              "    <path d=\"M0 0h24v24H0V0z\" fill=\"none\"/>\n",
              "    <path d=\"M18.56 5.44l.94 2.06.94-2.06 2.06-.94-2.06-.94-.94-2.06-.94 2.06-2.06.94zm-11 1L8.5 8.5l.94-2.06 2.06-.94-2.06-.94L8.5 2.5l-.94 2.06-2.06.94zm10 10l.94 2.06.94-2.06 2.06-.94-2.06-.94-.94-2.06-.94 2.06-2.06.94z\"/><path d=\"M17.41 7.96l-1.37-1.37c-.4-.4-.92-.59-1.43-.59-.52 0-1.04.2-1.43.59L10.3 9.45l-7.72 7.72c-.78.78-.78 2.05 0 2.83L4 21.41c.39.39.9.59 1.41.59.51 0 1.02-.2 1.41-.59l7.78-7.78 2.81-2.81c.8-.78.8-2.07 0-2.86zM5.41 20L4 18.59l7.72-7.72 1.47 1.35L5.41 20z\"/>\n",
              "  </svg>\n",
              "      </button>\n",
              "      \n",
              "  <style>\n",
              "    .colab-df-container {\n",
              "      display:flex;\n",
              "      flex-wrap:wrap;\n",
              "      gap: 12px;\n",
              "    }\n",
              "\n",
              "    .colab-df-convert {\n",
              "      background-color: #E8F0FE;\n",
              "      border: none;\n",
              "      border-radius: 50%;\n",
              "      cursor: pointer;\n",
              "      display: none;\n",
              "      fill: #1967D2;\n",
              "      height: 32px;\n",
              "      padding: 0 0 0 0;\n",
              "      width: 32px;\n",
              "    }\n",
              "\n",
              "    .colab-df-convert:hover {\n",
              "      background-color: #E2EBFA;\n",
              "      box-shadow: 0px 1px 2px rgba(60, 64, 67, 0.3), 0px 1px 3px 1px rgba(60, 64, 67, 0.15);\n",
              "      fill: #174EA6;\n",
              "    }\n",
              "\n",
              "    [theme=dark] .colab-df-convert {\n",
              "      background-color: #3B4455;\n",
              "      fill: #D2E3FC;\n",
              "    }\n",
              "\n",
              "    [theme=dark] .colab-df-convert:hover {\n",
              "      background-color: #434B5C;\n",
              "      box-shadow: 0px 1px 3px 1px rgba(0, 0, 0, 0.15);\n",
              "      filter: drop-shadow(0px 1px 2px rgba(0, 0, 0, 0.3));\n",
              "      fill: #FFFFFF;\n",
              "    }\n",
              "  </style>\n",
              "\n",
              "      <script>\n",
              "        const buttonEl =\n",
              "          document.querySelector('#df-c2ed918b-6696-498d-a8c2-e10936351027 button.colab-df-convert');\n",
              "        buttonEl.style.display =\n",
              "          google.colab.kernel.accessAllowed ? 'block' : 'none';\n",
              "\n",
              "        async function convertToInteractive(key) {\n",
              "          const element = document.querySelector('#df-c2ed918b-6696-498d-a8c2-e10936351027');\n",
              "          const dataTable =\n",
              "            await google.colab.kernel.invokeFunction('convertToInteractive',\n",
              "                                                     [key], {});\n",
              "          if (!dataTable) return;\n",
              "\n",
              "          const docLinkHtml = 'Like what you see? Visit the ' +\n",
              "            '<a target=\"_blank\" href=https://colab.research.google.com/notebooks/data_table.ipynb>data table notebook</a>'\n",
              "            + ' to learn more about interactive tables.';\n",
              "          element.innerHTML = '';\n",
              "          dataTable['output_type'] = 'display_data';\n",
              "          await google.colab.output.renderOutput(dataTable, element);\n",
              "          const docLink = document.createElement('div');\n",
              "          docLink.innerHTML = docLinkHtml;\n",
              "          element.appendChild(docLink);\n",
              "        }\n",
              "      </script>\n",
              "    </div>\n",
              "  </div>\n",
              "  "
            ]
          },
          "metadata": {},
          "execution_count": 22
        }
      ]
    },
    {
      "cell_type": "code",
      "source": [
        "df_test_pm25.isnull().sum()"
      ],
      "metadata": {
        "colab": {
          "base_uri": "https://localhost:8080/"
        },
        "id": "9hYehjITYz5X",
        "outputId": "adbe7c17-28e1-4099-f4ee-a3c0556714e0"
      },
      "execution_count": null,
      "outputs": [
        {
          "output_type": "execute_result",
          "data": {
            "text/plain": [
              "Time            0\n",
              "PM2.5(µg/m3)    0\n",
              "dtype: int64"
            ]
          },
          "metadata": {},
          "execution_count": 23
        }
      ]
    },
    {
      "cell_type": "markdown",
      "source": [
        "### Import exogeneous data"
      ],
      "metadata": {
        "id": "Xa2LUAFlMAF9"
      }
    },
    {
      "cell_type": "code",
      "source": [
        "df_test_exo = pd.read_csv('/content/drive/MyDrive/DATA_SCI_SKILL/DATA SCI ENG/Final_Proj_1/test_all_rescrap_BKK.csv',sep=',')\n",
        "df_test_exo"
      ],
      "metadata": {
        "colab": {
          "base_uri": "https://localhost:8080/",
          "height": 424
        },
        "id": "6Kk65cDEY4gf",
        "outputId": "40e3c96d-2764-4607-be44-d43834d69338"
      },
      "execution_count": null,
      "outputs": [
        {
          "output_type": "execute_result",
          "data": {
            "text/plain": [
              "      Unnamed: 0      Time (UTC)  Wind Speed (km/h)  Wind Direction (°)  \\\n",
              "0              0   30-06-20 0:00                 22                 255   \n",
              "1              1   30-06-20 3:00                 24                 250   \n",
              "2              2   30-06-20 6:00                 23                 250   \n",
              "3              3   30-06-20 9:00                 37                 255   \n",
              "4              4  30-06-20 12:00                 36                 265   \n",
              "...          ...             ...                ...                 ...   \n",
              "2931        2931   01-07-21 9:00                 19                 240   \n",
              "2932        2932  01-07-21 12:00                 18                 250   \n",
              "2933        2933  01-07-21 15:00                 16                 245   \n",
              "2934        2934  01-07-21 18:00                 17                 260   \n",
              "2935        2935  01-07-21 21:00                 21                 265   \n",
              "\n",
              "      Surface Temperature (°C)  Surface Relative Humidity (%)  \n",
              "0                         28.5                             71  \n",
              "1                         30.8                             61  \n",
              "2                         32.0                             60  \n",
              "3                         32.1                             61  \n",
              "4                         30.3                             69  \n",
              "...                        ...                            ...  \n",
              "2931                      32.5                             52  \n",
              "2932                      29.1                             70  \n",
              "2933                      29.1                             71  \n",
              "2934                      28.6                             73  \n",
              "2935                      27.3                             77  \n",
              "\n",
              "[2936 rows x 6 columns]"
            ],
            "text/html": [
              "\n",
              "  <div id=\"df-efa07b38-b81a-49a9-8505-ae8992a5fb58\">\n",
              "    <div class=\"colab-df-container\">\n",
              "      <div>\n",
              "<style scoped>\n",
              "    .dataframe tbody tr th:only-of-type {\n",
              "        vertical-align: middle;\n",
              "    }\n",
              "\n",
              "    .dataframe tbody tr th {\n",
              "        vertical-align: top;\n",
              "    }\n",
              "\n",
              "    .dataframe thead th {\n",
              "        text-align: right;\n",
              "    }\n",
              "</style>\n",
              "<table border=\"1\" class=\"dataframe\">\n",
              "  <thead>\n",
              "    <tr style=\"text-align: right;\">\n",
              "      <th></th>\n",
              "      <th>Unnamed: 0</th>\n",
              "      <th>Time (UTC)</th>\n",
              "      <th>Wind Speed (km/h)</th>\n",
              "      <th>Wind Direction (°)</th>\n",
              "      <th>Surface Temperature (°C)</th>\n",
              "      <th>Surface Relative Humidity (%)</th>\n",
              "    </tr>\n",
              "  </thead>\n",
              "  <tbody>\n",
              "    <tr>\n",
              "      <th>0</th>\n",
              "      <td>0</td>\n",
              "      <td>30-06-20 0:00</td>\n",
              "      <td>22</td>\n",
              "      <td>255</td>\n",
              "      <td>28.5</td>\n",
              "      <td>71</td>\n",
              "    </tr>\n",
              "    <tr>\n",
              "      <th>1</th>\n",
              "      <td>1</td>\n",
              "      <td>30-06-20 3:00</td>\n",
              "      <td>24</td>\n",
              "      <td>250</td>\n",
              "      <td>30.8</td>\n",
              "      <td>61</td>\n",
              "    </tr>\n",
              "    <tr>\n",
              "      <th>2</th>\n",
              "      <td>2</td>\n",
              "      <td>30-06-20 6:00</td>\n",
              "      <td>23</td>\n",
              "      <td>250</td>\n",
              "      <td>32.0</td>\n",
              "      <td>60</td>\n",
              "    </tr>\n",
              "    <tr>\n",
              "      <th>3</th>\n",
              "      <td>3</td>\n",
              "      <td>30-06-20 9:00</td>\n",
              "      <td>37</td>\n",
              "      <td>255</td>\n",
              "      <td>32.1</td>\n",
              "      <td>61</td>\n",
              "    </tr>\n",
              "    <tr>\n",
              "      <th>4</th>\n",
              "      <td>4</td>\n",
              "      <td>30-06-20 12:00</td>\n",
              "      <td>36</td>\n",
              "      <td>265</td>\n",
              "      <td>30.3</td>\n",
              "      <td>69</td>\n",
              "    </tr>\n",
              "    <tr>\n",
              "      <th>...</th>\n",
              "      <td>...</td>\n",
              "      <td>...</td>\n",
              "      <td>...</td>\n",
              "      <td>...</td>\n",
              "      <td>...</td>\n",
              "      <td>...</td>\n",
              "    </tr>\n",
              "    <tr>\n",
              "      <th>2931</th>\n",
              "      <td>2931</td>\n",
              "      <td>01-07-21 9:00</td>\n",
              "      <td>19</td>\n",
              "      <td>240</td>\n",
              "      <td>32.5</td>\n",
              "      <td>52</td>\n",
              "    </tr>\n",
              "    <tr>\n",
              "      <th>2932</th>\n",
              "      <td>2932</td>\n",
              "      <td>01-07-21 12:00</td>\n",
              "      <td>18</td>\n",
              "      <td>250</td>\n",
              "      <td>29.1</td>\n",
              "      <td>70</td>\n",
              "    </tr>\n",
              "    <tr>\n",
              "      <th>2933</th>\n",
              "      <td>2933</td>\n",
              "      <td>01-07-21 15:00</td>\n",
              "      <td>16</td>\n",
              "      <td>245</td>\n",
              "      <td>29.1</td>\n",
              "      <td>71</td>\n",
              "    </tr>\n",
              "    <tr>\n",
              "      <th>2934</th>\n",
              "      <td>2934</td>\n",
              "      <td>01-07-21 18:00</td>\n",
              "      <td>17</td>\n",
              "      <td>260</td>\n",
              "      <td>28.6</td>\n",
              "      <td>73</td>\n",
              "    </tr>\n",
              "    <tr>\n",
              "      <th>2935</th>\n",
              "      <td>2935</td>\n",
              "      <td>01-07-21 21:00</td>\n",
              "      <td>21</td>\n",
              "      <td>265</td>\n",
              "      <td>27.3</td>\n",
              "      <td>77</td>\n",
              "    </tr>\n",
              "  </tbody>\n",
              "</table>\n",
              "<p>2936 rows × 6 columns</p>\n",
              "</div>\n",
              "      <button class=\"colab-df-convert\" onclick=\"convertToInteractive('df-efa07b38-b81a-49a9-8505-ae8992a5fb58')\"\n",
              "              title=\"Convert this dataframe to an interactive table.\"\n",
              "              style=\"display:none;\">\n",
              "        \n",
              "  <svg xmlns=\"http://www.w3.org/2000/svg\" height=\"24px\"viewBox=\"0 0 24 24\"\n",
              "       width=\"24px\">\n",
              "    <path d=\"M0 0h24v24H0V0z\" fill=\"none\"/>\n",
              "    <path d=\"M18.56 5.44l.94 2.06.94-2.06 2.06-.94-2.06-.94-.94-2.06-.94 2.06-2.06.94zm-11 1L8.5 8.5l.94-2.06 2.06-.94-2.06-.94L8.5 2.5l-.94 2.06-2.06.94zm10 10l.94 2.06.94-2.06 2.06-.94-2.06-.94-.94-2.06-.94 2.06-2.06.94z\"/><path d=\"M17.41 7.96l-1.37-1.37c-.4-.4-.92-.59-1.43-.59-.52 0-1.04.2-1.43.59L10.3 9.45l-7.72 7.72c-.78.78-.78 2.05 0 2.83L4 21.41c.39.39.9.59 1.41.59.51 0 1.02-.2 1.41-.59l7.78-7.78 2.81-2.81c.8-.78.8-2.07 0-2.86zM5.41 20L4 18.59l7.72-7.72 1.47 1.35L5.41 20z\"/>\n",
              "  </svg>\n",
              "      </button>\n",
              "      \n",
              "  <style>\n",
              "    .colab-df-container {\n",
              "      display:flex;\n",
              "      flex-wrap:wrap;\n",
              "      gap: 12px;\n",
              "    }\n",
              "\n",
              "    .colab-df-convert {\n",
              "      background-color: #E8F0FE;\n",
              "      border: none;\n",
              "      border-radius: 50%;\n",
              "      cursor: pointer;\n",
              "      display: none;\n",
              "      fill: #1967D2;\n",
              "      height: 32px;\n",
              "      padding: 0 0 0 0;\n",
              "      width: 32px;\n",
              "    }\n",
              "\n",
              "    .colab-df-convert:hover {\n",
              "      background-color: #E2EBFA;\n",
              "      box-shadow: 0px 1px 2px rgba(60, 64, 67, 0.3), 0px 1px 3px 1px rgba(60, 64, 67, 0.15);\n",
              "      fill: #174EA6;\n",
              "    }\n",
              "\n",
              "    [theme=dark] .colab-df-convert {\n",
              "      background-color: #3B4455;\n",
              "      fill: #D2E3FC;\n",
              "    }\n",
              "\n",
              "    [theme=dark] .colab-df-convert:hover {\n",
              "      background-color: #434B5C;\n",
              "      box-shadow: 0px 1px 3px 1px rgba(0, 0, 0, 0.15);\n",
              "      filter: drop-shadow(0px 1px 2px rgba(0, 0, 0, 0.3));\n",
              "      fill: #FFFFFF;\n",
              "    }\n",
              "  </style>\n",
              "\n",
              "      <script>\n",
              "        const buttonEl =\n",
              "          document.querySelector('#df-efa07b38-b81a-49a9-8505-ae8992a5fb58 button.colab-df-convert');\n",
              "        buttonEl.style.display =\n",
              "          google.colab.kernel.accessAllowed ? 'block' : 'none';\n",
              "\n",
              "        async function convertToInteractive(key) {\n",
              "          const element = document.querySelector('#df-efa07b38-b81a-49a9-8505-ae8992a5fb58');\n",
              "          const dataTable =\n",
              "            await google.colab.kernel.invokeFunction('convertToInteractive',\n",
              "                                                     [key], {});\n",
              "          if (!dataTable) return;\n",
              "\n",
              "          const docLinkHtml = 'Like what you see? Visit the ' +\n",
              "            '<a target=\"_blank\" href=https://colab.research.google.com/notebooks/data_table.ipynb>data table notebook</a>'\n",
              "            + ' to learn more about interactive tables.';\n",
              "          element.innerHTML = '';\n",
              "          dataTable['output_type'] = 'display_data';\n",
              "          await google.colab.output.renderOutput(dataTable, element);\n",
              "          const docLink = document.createElement('div');\n",
              "          docLink.innerHTML = docLinkHtml;\n",
              "          element.appendChild(docLink);\n",
              "        }\n",
              "      </script>\n",
              "    </div>\n",
              "  </div>\n",
              "  "
            ]
          },
          "metadata": {},
          "execution_count": 24
        }
      ]
    },
    {
      "cell_type": "markdown",
      "source": [
        "### Eliminate first 6 columns and last 2 columns"
      ],
      "metadata": {
        "id": "3FV8D0E4MfOW"
      }
    },
    {
      "cell_type": "code",
      "source": [
        "df_test_exo.drop([0,1,2,3,4,5,2934,2935],axis=0, inplace = True)\n",
        "df_test_exo = df_test_exo.copy().reset_index()\n",
        "df_test_exo = df_test_exo[['Time (UTC)','Wind Speed (km/h)','Wind Direction (°)','Surface Temperature (°C)','Surface Relative Humidity (%)']]\n",
        "df_test_exo"
      ],
      "metadata": {
        "colab": {
          "base_uri": "https://localhost:8080/",
          "height": 424
        },
        "id": "TFXOTd1cMacf",
        "outputId": "d1dcfe01-28b2-4e5f-9e53-c6c12b5dcb99"
      },
      "execution_count": null,
      "outputs": [
        {
          "output_type": "execute_result",
          "data": {
            "text/plain": [
              "          Time (UTC)  Wind Speed (km/h)  Wind Direction (°)  \\\n",
              "0     30-06-20 18:00                 42                 260   \n",
              "1     30-06-20 21:00                 55                 270   \n",
              "2      01-07-20 0:00                 53                 250   \n",
              "3      01-07-20 3:00                 51                 260   \n",
              "4      01-07-20 6:00                 33                 280   \n",
              "...              ...                ...                 ...   \n",
              "2923   01-07-21 3:00                 19                 255   \n",
              "2924   01-07-21 6:00                 17                 235   \n",
              "2925   01-07-21 9:00                 19                 240   \n",
              "2926  01-07-21 12:00                 18                 250   \n",
              "2927  01-07-21 15:00                 16                 245   \n",
              "\n",
              "      Surface Temperature (°C)  Surface Relative Humidity (%)  \n",
              "0                         28.5                             68  \n",
              "1                         28.3                             69  \n",
              "2                         28.7                             71  \n",
              "3                         29.7                             65  \n",
              "4                         30.8                             63  \n",
              "...                        ...                            ...  \n",
              "2923                      30.8                             57  \n",
              "2924                      32.5                             53  \n",
              "2925                      32.5                             52  \n",
              "2926                      29.1                             70  \n",
              "2927                      29.1                             71  \n",
              "\n",
              "[2928 rows x 5 columns]"
            ],
            "text/html": [
              "\n",
              "  <div id=\"df-5f2d276a-d57b-47a1-9303-8486d6f3c2b0\">\n",
              "    <div class=\"colab-df-container\">\n",
              "      <div>\n",
              "<style scoped>\n",
              "    .dataframe tbody tr th:only-of-type {\n",
              "        vertical-align: middle;\n",
              "    }\n",
              "\n",
              "    .dataframe tbody tr th {\n",
              "        vertical-align: top;\n",
              "    }\n",
              "\n",
              "    .dataframe thead th {\n",
              "        text-align: right;\n",
              "    }\n",
              "</style>\n",
              "<table border=\"1\" class=\"dataframe\">\n",
              "  <thead>\n",
              "    <tr style=\"text-align: right;\">\n",
              "      <th></th>\n",
              "      <th>Time (UTC)</th>\n",
              "      <th>Wind Speed (km/h)</th>\n",
              "      <th>Wind Direction (°)</th>\n",
              "      <th>Surface Temperature (°C)</th>\n",
              "      <th>Surface Relative Humidity (%)</th>\n",
              "    </tr>\n",
              "  </thead>\n",
              "  <tbody>\n",
              "    <tr>\n",
              "      <th>0</th>\n",
              "      <td>30-06-20 18:00</td>\n",
              "      <td>42</td>\n",
              "      <td>260</td>\n",
              "      <td>28.5</td>\n",
              "      <td>68</td>\n",
              "    </tr>\n",
              "    <tr>\n",
              "      <th>1</th>\n",
              "      <td>30-06-20 21:00</td>\n",
              "      <td>55</td>\n",
              "      <td>270</td>\n",
              "      <td>28.3</td>\n",
              "      <td>69</td>\n",
              "    </tr>\n",
              "    <tr>\n",
              "      <th>2</th>\n",
              "      <td>01-07-20 0:00</td>\n",
              "      <td>53</td>\n",
              "      <td>250</td>\n",
              "      <td>28.7</td>\n",
              "      <td>71</td>\n",
              "    </tr>\n",
              "    <tr>\n",
              "      <th>3</th>\n",
              "      <td>01-07-20 3:00</td>\n",
              "      <td>51</td>\n",
              "      <td>260</td>\n",
              "      <td>29.7</td>\n",
              "      <td>65</td>\n",
              "    </tr>\n",
              "    <tr>\n",
              "      <th>4</th>\n",
              "      <td>01-07-20 6:00</td>\n",
              "      <td>33</td>\n",
              "      <td>280</td>\n",
              "      <td>30.8</td>\n",
              "      <td>63</td>\n",
              "    </tr>\n",
              "    <tr>\n",
              "      <th>...</th>\n",
              "      <td>...</td>\n",
              "      <td>...</td>\n",
              "      <td>...</td>\n",
              "      <td>...</td>\n",
              "      <td>...</td>\n",
              "    </tr>\n",
              "    <tr>\n",
              "      <th>2923</th>\n",
              "      <td>01-07-21 3:00</td>\n",
              "      <td>19</td>\n",
              "      <td>255</td>\n",
              "      <td>30.8</td>\n",
              "      <td>57</td>\n",
              "    </tr>\n",
              "    <tr>\n",
              "      <th>2924</th>\n",
              "      <td>01-07-21 6:00</td>\n",
              "      <td>17</td>\n",
              "      <td>235</td>\n",
              "      <td>32.5</td>\n",
              "      <td>53</td>\n",
              "    </tr>\n",
              "    <tr>\n",
              "      <th>2925</th>\n",
              "      <td>01-07-21 9:00</td>\n",
              "      <td>19</td>\n",
              "      <td>240</td>\n",
              "      <td>32.5</td>\n",
              "      <td>52</td>\n",
              "    </tr>\n",
              "    <tr>\n",
              "      <th>2926</th>\n",
              "      <td>01-07-21 12:00</td>\n",
              "      <td>18</td>\n",
              "      <td>250</td>\n",
              "      <td>29.1</td>\n",
              "      <td>70</td>\n",
              "    </tr>\n",
              "    <tr>\n",
              "      <th>2927</th>\n",
              "      <td>01-07-21 15:00</td>\n",
              "      <td>16</td>\n",
              "      <td>245</td>\n",
              "      <td>29.1</td>\n",
              "      <td>71</td>\n",
              "    </tr>\n",
              "  </tbody>\n",
              "</table>\n",
              "<p>2928 rows × 5 columns</p>\n",
              "</div>\n",
              "      <button class=\"colab-df-convert\" onclick=\"convertToInteractive('df-5f2d276a-d57b-47a1-9303-8486d6f3c2b0')\"\n",
              "              title=\"Convert this dataframe to an interactive table.\"\n",
              "              style=\"display:none;\">\n",
              "        \n",
              "  <svg xmlns=\"http://www.w3.org/2000/svg\" height=\"24px\"viewBox=\"0 0 24 24\"\n",
              "       width=\"24px\">\n",
              "    <path d=\"M0 0h24v24H0V0z\" fill=\"none\"/>\n",
              "    <path d=\"M18.56 5.44l.94 2.06.94-2.06 2.06-.94-2.06-.94-.94-2.06-.94 2.06-2.06.94zm-11 1L8.5 8.5l.94-2.06 2.06-.94-2.06-.94L8.5 2.5l-.94 2.06-2.06.94zm10 10l.94 2.06.94-2.06 2.06-.94-2.06-.94-.94-2.06-.94 2.06-2.06.94z\"/><path d=\"M17.41 7.96l-1.37-1.37c-.4-.4-.92-.59-1.43-.59-.52 0-1.04.2-1.43.59L10.3 9.45l-7.72 7.72c-.78.78-.78 2.05 0 2.83L4 21.41c.39.39.9.59 1.41.59.51 0 1.02-.2 1.41-.59l7.78-7.78 2.81-2.81c.8-.78.8-2.07 0-2.86zM5.41 20L4 18.59l7.72-7.72 1.47 1.35L5.41 20z\"/>\n",
              "  </svg>\n",
              "      </button>\n",
              "      \n",
              "  <style>\n",
              "    .colab-df-container {\n",
              "      display:flex;\n",
              "      flex-wrap:wrap;\n",
              "      gap: 12px;\n",
              "    }\n",
              "\n",
              "    .colab-df-convert {\n",
              "      background-color: #E8F0FE;\n",
              "      border: none;\n",
              "      border-radius: 50%;\n",
              "      cursor: pointer;\n",
              "      display: none;\n",
              "      fill: #1967D2;\n",
              "      height: 32px;\n",
              "      padding: 0 0 0 0;\n",
              "      width: 32px;\n",
              "    }\n",
              "\n",
              "    .colab-df-convert:hover {\n",
              "      background-color: #E2EBFA;\n",
              "      box-shadow: 0px 1px 2px rgba(60, 64, 67, 0.3), 0px 1px 3px 1px rgba(60, 64, 67, 0.15);\n",
              "      fill: #174EA6;\n",
              "    }\n",
              "\n",
              "    [theme=dark] .colab-df-convert {\n",
              "      background-color: #3B4455;\n",
              "      fill: #D2E3FC;\n",
              "    }\n",
              "\n",
              "    [theme=dark] .colab-df-convert:hover {\n",
              "      background-color: #434B5C;\n",
              "      box-shadow: 0px 1px 3px 1px rgba(0, 0, 0, 0.15);\n",
              "      filter: drop-shadow(0px 1px 2px rgba(0, 0, 0, 0.3));\n",
              "      fill: #FFFFFF;\n",
              "    }\n",
              "  </style>\n",
              "\n",
              "      <script>\n",
              "        const buttonEl =\n",
              "          document.querySelector('#df-5f2d276a-d57b-47a1-9303-8486d6f3c2b0 button.colab-df-convert');\n",
              "        buttonEl.style.display =\n",
              "          google.colab.kernel.accessAllowed ? 'block' : 'none';\n",
              "\n",
              "        async function convertToInteractive(key) {\n",
              "          const element = document.querySelector('#df-5f2d276a-d57b-47a1-9303-8486d6f3c2b0');\n",
              "          const dataTable =\n",
              "            await google.colab.kernel.invokeFunction('convertToInteractive',\n",
              "                                                     [key], {});\n",
              "          if (!dataTable) return;\n",
              "\n",
              "          const docLinkHtml = 'Like what you see? Visit the ' +\n",
              "            '<a target=\"_blank\" href=https://colab.research.google.com/notebooks/data_table.ipynb>data table notebook</a>'\n",
              "            + ' to learn more about interactive tables.';\n",
              "          element.innerHTML = '';\n",
              "          dataTable['output_type'] = 'display_data';\n",
              "          await google.colab.output.renderOutput(dataTable, element);\n",
              "          const docLink = document.createElement('div');\n",
              "          docLink.innerHTML = docLinkHtml;\n",
              "          element.appendChild(docLink);\n",
              "        }\n",
              "      </script>\n",
              "    </div>\n",
              "  </div>\n",
              "  "
            ]
          },
          "metadata": {},
          "execution_count": 25
        }
      ]
    },
    {
      "cell_type": "markdown",
      "source": [
        "### Join columns"
      ],
      "metadata": {
        "id": "iX1HlPO9NxhO"
      }
    },
    {
      "cell_type": "code",
      "source": [
        "df_test = pd.concat([df_test_pm25,df_test_exo],axis=1)\n",
        "del df_test['Time (UTC)']\n",
        "df_test['Time'] = pd.to_datetime(df_test['Time'])\n",
        "df_test = df_test.set_index('Time')\n",
        "df_test"
      ],
      "metadata": {
        "colab": {
          "base_uri": "https://localhost:8080/",
          "height": 455
        },
        "id": "WiQ5GrQXZdxY",
        "outputId": "9974a0c2-1fa9-437b-ab7d-0383e5a8ec80"
      },
      "execution_count": null,
      "outputs": [
        {
          "output_type": "execute_result",
          "data": {
            "text/plain": [
              "                     PM2.5(µg/m3)  Wind Speed (km/h)  Wind Direction (°)  \\\n",
              "Time                                                                       \n",
              "2020-07-01 01:00:00           8.0                 42                 260   \n",
              "2020-07-01 04:00:00           8.0                 55                 270   \n",
              "2020-07-01 07:00:00          13.0                 53                 250   \n",
              "2020-07-01 10:00:00          10.0                 51                 260   \n",
              "2020-07-01 13:00:00          15.0                 33                 280   \n",
              "...                           ...                ...                 ...   \n",
              "2021-07-01 10:00:00          14.0                 19                 255   \n",
              "2021-07-01 13:00:00          14.0                 17                 235   \n",
              "2021-07-01 16:00:00          14.0                 19                 240   \n",
              "2021-07-01 19:00:00          13.0                 18                 250   \n",
              "2021-07-01 22:00:00          14.0                 16                 245   \n",
              "\n",
              "                     Surface Temperature (°C)  Surface Relative Humidity (%)  \n",
              "Time                                                                          \n",
              "2020-07-01 01:00:00                      28.5                             68  \n",
              "2020-07-01 04:00:00                      28.3                             69  \n",
              "2020-07-01 07:00:00                      28.7                             71  \n",
              "2020-07-01 10:00:00                      29.7                             65  \n",
              "2020-07-01 13:00:00                      30.8                             63  \n",
              "...                                       ...                            ...  \n",
              "2021-07-01 10:00:00                      30.8                             57  \n",
              "2021-07-01 13:00:00                      32.5                             53  \n",
              "2021-07-01 16:00:00                      32.5                             52  \n",
              "2021-07-01 19:00:00                      29.1                             70  \n",
              "2021-07-01 22:00:00                      29.1                             71  \n",
              "\n",
              "[2928 rows x 5 columns]"
            ],
            "text/html": [
              "\n",
              "  <div id=\"df-5e4941c3-8ee1-4bcb-bc80-ba31baed97a0\">\n",
              "    <div class=\"colab-df-container\">\n",
              "      <div>\n",
              "<style scoped>\n",
              "    .dataframe tbody tr th:only-of-type {\n",
              "        vertical-align: middle;\n",
              "    }\n",
              "\n",
              "    .dataframe tbody tr th {\n",
              "        vertical-align: top;\n",
              "    }\n",
              "\n",
              "    .dataframe thead th {\n",
              "        text-align: right;\n",
              "    }\n",
              "</style>\n",
              "<table border=\"1\" class=\"dataframe\">\n",
              "  <thead>\n",
              "    <tr style=\"text-align: right;\">\n",
              "      <th></th>\n",
              "      <th>PM2.5(µg/m3)</th>\n",
              "      <th>Wind Speed (km/h)</th>\n",
              "      <th>Wind Direction (°)</th>\n",
              "      <th>Surface Temperature (°C)</th>\n",
              "      <th>Surface Relative Humidity (%)</th>\n",
              "    </tr>\n",
              "    <tr>\n",
              "      <th>Time</th>\n",
              "      <th></th>\n",
              "      <th></th>\n",
              "      <th></th>\n",
              "      <th></th>\n",
              "      <th></th>\n",
              "    </tr>\n",
              "  </thead>\n",
              "  <tbody>\n",
              "    <tr>\n",
              "      <th>2020-07-01 01:00:00</th>\n",
              "      <td>8.0</td>\n",
              "      <td>42</td>\n",
              "      <td>260</td>\n",
              "      <td>28.5</td>\n",
              "      <td>68</td>\n",
              "    </tr>\n",
              "    <tr>\n",
              "      <th>2020-07-01 04:00:00</th>\n",
              "      <td>8.0</td>\n",
              "      <td>55</td>\n",
              "      <td>270</td>\n",
              "      <td>28.3</td>\n",
              "      <td>69</td>\n",
              "    </tr>\n",
              "    <tr>\n",
              "      <th>2020-07-01 07:00:00</th>\n",
              "      <td>13.0</td>\n",
              "      <td>53</td>\n",
              "      <td>250</td>\n",
              "      <td>28.7</td>\n",
              "      <td>71</td>\n",
              "    </tr>\n",
              "    <tr>\n",
              "      <th>2020-07-01 10:00:00</th>\n",
              "      <td>10.0</td>\n",
              "      <td>51</td>\n",
              "      <td>260</td>\n",
              "      <td>29.7</td>\n",
              "      <td>65</td>\n",
              "    </tr>\n",
              "    <tr>\n",
              "      <th>2020-07-01 13:00:00</th>\n",
              "      <td>15.0</td>\n",
              "      <td>33</td>\n",
              "      <td>280</td>\n",
              "      <td>30.8</td>\n",
              "      <td>63</td>\n",
              "    </tr>\n",
              "    <tr>\n",
              "      <th>...</th>\n",
              "      <td>...</td>\n",
              "      <td>...</td>\n",
              "      <td>...</td>\n",
              "      <td>...</td>\n",
              "      <td>...</td>\n",
              "    </tr>\n",
              "    <tr>\n",
              "      <th>2021-07-01 10:00:00</th>\n",
              "      <td>14.0</td>\n",
              "      <td>19</td>\n",
              "      <td>255</td>\n",
              "      <td>30.8</td>\n",
              "      <td>57</td>\n",
              "    </tr>\n",
              "    <tr>\n",
              "      <th>2021-07-01 13:00:00</th>\n",
              "      <td>14.0</td>\n",
              "      <td>17</td>\n",
              "      <td>235</td>\n",
              "      <td>32.5</td>\n",
              "      <td>53</td>\n",
              "    </tr>\n",
              "    <tr>\n",
              "      <th>2021-07-01 16:00:00</th>\n",
              "      <td>14.0</td>\n",
              "      <td>19</td>\n",
              "      <td>240</td>\n",
              "      <td>32.5</td>\n",
              "      <td>52</td>\n",
              "    </tr>\n",
              "    <tr>\n",
              "      <th>2021-07-01 19:00:00</th>\n",
              "      <td>13.0</td>\n",
              "      <td>18</td>\n",
              "      <td>250</td>\n",
              "      <td>29.1</td>\n",
              "      <td>70</td>\n",
              "    </tr>\n",
              "    <tr>\n",
              "      <th>2021-07-01 22:00:00</th>\n",
              "      <td>14.0</td>\n",
              "      <td>16</td>\n",
              "      <td>245</td>\n",
              "      <td>29.1</td>\n",
              "      <td>71</td>\n",
              "    </tr>\n",
              "  </tbody>\n",
              "</table>\n",
              "<p>2928 rows × 5 columns</p>\n",
              "</div>\n",
              "      <button class=\"colab-df-convert\" onclick=\"convertToInteractive('df-5e4941c3-8ee1-4bcb-bc80-ba31baed97a0')\"\n",
              "              title=\"Convert this dataframe to an interactive table.\"\n",
              "              style=\"display:none;\">\n",
              "        \n",
              "  <svg xmlns=\"http://www.w3.org/2000/svg\" height=\"24px\"viewBox=\"0 0 24 24\"\n",
              "       width=\"24px\">\n",
              "    <path d=\"M0 0h24v24H0V0z\" fill=\"none\"/>\n",
              "    <path d=\"M18.56 5.44l.94 2.06.94-2.06 2.06-.94-2.06-.94-.94-2.06-.94 2.06-2.06.94zm-11 1L8.5 8.5l.94-2.06 2.06-.94-2.06-.94L8.5 2.5l-.94 2.06-2.06.94zm10 10l.94 2.06.94-2.06 2.06-.94-2.06-.94-.94-2.06-.94 2.06-2.06.94z\"/><path d=\"M17.41 7.96l-1.37-1.37c-.4-.4-.92-.59-1.43-.59-.52 0-1.04.2-1.43.59L10.3 9.45l-7.72 7.72c-.78.78-.78 2.05 0 2.83L4 21.41c.39.39.9.59 1.41.59.51 0 1.02-.2 1.41-.59l7.78-7.78 2.81-2.81c.8-.78.8-2.07 0-2.86zM5.41 20L4 18.59l7.72-7.72 1.47 1.35L5.41 20z\"/>\n",
              "  </svg>\n",
              "      </button>\n",
              "      \n",
              "  <style>\n",
              "    .colab-df-container {\n",
              "      display:flex;\n",
              "      flex-wrap:wrap;\n",
              "      gap: 12px;\n",
              "    }\n",
              "\n",
              "    .colab-df-convert {\n",
              "      background-color: #E8F0FE;\n",
              "      border: none;\n",
              "      border-radius: 50%;\n",
              "      cursor: pointer;\n",
              "      display: none;\n",
              "      fill: #1967D2;\n",
              "      height: 32px;\n",
              "      padding: 0 0 0 0;\n",
              "      width: 32px;\n",
              "    }\n",
              "\n",
              "    .colab-df-convert:hover {\n",
              "      background-color: #E2EBFA;\n",
              "      box-shadow: 0px 1px 2px rgba(60, 64, 67, 0.3), 0px 1px 3px 1px rgba(60, 64, 67, 0.15);\n",
              "      fill: #174EA6;\n",
              "    }\n",
              "\n",
              "    [theme=dark] .colab-df-convert {\n",
              "      background-color: #3B4455;\n",
              "      fill: #D2E3FC;\n",
              "    }\n",
              "\n",
              "    [theme=dark] .colab-df-convert:hover {\n",
              "      background-color: #434B5C;\n",
              "      box-shadow: 0px 1px 3px 1px rgba(0, 0, 0, 0.15);\n",
              "      filter: drop-shadow(0px 1px 2px rgba(0, 0, 0, 0.3));\n",
              "      fill: #FFFFFF;\n",
              "    }\n",
              "  </style>\n",
              "\n",
              "      <script>\n",
              "        const buttonEl =\n",
              "          document.querySelector('#df-5e4941c3-8ee1-4bcb-bc80-ba31baed97a0 button.colab-df-convert');\n",
              "        buttonEl.style.display =\n",
              "          google.colab.kernel.accessAllowed ? 'block' : 'none';\n",
              "\n",
              "        async function convertToInteractive(key) {\n",
              "          const element = document.querySelector('#df-5e4941c3-8ee1-4bcb-bc80-ba31baed97a0');\n",
              "          const dataTable =\n",
              "            await google.colab.kernel.invokeFunction('convertToInteractive',\n",
              "                                                     [key], {});\n",
              "          if (!dataTable) return;\n",
              "\n",
              "          const docLinkHtml = 'Like what you see? Visit the ' +\n",
              "            '<a target=\"_blank\" href=https://colab.research.google.com/notebooks/data_table.ipynb>data table notebook</a>'\n",
              "            + ' to learn more about interactive tables.';\n",
              "          element.innerHTML = '';\n",
              "          dataTable['output_type'] = 'display_data';\n",
              "          await google.colab.output.renderOutput(dataTable, element);\n",
              "          const docLink = document.createElement('div');\n",
              "          docLink.innerHTML = docLinkHtml;\n",
              "          element.appendChild(docLink);\n",
              "        }\n",
              "      </script>\n",
              "    </div>\n",
              "  </div>\n",
              "  "
            ]
          },
          "metadata": {},
          "execution_count": 26
        }
      ]
    },
    {
      "cell_type": "code",
      "source": [
        "df_test.isnull().sum()"
      ],
      "metadata": {
        "colab": {
          "base_uri": "https://localhost:8080/"
        },
        "id": "h2wceVpHt8bV",
        "outputId": "246ef152-05b6-465d-f838-27f1585c9e76"
      },
      "execution_count": null,
      "outputs": [
        {
          "output_type": "execute_result",
          "data": {
            "text/plain": [
              "PM2.5(µg/m3)                     0\n",
              "Wind Speed (km/h)                0\n",
              "Wind Direction (°)               0\n",
              "Surface Temperature (°C)         0\n",
              "Surface Relative Humidity (%)    0\n",
              "dtype: int64"
            ]
          },
          "metadata": {},
          "execution_count": 27
        }
      ]
    },
    {
      "cell_type": "code",
      "source": [
        "df_test.describe()"
      ],
      "metadata": {
        "colab": {
          "base_uri": "https://localhost:8080/",
          "height": 300
        },
        "id": "yvb3d_ajVbDN",
        "outputId": "bc978575-7849-4c2a-c43f-44b7dd325412"
      },
      "execution_count": null,
      "outputs": [
        {
          "output_type": "execute_result",
          "data": {
            "text/plain": [
              "       PM2.5(µg/m3)  Wind Speed (km/h)  Wind Direction (°)  \\\n",
              "count   2928.000000        2928.000000         2928.000000   \n",
              "mean      21.009921          19.193989          164.859973   \n",
              "std        9.419935          11.941376           93.046037   \n",
              "min        4.000000           0.000000            0.000000   \n",
              "25%       14.000000          11.000000           75.000000   \n",
              "50%       19.000000          17.000000          155.000000   \n",
              "75%       25.000000          25.000000          255.000000   \n",
              "max       67.000000          87.000000          360.000000   \n",
              "\n",
              "       Surface Temperature (°C)  Surface Relative Humidity (%)  \n",
              "count               2928.000000                    2928.000000  \n",
              "mean                  28.954474                      64.530055  \n",
              "std                    2.776163                      11.640342  \n",
              "min                   18.000000                      28.000000  \n",
              "25%                   27.300000                      56.000000  \n",
              "50%                   28.900000                      66.000000  \n",
              "75%                   30.800000                      73.000000  \n",
              "max                   78.000000                      95.000000  "
            ],
            "text/html": [
              "\n",
              "  <div id=\"df-6a1854a6-cf08-47ab-9085-88ef76f913b9\">\n",
              "    <div class=\"colab-df-container\">\n",
              "      <div>\n",
              "<style scoped>\n",
              "    .dataframe tbody tr th:only-of-type {\n",
              "        vertical-align: middle;\n",
              "    }\n",
              "\n",
              "    .dataframe tbody tr th {\n",
              "        vertical-align: top;\n",
              "    }\n",
              "\n",
              "    .dataframe thead th {\n",
              "        text-align: right;\n",
              "    }\n",
              "</style>\n",
              "<table border=\"1\" class=\"dataframe\">\n",
              "  <thead>\n",
              "    <tr style=\"text-align: right;\">\n",
              "      <th></th>\n",
              "      <th>PM2.5(µg/m3)</th>\n",
              "      <th>Wind Speed (km/h)</th>\n",
              "      <th>Wind Direction (°)</th>\n",
              "      <th>Surface Temperature (°C)</th>\n",
              "      <th>Surface Relative Humidity (%)</th>\n",
              "    </tr>\n",
              "  </thead>\n",
              "  <tbody>\n",
              "    <tr>\n",
              "      <th>count</th>\n",
              "      <td>2928.000000</td>\n",
              "      <td>2928.000000</td>\n",
              "      <td>2928.000000</td>\n",
              "      <td>2928.000000</td>\n",
              "      <td>2928.000000</td>\n",
              "    </tr>\n",
              "    <tr>\n",
              "      <th>mean</th>\n",
              "      <td>21.009921</td>\n",
              "      <td>19.193989</td>\n",
              "      <td>164.859973</td>\n",
              "      <td>28.954474</td>\n",
              "      <td>64.530055</td>\n",
              "    </tr>\n",
              "    <tr>\n",
              "      <th>std</th>\n",
              "      <td>9.419935</td>\n",
              "      <td>11.941376</td>\n",
              "      <td>93.046037</td>\n",
              "      <td>2.776163</td>\n",
              "      <td>11.640342</td>\n",
              "    </tr>\n",
              "    <tr>\n",
              "      <th>min</th>\n",
              "      <td>4.000000</td>\n",
              "      <td>0.000000</td>\n",
              "      <td>0.000000</td>\n",
              "      <td>18.000000</td>\n",
              "      <td>28.000000</td>\n",
              "    </tr>\n",
              "    <tr>\n",
              "      <th>25%</th>\n",
              "      <td>14.000000</td>\n",
              "      <td>11.000000</td>\n",
              "      <td>75.000000</td>\n",
              "      <td>27.300000</td>\n",
              "      <td>56.000000</td>\n",
              "    </tr>\n",
              "    <tr>\n",
              "      <th>50%</th>\n",
              "      <td>19.000000</td>\n",
              "      <td>17.000000</td>\n",
              "      <td>155.000000</td>\n",
              "      <td>28.900000</td>\n",
              "      <td>66.000000</td>\n",
              "    </tr>\n",
              "    <tr>\n",
              "      <th>75%</th>\n",
              "      <td>25.000000</td>\n",
              "      <td>25.000000</td>\n",
              "      <td>255.000000</td>\n",
              "      <td>30.800000</td>\n",
              "      <td>73.000000</td>\n",
              "    </tr>\n",
              "    <tr>\n",
              "      <th>max</th>\n",
              "      <td>67.000000</td>\n",
              "      <td>87.000000</td>\n",
              "      <td>360.000000</td>\n",
              "      <td>78.000000</td>\n",
              "      <td>95.000000</td>\n",
              "    </tr>\n",
              "  </tbody>\n",
              "</table>\n",
              "</div>\n",
              "      <button class=\"colab-df-convert\" onclick=\"convertToInteractive('df-6a1854a6-cf08-47ab-9085-88ef76f913b9')\"\n",
              "              title=\"Convert this dataframe to an interactive table.\"\n",
              "              style=\"display:none;\">\n",
              "        \n",
              "  <svg xmlns=\"http://www.w3.org/2000/svg\" height=\"24px\"viewBox=\"0 0 24 24\"\n",
              "       width=\"24px\">\n",
              "    <path d=\"M0 0h24v24H0V0z\" fill=\"none\"/>\n",
              "    <path d=\"M18.56 5.44l.94 2.06.94-2.06 2.06-.94-2.06-.94-.94-2.06-.94 2.06-2.06.94zm-11 1L8.5 8.5l.94-2.06 2.06-.94-2.06-.94L8.5 2.5l-.94 2.06-2.06.94zm10 10l.94 2.06.94-2.06 2.06-.94-2.06-.94-.94-2.06-.94 2.06-2.06.94z\"/><path d=\"M17.41 7.96l-1.37-1.37c-.4-.4-.92-.59-1.43-.59-.52 0-1.04.2-1.43.59L10.3 9.45l-7.72 7.72c-.78.78-.78 2.05 0 2.83L4 21.41c.39.39.9.59 1.41.59.51 0 1.02-.2 1.41-.59l7.78-7.78 2.81-2.81c.8-.78.8-2.07 0-2.86zM5.41 20L4 18.59l7.72-7.72 1.47 1.35L5.41 20z\"/>\n",
              "  </svg>\n",
              "      </button>\n",
              "      \n",
              "  <style>\n",
              "    .colab-df-container {\n",
              "      display:flex;\n",
              "      flex-wrap:wrap;\n",
              "      gap: 12px;\n",
              "    }\n",
              "\n",
              "    .colab-df-convert {\n",
              "      background-color: #E8F0FE;\n",
              "      border: none;\n",
              "      border-radius: 50%;\n",
              "      cursor: pointer;\n",
              "      display: none;\n",
              "      fill: #1967D2;\n",
              "      height: 32px;\n",
              "      padding: 0 0 0 0;\n",
              "      width: 32px;\n",
              "    }\n",
              "\n",
              "    .colab-df-convert:hover {\n",
              "      background-color: #E2EBFA;\n",
              "      box-shadow: 0px 1px 2px rgba(60, 64, 67, 0.3), 0px 1px 3px 1px rgba(60, 64, 67, 0.15);\n",
              "      fill: #174EA6;\n",
              "    }\n",
              "\n",
              "    [theme=dark] .colab-df-convert {\n",
              "      background-color: #3B4455;\n",
              "      fill: #D2E3FC;\n",
              "    }\n",
              "\n",
              "    [theme=dark] .colab-df-convert:hover {\n",
              "      background-color: #434B5C;\n",
              "      box-shadow: 0px 1px 3px 1px rgba(0, 0, 0, 0.15);\n",
              "      filter: drop-shadow(0px 1px 2px rgba(0, 0, 0, 0.3));\n",
              "      fill: #FFFFFF;\n",
              "    }\n",
              "  </style>\n",
              "\n",
              "      <script>\n",
              "        const buttonEl =\n",
              "          document.querySelector('#df-6a1854a6-cf08-47ab-9085-88ef76f913b9 button.colab-df-convert');\n",
              "        buttonEl.style.display =\n",
              "          google.colab.kernel.accessAllowed ? 'block' : 'none';\n",
              "\n",
              "        async function convertToInteractive(key) {\n",
              "          const element = document.querySelector('#df-6a1854a6-cf08-47ab-9085-88ef76f913b9');\n",
              "          const dataTable =\n",
              "            await google.colab.kernel.invokeFunction('convertToInteractive',\n",
              "                                                     [key], {});\n",
              "          if (!dataTable) return;\n",
              "\n",
              "          const docLinkHtml = 'Like what you see? Visit the ' +\n",
              "            '<a target=\"_blank\" href=https://colab.research.google.com/notebooks/data_table.ipynb>data table notebook</a>'\n",
              "            + ' to learn more about interactive tables.';\n",
              "          element.innerHTML = '';\n",
              "          dataTable['output_type'] = 'display_data';\n",
              "          await google.colab.output.renderOutput(dataTable, element);\n",
              "          const docLink = document.createElement('div');\n",
              "          docLink.innerHTML = docLinkHtml;\n",
              "          element.appendChild(docLink);\n",
              "        }\n",
              "      </script>\n",
              "    </div>\n",
              "  </div>\n",
              "  "
            ]
          },
          "metadata": {},
          "execution_count": 28
        }
      ]
    },
    {
      "cell_type": "code",
      "source": [
        "plt.figure(figsize = (18,10))\n",
        "plt.rcParams.update({'font.size': 16})\n",
        "sns.heatmap(df_test[['PM2.5(µg/m3)','Wind Speed (km/h)','Wind Direction (°)','Surface Temperature (°C)','Surface Relative Humidity (%)']].corr(), annot =True, cmap = 'YlOrBr') "
      ],
      "metadata": {
        "colab": {
          "base_uri": "https://localhost:8080/",
          "height": 838
        },
        "id": "5SVb-iagOy9L",
        "outputId": "303d2153-1c54-47f2-8a74-dda20bbd4ce7"
      },
      "execution_count": null,
      "outputs": [
        {
          "output_type": "execute_result",
          "data": {
            "text/plain": [
              "<matplotlib.axes._subplots.AxesSubplot at 0x7fe330453e90>"
            ]
          },
          "metadata": {},
          "execution_count": 29
        },
        {
          "output_type": "display_data",
          "data": {
            "text/plain": [
              "<Figure size 1296x720 with 2 Axes>"
            ],
            "image/png": "[encoded data removed]"
          },
          "metadata": {
            "needs_background": "light"
          }
        }
      ]
    },
    {
      "cell_type": "markdown",
      "source": [
        "# Explore Data Analysis"
      ],
      "metadata": {
        "id": "fOSuxQmAcmlL"
      }
    },
    {
      "cell_type": "code",
      "source": [
        "df_all = pd.concat([df_train,df_test])\n",
        "df_all"
      ],
      "metadata": {
        "colab": {
          "base_uri": "https://localhost:8080/",
          "height": 455
        },
        "id": "H1zavVPjaUoa",
        "outputId": "9d24c456-f072-4f7c-9ebb-fbdd8b331a24"
      },
      "execution_count": null,
      "outputs": [
        {
          "output_type": "execute_result",
          "data": {
            "text/plain": [
              "                     PM2.5(µg/m3)  Wind Speed (km/h)  Wind Direction (°)  \\\n",
              "Time                                                                       \n",
              "2017-07-01 01:00:00          10.0                 16                 260   \n",
              "2017-07-01 04:00:00          15.0                 16                 255   \n",
              "2017-07-01 07:00:00          23.0                 17                 235   \n",
              "2017-07-01 10:00:00          22.0                 18                 240   \n",
              "2017-07-01 13:00:00          14.0                 18                 255   \n",
              "...                           ...                ...                 ...   \n",
              "2021-07-01 10:00:00          14.0                 19                 255   \n",
              "2021-07-01 13:00:00          14.0                 17                 235   \n",
              "2021-07-01 16:00:00          14.0                 19                 240   \n",
              "2021-07-01 19:00:00          13.0                 18                 250   \n",
              "2021-07-01 22:00:00          14.0                 16                 245   \n",
              "\n",
              "                     Surface Temperature (°C)  Surface Relative Humidity (%)  \n",
              "Time                                                                          \n",
              "2017-07-01 01:00:00                      27.9                             79  \n",
              "2017-07-01 04:00:00                      27.4                             80  \n",
              "2017-07-01 07:00:00                      28.0                             75  \n",
              "2017-07-01 10:00:00                      31.1                             59  \n",
              "2017-07-01 13:00:00                      33.3                             51  \n",
              "...                                       ...                            ...  \n",
              "2021-07-01 10:00:00                      30.8                             57  \n",
              "2021-07-01 13:00:00                      32.5                             53  \n",
              "2021-07-01 16:00:00                      32.5                             52  \n",
              "2021-07-01 19:00:00                      29.1                             70  \n",
              "2021-07-01 22:00:00                      29.1                             71  \n",
              "\n",
              "[11696 rows x 5 columns]"
            ],
            "text/html": [
              "\n",
              "  <div id=\"df-a9e70c7e-fa04-4f79-b034-a5470d4d34cf\">\n",
              "    <div class=\"colab-df-container\">\n",
              "      <div>\n",
              "<style scoped>\n",
              "    .dataframe tbody tr th:only-of-type {\n",
              "        vertical-align: middle;\n",
              "    }\n",
              "\n",
              "    .dataframe tbody tr th {\n",
              "        vertical-align: top;\n",
              "    }\n",
              "\n",
              "    .dataframe thead th {\n",
              "        text-align: right;\n",
              "    }\n",
              "</style>\n",
              "<table border=\"1\" class=\"dataframe\">\n",
              "  <thead>\n",
              "    <tr style=\"text-align: right;\">\n",
              "      <th></th>\n",
              "      <th>PM2.5(µg/m3)</th>\n",
              "      <th>Wind Speed (km/h)</th>\n",
              "      <th>Wind Direction (°)</th>\n",
              "      <th>Surface Temperature (°C)</th>\n",
              "      <th>Surface Relative Humidity (%)</th>\n",
              "    </tr>\n",
              "    <tr>\n",
              "      <th>Time</th>\n",
              "      <th></th>\n",
              "      <th></th>\n",
              "      <th></th>\n",
              "      <th></th>\n",
              "      <th></th>\n",
              "    </tr>\n",
              "  </thead>\n",
              "  <tbody>\n",
              "    <tr>\n",
              "      <th>2017-07-01 01:00:00</th>\n",
              "      <td>10.0</td>\n",
              "      <td>16</td>\n",
              "      <td>260</td>\n",
              "      <td>27.9</td>\n",
              "      <td>79</td>\n",
              "    </tr>\n",
              "    <tr>\n",
              "      <th>2017-07-01 04:00:00</th>\n",
              "      <td>15.0</td>\n",
              "      <td>16</td>\n",
              "      <td>255</td>\n",
              "      <td>27.4</td>\n",
              "      <td>80</td>\n",
              "    </tr>\n",
              "    <tr>\n",
              "      <th>2017-07-01 07:00:00</th>\n",
              "      <td>23.0</td>\n",
              "      <td>17</td>\n",
              "      <td>235</td>\n",
              "      <td>28.0</td>\n",
              "      <td>75</td>\n",
              "    </tr>\n",
              "    <tr>\n",
              "      <th>2017-07-01 10:00:00</th>\n",
              "      <td>22.0</td>\n",
              "      <td>18</td>\n",
              "      <td>240</td>\n",
              "      <td>31.1</td>\n",
              "      <td>59</td>\n",
              "    </tr>\n",
              "    <tr>\n",
              "      <th>2017-07-01 13:00:00</th>\n",
              "      <td>14.0</td>\n",
              "      <td>18</td>\n",
              "      <td>255</td>\n",
              "      <td>33.3</td>\n",
              "      <td>51</td>\n",
              "    </tr>\n",
              "    <tr>\n",
              "      <th>...</th>\n",
              "      <td>...</td>\n",
              "      <td>...</td>\n",
              "      <td>...</td>\n",
              "      <td>...</td>\n",
              "      <td>...</td>\n",
              "    </tr>\n",
              "    <tr>\n",
              "      <th>2021-07-01 10:00:00</th>\n",
              "      <td>14.0</td>\n",
              "      <td>19</td>\n",
              "      <td>255</td>\n",
              "      <td>30.8</td>\n",
              "      <td>57</td>\n",
              "    </tr>\n",
              "    <tr>\n",
              "      <th>2021-07-01 13:00:00</th>\n",
              "      <td>14.0</td>\n",
              "      <td>17</td>\n",
              "      <td>235</td>\n",
              "      <td>32.5</td>\n",
              "      <td>53</td>\n",
              "    </tr>\n",
              "    <tr>\n",
              "      <th>2021-07-01 16:00:00</th>\n",
              "      <td>14.0</td>\n",
              "      <td>19</td>\n",
              "      <td>240</td>\n",
              "      <td>32.5</td>\n",
              "      <td>52</td>\n",
              "    </tr>\n",
              "    <tr>\n",
              "      <th>2021-07-01 19:00:00</th>\n",
              "      <td>13.0</td>\n",
              "      <td>18</td>\n",
              "      <td>250</td>\n",
              "      <td>29.1</td>\n",
              "      <td>70</td>\n",
              "    </tr>\n",
              "    <tr>\n",
              "      <th>2021-07-01 22:00:00</th>\n",
              "      <td>14.0</td>\n",
              "      <td>16</td>\n",
              "      <td>245</td>\n",
              "      <td>29.1</td>\n",
              "      <td>71</td>\n",
              "    </tr>\n",
              "  </tbody>\n",
              "</table>\n",
              "<p>11696 rows × 5 columns</p>\n",
              "</div>\n",
              "      <button class=\"colab-df-convert\" onclick=\"convertToInteractive('df-a9e70c7e-fa04-4f79-b034-a5470d4d34cf')\"\n",
              "              title=\"Convert this dataframe to an interactive table.\"\n",
              "              style=\"display:none;\">\n",
              "        \n",
              "  <svg xmlns=\"http://www.w3.org/2000/svg\" height=\"24px\"viewBox=\"0 0 24 24\"\n",
              "       width=\"24px\">\n",
              "    <path d=\"M0 0h24v24H0V0z\" fill=\"none\"/>\n",
              "    <path d=\"M18.56 5.44l.94 2.06.94-2.06 2.06-.94-2.06-.94-.94-2.06-.94 2.06-2.06.94zm-11 1L8.5 8.5l.94-2.06 2.06-.94-2.06-.94L8.5 2.5l-.94 2.06-2.06.94zm10 10l.94 2.06.94-2.06 2.06-.94-2.06-.94-.94-2.06-.94 2.06-2.06.94z\"/><path d=\"M17.41 7.96l-1.37-1.37c-.4-.4-.92-.59-1.43-.59-.52 0-1.04.2-1.43.59L10.3 9.45l-7.72 7.72c-.78.78-.78 2.05 0 2.83L4 21.41c.39.39.9.59 1.41.59.51 0 1.02-.2 1.41-.59l7.78-7.78 2.81-2.81c.8-.78.8-2.07 0-2.86zM5.41 20L4 18.59l7.72-7.72 1.47 1.35L5.41 20z\"/>\n",
              "  </svg>\n",
              "      </button>\n",
              "      \n",
              "  <style>\n",
              "    .colab-df-container {\n",
              "      display:flex;\n",
              "      flex-wrap:wrap;\n",
              "      gap: 12px;\n",
              "    }\n",
              "\n",
              "    .colab-df-convert {\n",
              "      background-color: #E8F0FE;\n",
              "      border: none;\n",
              "      border-radius: 50%;\n",
              "      cursor: pointer;\n",
              "      display: none;\n",
              "      fill: #1967D2;\n",
              "      height: 32px;\n",
              "      padding: 0 0 0 0;\n",
              "      width: 32px;\n",
              "    }\n",
              "\n",
              "    .colab-df-convert:hover {\n",
              "      background-color: #E2EBFA;\n",
              "      box-shadow: 0px 1px 2px rgba(60, 64, 67, 0.3), 0px 1px 3px 1px rgba(60, 64, 67, 0.15);\n",
              "      fill: #174EA6;\n",
              "    }\n",
              "\n",
              "    [theme=dark] .colab-df-convert {\n",
              "      background-color: #3B4455;\n",
              "      fill: #D2E3FC;\n",
              "    }\n",
              "\n",
              "    [theme=dark] .colab-df-convert:hover {\n",
              "      background-color: #434B5C;\n",
              "      box-shadow: 0px 1px 3px 1px rgba(0, 0, 0, 0.15);\n",
              "      filter: drop-shadow(0px 1px 2px rgba(0, 0, 0, 0.3));\n",
              "      fill: #FFFFFF;\n",
              "    }\n",
              "  </style>\n",
              "\n",
              "      <script>\n",
              "        const buttonEl =\n",
              "          document.querySelector('#df-a9e70c7e-fa04-4f79-b034-a5470d4d34cf button.colab-df-convert');\n",
              "        buttonEl.style.display =\n",
              "          google.colab.kernel.accessAllowed ? 'block' : 'none';\n",
              "\n",
              "        async function convertToInteractive(key) {\n",
              "          const element = document.querySelector('#df-a9e70c7e-fa04-4f79-b034-a5470d4d34cf');\n",
              "          const dataTable =\n",
              "            await google.colab.kernel.invokeFunction('convertToInteractive',\n",
              "                                                     [key], {});\n",
              "          if (!dataTable) return;\n",
              "\n",
              "          const docLinkHtml = 'Like what you see? Visit the ' +\n",
              "            '<a target=\"_blank\" href=https://colab.research.google.com/notebooks/data_table.ipynb>data table notebook</a>'\n",
              "            + ' to learn more about interactive tables.';\n",
              "          element.innerHTML = '';\n",
              "          dataTable['output_type'] = 'display_data';\n",
              "          await google.colab.output.renderOutput(dataTable, element);\n",
              "          const docLink = document.createElement('div');\n",
              "          docLink.innerHTML = docLinkHtml;\n",
              "          element.appendChild(docLink);\n",
              "        }\n",
              "      </script>\n",
              "    </div>\n",
              "  </div>\n",
              "  "
            ]
          },
          "metadata": {},
          "execution_count": 30
        }
      ]
    },
    {
      "cell_type": "code",
      "source": [
        "fig = plt.figure(figsize=(8,4),dpi = 100)\n",
        "fig,axis = plt.subplots(figsize = (10,4),dpi = 100)\n",
        "axis.plot(df_all.index,df_all['PM2.5(µg/m3)'],'r-')\n",
        "axis.set_xlabel('Time')\n",
        "axis.set_ylabel('PM2.5(µg/m3)')\n",
        "axis.set_title('PM 2.5 during 2017 to 2021')"
      ],
      "metadata": {
        "colab": {
          "base_uri": "https://localhost:8080/",
          "height": 457
        },
        "outputId": "e5a318a0-c901-41aa-bc58-366445a30eaa",
        "id": "IWKSsyDhaHVu"
      },
      "execution_count": null,
      "outputs": [
        {
          "output_type": "execute_result",
          "data": {
            "text/plain": [
              "Text(0.5, 1.0, 'PM 2.5 during 2017 to 2021')"
            ]
          },
          "metadata": {},
          "execution_count": 31
        },
        {
          "output_type": "display_data",
          "data": {
            "text/plain": [
              "<Figure size 800x400 with 0 Axes>"
            ]
          },
          "metadata": {}
        },
        {
          "output_type": "display_data",
          "data": {
            "text/plain": [
              "<Figure size 1000x400 with 1 Axes>"
            ],
            "image/png": "[encoded data removed]"
          },
          "metadata": {
            "needs_background": "light"
          }
        }
      ]
    },
    {
      "cell_type": "markdown",
      "source": [
        "There is seasonal effect during Jan-Feb"
      ],
      "metadata": {
        "id": "dw_bx1d3aHVv"
      }
    },
    {
      "cell_type": "code",
      "source": [
        "from statsmodels.tsa.seasonal import seasonal_decompose"
      ],
      "metadata": {
        "id": "zWQm_qG-aHVv"
      },
      "execution_count": null,
      "outputs": []
    },
    {
      "cell_type": "code",
      "source": [
        "result = seasonal_decompose(df_all['PM2.5(µg/m3)'])\n",
        "print(result.plot())\n"
      ],
      "metadata": {
        "colab": {
          "base_uri": "https://localhost:8080/",
          "height": 301
        },
        "outputId": "3b89fa85-528d-4e9d-a278-057c41c35108",
        "id": "86H7-KThaHVw"
      },
      "execution_count": null,
      "outputs": [
        {
          "output_type": "stream",
          "name": "stdout",
          "text": [
            "Figure(432x288)\n"
          ]
        },
        {
          "output_type": "display_data",
          "data": {
            "text/plain": [
              "<Figure size 432x288 with 4 Axes>"
            ],
            "image/png": "[encoded data removed]"
          },
          "metadata": {
            "needs_background": "light"
          }
        }
      ]
    },
    {
      "cell_type": "markdown",
      "source": [
        "Data were likely seasonal but not stationary ---> RNN will be used to learn complex pattern"
      ],
      "metadata": {
        "id": "tAETUJd1aHVw"
      }
    },
    {
      "cell_type": "markdown",
      "source": [
        "# Prepare data"
      ],
      "metadata": {
        "id": "xmjpukIBcQPl"
      }
    },
    {
      "cell_type": "code",
      "source": [
        "scaler = MinMaxScaler()\n",
        "#bkk_train = scaler.fit_transform(df_training)\n",
        "df_train_ = scaler.fit_transform(df_train)\n",
        "df_test_ = scaler.fit_transform(df_test)"
      ],
      "metadata": {
        "id": "3g7B6Em6FC3W"
      },
      "execution_count": null,
      "outputs": []
    },
    {
      "cell_type": "code",
      "source": [
        "scaler.inverse_transform(df_train)"
      ],
      "metadata": {
        "colab": {
          "base_uri": "https://localhost:8080/"
        },
        "id": "SnHoT-aRByv3",
        "outputId": "bbb1dbbf-60bf-470c-f4e2-b59078b6fbc7"
      },
      "execution_count": null,
      "outputs": [
        {
          "output_type": "execute_result",
          "data": {
            "text/plain": [
              "array([[  634.,  1392., 93600.,  1692.,  5321.],\n",
              "       [  949.,  1392., 91800.,  1662.,  5388.],\n",
              "       [ 1453.,  1479., 84600.,  1698.,  5053.],\n",
              "       ...,\n",
              "       [  571.,  3219., 91800.,  1944.,  4115.],\n",
              "       [  949.,  3132., 95400.,  1836.,  4651.],\n",
              "       [  319.,  3045., 97200.,  1782.,  4651.]])"
            ]
          },
          "metadata": {},
          "execution_count": 35
        }
      ]
    },
    {
      "cell_type": "code",
      "source": [
        "scale = 1/scaler.scale_\n",
        "scale"
      ],
      "metadata": {
        "colab": {
          "base_uri": "https://localhost:8080/"
        },
        "id": "MYCUnYPSB-fo",
        "outputId": "431f7b7b-06f7-40c5-f93a-a208113d962a"
      },
      "execution_count": null,
      "outputs": [
        {
          "output_type": "execute_result",
          "data": {
            "text/plain": [
              "array([ 63.,  87., 360.,  60.,  67.])"
            ]
          },
          "metadata": {},
          "execution_count": 36
        }
      ]
    },
    {
      "cell_type": "markdown",
      "source": [
        "Create RNN to look 5 previous time steps"
      ],
      "metadata": {
        "id": "L6TAGQorUXmE"
      }
    },
    {
      "cell_type": "code",
      "source": [
        "def prep_to_np(dftrain, dftest):\n",
        "    train_data = dftrain.copy()\n",
        "    test_data = dftest.copy()\n",
        "    \n",
        "    train = []\n",
        "    for i in range(len(train_data)-5): \n",
        "        train.append(train_data[i: i + 5]) \n",
        "    train = np.array(train)\n",
        "\n",
        "    test = []\n",
        "    for i in range(len(test_data) - 5): \n",
        "        test.append(test_data[i: i + 5]) \n",
        "    test = np.array(test)\n",
        "    \n",
        "    x_train = train[:,1]\n",
        "    y_train = train[:,0][:,0]\n",
        "\n",
        "    x_test = test[:,1]  \n",
        "    y_test = test[:,0][:,0]\n",
        "    return [x_train,y_train,x_test,y_test]"
      ],
      "metadata": {
        "id": "wc7rRrJ9l9_h"
      },
      "execution_count": null,
      "outputs": []
    },
    {
      "cell_type": "code",
      "source": [
        "bkk_x_train, bkk_y_train, bkk_x_test, bkk_y_test = prep_to_np(df_train_, df_test_)"
      ],
      "metadata": {
        "id": "_XyMfuCjl569"
      },
      "execution_count": null,
      "outputs": []
    },
    {
      "cell_type": "code",
      "source": [
        "bkk_x_train"
      ],
      "metadata": {
        "colab": {
          "base_uri": "https://localhost:8080/"
        },
        "id": "QRjkekoDpBiO",
        "outputId": "6cdff79d-a619-45fe-b253-b709bd4a43f5"
      },
      "execution_count": null,
      "outputs": [
        {
          "output_type": "execute_result",
          "data": {
            "text/plain": [
              "array([[0.09448819, 0.18823529, 0.70833333, 0.48803828, 0.8358209 ],\n",
              "       [0.15748031, 0.2       , 0.65277778, 0.51674641, 0.76119403],\n",
              "       [0.1496063 , 0.21176471, 0.66666667, 0.66507177, 0.52238806],\n",
              "       ...,\n",
              "       [0.07874016, 0.28235294, 0.70833333, 0.51674641, 0.71641791],\n",
              "       [0.11023622, 0.25882353, 0.70833333, 0.54066986, 0.70149254],\n",
              "       [0.08661417, 0.28235294, 0.69444444, 0.6507177 , 0.55223881]])"
            ]
          },
          "metadata": {},
          "execution_count": 59
        }
      ]
    },
    {
      "cell_type": "code",
      "source": [
        "bkk_y_train"
      ],
      "metadata": {
        "colab": {
          "base_uri": "https://localhost:8080/"
        },
        "id": "i6VeXKnYiSoH",
        "outputId": "28b7a285-2482-498f-82f7-2af09e1a9a1d"
      },
      "execution_count": null,
      "outputs": [
        {
          "output_type": "execute_result",
          "data": {
            "text/plain": [
              "array([0.05511811, 0.09448819, 0.15748031, ..., 0.07874016, 0.07874016,\n",
              "       0.11023622])"
            ]
          },
          "metadata": {},
          "execution_count": 60
        }
      ]
    },
    {
      "cell_type": "markdown",
      "source": [
        "# Build LSTM RNN Model"
      ],
      "metadata": {
        "id": "JLY6tBjGprjM"
      }
    },
    {
      "cell_type": "code",
      "source": [
        "from numpy.random import seed\n",
        "seed(45)\n",
        "tf.random.set_seed(123)"
      ],
      "metadata": {
        "id": "QoWNmR_WyAPD"
      },
      "execution_count": null,
      "outputs": []
    },
    {
      "cell_type": "markdown",
      "source": [
        "input_shape = (prev_step, #features)"
      ],
      "metadata": {
        "id": "1iMQBTsAq03P"
      }
    },
    {
      "cell_type": "code",
      "source": [
        "modelLSTM = Sequential()\n",
        "\n",
        "modelLSTM.add(LSTM(units = 64, activation = 'relu', return_sequences = True, input_shape = (5, 1)))\n",
        "modelLSTM.add(Dropout(0.1))\n",
        "\n",
        "modelLSTM.add(LSTM(units = 64, activation = 'relu', return_sequences = True))\n",
        "modelLSTM.add(Dropout(0.1))\n",
        "\n",
        "modelLSTM.add(LSTM(units = 64, activation = 'relu', return_sequences = True))\n",
        "modelLSTM.add(Dropout(0.1))\n",
        "\n",
        "modelLSTM.add(LSTM(units = 64, activation = 'relu', return_sequences = True))\n",
        "modelLSTM.add(Dropout(0.1))\n",
        "\n",
        "modelLSTM.add(LSTM(units = 32, activation = 'relu'))\n",
        "modelLSTM.add(Dropout(0.1))\n",
        "\n",
        "modelLSTM.add(Dense(units = 1, activation = 'linear'))\n",
        "\n",
        "modelLSTM.compile(loss='mse',optimizer='adam',metrics=['mse'])"
      ],
      "metadata": {
        "id": "Gkv0cmaBxc4d"
      },
      "execution_count": null,
      "outputs": []
    },
    {
      "cell_type": "code",
      "source": [
        "modelLSTM.summary()"
      ],
      "metadata": {
        "colab": {
          "base_uri": "https://localhost:8080/"
        },
        "id": "6xgz0iZoGXfd",
        "outputId": "b9ec7956-a6dc-4ca6-e474-1886531f2308"
      },
      "execution_count": null,
      "outputs": [
        {
          "output_type": "stream",
          "name": "stdout",
          "text": [
            "Model: \"sequential_3\"\n",
            "_________________________________________________________________\n",
            " Layer (type)                Output Shape              Param #   \n",
            "=================================================================\n",
            " lstm_10 (LSTM)              (None, 5, 64)             16896     \n",
            "                                                                 \n",
            " dropout_10 (Dropout)        (None, 5, 64)             0         \n",
            "                                                                 \n",
            " lstm_11 (LSTM)              (None, 5, 64)             33024     \n",
            "                                                                 \n",
            " dropout_11 (Dropout)        (None, 5, 64)             0         \n",
            "                                                                 \n",
            " lstm_12 (LSTM)              (None, 5, 64)             33024     \n",
            "                                                                 \n",
            " dropout_12 (Dropout)        (None, 5, 64)             0         \n",
            "                                                                 \n",
            " lstm_13 (LSTM)              (None, 5, 64)             33024     \n",
            "                                                                 \n",
            " dropout_13 (Dropout)        (None, 5, 64)             0         \n",
            "                                                                 \n",
            " lstm_14 (LSTM)              (None, 32)                12416     \n",
            "                                                                 \n",
            " dropout_14 (Dropout)        (None, 32)                0         \n",
            "                                                                 \n",
            " dense_2 (Dense)             (None, 1)                 33        \n",
            "                                                                 \n",
            "=================================================================\n",
            "Total params: 128,417\n",
            "Trainable params: 128,417\n",
            "Non-trainable params: 0\n",
            "_________________________________________________________________\n"
          ]
        }
      ]
    },
    {
      "cell_type": "markdown",
      "source": [
        "## Create callback"
      ],
      "metadata": {
        "id": "Ju4h_t86HiMj"
      }
    },
    {
      "cell_type": "code",
      "source": [
        "filepath = 'my_best_modelLSTM.hdf5'\n",
        "checkpoint = ModelCheckpoint(filepath=filepath, \n",
        "                             monitor='loss',\n",
        "                             verbose=0, \n",
        "                             save_best_only=True,\n",
        "                             mode='min')\n",
        "earlystopping = EarlyStopping(\n",
        "    monitor='loss', \n",
        "    patience=3, \n",
        "    min_delta=0, \n",
        "    mode='auto')\n",
        "\n",
        "reduce_lr = ReduceLROnPlateau(\n",
        "    monitor='loss', \n",
        "    factor=0.2,   \n",
        "    patience=2, \n",
        "    min_lr=1e-4,\n",
        "    verbose=0)\n",
        "callbacks = [checkpoint,earlystopping,reduce_lr]"
      ],
      "metadata": {
        "id": "9UotfADqHuJw"
      },
      "execution_count": null,
      "outputs": []
    },
    {
      "cell_type": "markdown",
      "source": [
        "## Training model"
      ],
      "metadata": {
        "id": "vgZeK4xfJABV"
      }
    },
    {
      "cell_type": "code",
      "source": [
        "hist = modelLSTM.fit(bkk_x_train, bkk_y_train, epochs=20,callbacks=callbacks)"
      ],
      "metadata": {
        "colab": {
          "base_uri": "https://localhost:8080/"
        },
        "id": "k2Xs6KNJ2ddZ",
        "outputId": "be552fce-4418-4ab8-f8cf-6ddaa68902ea"
      },
      "execution_count": null,
      "outputs": [
        {
          "output_type": "stream",
          "name": "stdout",
          "text": [
            "Epoch 1/20\n",
            "274/274 [==============================] - 8s 13ms/step - loss: 0.0123 - mse: 0.0123 - lr: 0.0010\n",
            "Epoch 2/20\n",
            "274/274 [==============================] - 4s 14ms/step - loss: 0.0053 - mse: 0.0053 - lr: 0.0010\n",
            "Epoch 3/20\n",
            "274/274 [==============================] - 5s 18ms/step - loss: 0.0050 - mse: 0.0050 - lr: 0.0010\n",
            "Epoch 4/20\n",
            "274/274 [==============================] - 4s 16ms/step - loss: 0.0048 - mse: 0.0048 - lr: 0.0010\n",
            "Epoch 5/20\n",
            "274/274 [==============================] - 4s 15ms/step - loss: 0.0048 - mse: 0.0048 - lr: 0.0010\n",
            "Epoch 6/20\n",
            "274/274 [==============================] - 4s 13ms/step - loss: 0.0047 - mse: 0.0047 - lr: 0.0010\n",
            "Epoch 7/20\n",
            "274/274 [==============================] - 3s 12ms/step - loss: 0.0045 - mse: 0.0045 - lr: 2.0000e-04\n",
            "Epoch 8/20\n",
            "274/274 [==============================] - 3s 12ms/step - loss: 0.0045 - mse: 0.0045 - lr: 2.0000e-04\n",
            "Epoch 9/20\n",
            "274/274 [==============================] - 3s 11ms/step - loss: 0.0045 - mse: 0.0045 - lr: 2.0000e-04\n",
            "Epoch 10/20\n",
            "274/274 [==============================] - 3s 12ms/step - loss: 0.0045 - mse: 0.0045 - lr: 1.0000e-04\n",
            "Epoch 11/20\n",
            "274/274 [==============================] - 3s 12ms/step - loss: 0.0045 - mse: 0.0045 - lr: 1.0000e-04\n",
            "Epoch 12/20\n",
            "274/274 [==============================] - 3s 12ms/step - loss: 0.0044 - mse: 0.0044 - lr: 1.0000e-04\n",
            "Epoch 13/20\n",
            "274/274 [==============================] - 3s 11ms/step - loss: 0.0045 - mse: 0.0045 - lr: 1.0000e-04\n",
            "Epoch 14/20\n",
            "274/274 [==============================] - 3s 11ms/step - loss: 0.0044 - mse: 0.0044 - lr: 1.0000e-04\n",
            "Epoch 15/20\n",
            "274/274 [==============================] - 3s 11ms/step - loss: 0.0044 - mse: 0.0044 - lr: 1.0000e-04\n"
          ]
        }
      ]
    },
    {
      "cell_type": "code",
      "source": [
        "hist_dict = hist.history\n",
        "hist_dict.keys()"
      ],
      "metadata": {
        "colab": {
          "base_uri": "https://localhost:8080/"
        },
        "id": "iD23LO_SI3qs",
        "outputId": "49c363f6-e35d-466b-ce72-9fdf914a2dff"
      },
      "execution_count": null,
      "outputs": [
        {
          "output_type": "execute_result",
          "data": {
            "text/plain": [
              "dict_keys(['loss', 'mse', 'lr'])"
            ]
          },
          "metadata": {},
          "execution_count": 72
        }
      ]
    },
    {
      "cell_type": "markdown",
      "source": [
        "## Plot loss graph"
      ],
      "metadata": {
        "id": "l0wTUxZCJxcL"
      }
    },
    {
      "cell_type": "code",
      "source": [
        "loss_values = hist_dict['loss']\n",
        "#val_loss_values = hist_dict['val_loss']\n",
        "epochs = range(1, len(loss_values) + 1)\n",
        "\n",
        "plt.figure(figsize=(15,8))\n",
        "plt.plot(epochs, loss_values, color='red', linewidth=1, markersize=2)\n",
        "#plt.plot(epochs, val_loss_values, color='blue', linewidth=1, markersize=2)\n",
        "plt.title('Model Loss')\n",
        "plt.legend(['Train'], loc='upper right')\n",
        "plt.xlabel('Epochs')\n",
        "plt.ylabel('Loss')"
      ],
      "metadata": {
        "colab": {
          "base_uri": "https://localhost:8080/",
          "height": 545
        },
        "id": "mmlQUTQLJ4Eq",
        "outputId": "2cec5d80-3233-4fed-84a2-bd1b222614a6"
      },
      "execution_count": null,
      "outputs": [
        {
          "output_type": "execute_result",
          "data": {
            "text/plain": [
              "Text(0, 0.5, 'Loss')"
            ]
          },
          "metadata": {},
          "execution_count": 73
        },
        {
          "output_type": "display_data",
          "data": {
            "text/plain": [
              "<Figure size 1080x576 with 1 Axes>"
            ],
            "image/png": "[encoded data removed]"
          },
          "metadata": {
            "needs_background": "light"
          }
        }
      ]
    },
    {
      "cell_type": "code",
      "source": [
        "modelLSTM.save_weights('bkk_pm25_forecast.h5')"
      ],
      "metadata": {
        "id": "o0zY1KsdJ8oI"
      },
      "execution_count": null,
      "outputs": []
    },
    {
      "cell_type": "code",
      "source": [
        "modelLSTM.load_weights('bkk_pm25_forecast.h5')"
      ],
      "metadata": {
        "id": "dWgPxyZGPSDs"
      },
      "execution_count": null,
      "outputs": []
    },
    {
      "cell_type": "markdown",
      "source": [
        "### Model Prediction"
      ],
      "metadata": {
        "id": "x3CLTX_UPfOA"
      }
    },
    {
      "cell_type": "code",
      "source": [
        "bkk_x_test.shape,bkk_y_test.shape"
      ],
      "metadata": {
        "colab": {
          "base_uri": "https://localhost:8080/"
        },
        "id": "92Oz5ttqRFXB",
        "outputId": "981962ef-2f61-409a-f221-2f4345412f7d"
      },
      "execution_count": null,
      "outputs": [
        {
          "output_type": "execute_result",
          "data": {
            "text/plain": [
              "((2923, 5), (2923,))"
            ]
          },
          "metadata": {},
          "execution_count": 76
        }
      ]
    },
    {
      "cell_type": "code",
      "source": [
        "bkk_y_test"
      ],
      "metadata": {
        "colab": {
          "base_uri": "https://localhost:8080/"
        },
        "id": "btsxXgkr7K3A",
        "outputId": "9063930a-2e58-41c7-e415-ba06d37b3d19"
      },
      "execution_count": null,
      "outputs": [
        {
          "output_type": "execute_result",
          "data": {
            "text/plain": [
              "array([0.06349206, 0.06349206, 0.14285714, ..., 0.17460317, 0.17460317,\n",
              "       0.15873016])"
            ]
          },
          "metadata": {},
          "execution_count": 77
        }
      ]
    },
    {
      "cell_type": "code",
      "source": [
        "y_pred = modelLSTM.predict(bkk_x_test)"
      ],
      "metadata": {
        "id": "VFS-3REbUxLb",
        "colab": {
          "base_uri": "https://localhost:8080/"
        },
        "outputId": "fa23be51-a225-4ada-e4cd-a6b3bbbc7b29"
      },
      "execution_count": null,
      "outputs": [
        {
          "output_type": "stream",
          "name": "stdout",
          "text": [
            "92/92 [==============================] - 1s 3ms/step\n"
          ]
        }
      ]
    },
    {
      "cell_type": "code",
      "source": [
        "y_pred"
      ],
      "metadata": {
        "colab": {
          "base_uri": "https://localhost:8080/"
        },
        "id": "qrbzf23xvEFM",
        "outputId": "db3cdcba-3b5d-4666-a0dc-5af7b7ff140f"
      },
      "execution_count": null,
      "outputs": [
        {
          "output_type": "execute_result",
          "data": {
            "text/plain": [
              "array([[0.09597206],\n",
              "       [0.12718216],\n",
              "       [0.10615493],\n",
              "       ...,\n",
              "       [0.17363945],\n",
              "       [0.16419418],\n",
              "       [0.16656148]], dtype=float32)"
            ]
          },
          "metadata": {},
          "execution_count": 79
        }
      ]
    },
    {
      "cell_type": "code",
      "source": [
        "scaler.scale_"
      ],
      "metadata": {
        "colab": {
          "base_uri": "https://localhost:8080/"
        },
        "id": "h2vTasPkBPOW",
        "outputId": "cd1b4aad-4790-4585-faac-558653f02607"
      },
      "execution_count": null,
      "outputs": [
        {
          "output_type": "execute_result",
          "data": {
            "text/plain": [
              "array([0.01587302, 0.01149425, 0.00277778, 0.01666667, 0.01492537])"
            ]
          },
          "metadata": {},
          "execution_count": 80
        }
      ]
    },
    {
      "cell_type": "code",
      "source": [
        "scale = 1/scaler.scale_[0]\n",
        "scale"
      ],
      "metadata": {
        "colab": {
          "base_uri": "https://localhost:8080/"
        },
        "id": "QNoI0vHEUG6s",
        "outputId": "53700ccf-0ebc-451d-ad9a-f505ebe79f71"
      },
      "execution_count": null,
      "outputs": [
        {
          "output_type": "execute_result",
          "data": {
            "text/plain": [
              "63.0"
            ]
          },
          "metadata": {},
          "execution_count": 81
        }
      ]
    },
    {
      "cell_type": "code",
      "source": [
        "bkk_y_test = bkk_y_test*scale"
      ],
      "metadata": {
        "id": "UUb-FyYHEYvz"
      },
      "execution_count": null,
      "outputs": []
    },
    {
      "cell_type": "code",
      "source": [
        "y_pred = y_pred*scale"
      ],
      "metadata": {
        "id": "YiHa7a2aTVVr"
      },
      "execution_count": null,
      "outputs": []
    },
    {
      "cell_type": "code",
      "source": [
        "bkk_y_test"
      ],
      "metadata": {
        "colab": {
          "base_uri": "https://localhost:8080/"
        },
        "id": "uYs7-YlkSns5",
        "outputId": "a880da9c-713b-42bb-e03a-faaf9ce3bc1a"
      },
      "execution_count": null,
      "outputs": [
        {
          "output_type": "execute_result",
          "data": {
            "text/plain": [
              "array([ 4.,  4.,  9., ..., 11., 11., 10.])"
            ]
          },
          "metadata": {},
          "execution_count": 84
        }
      ]
    },
    {
      "cell_type": "code",
      "source": [
        "np.amin(bkk_y_test)"
      ],
      "metadata": {
        "colab": {
          "base_uri": "https://localhost:8080/"
        },
        "id": "q73cWMtGVtmY",
        "outputId": "d4e5d313-3f64-49fd-b297-e12dd902c07e"
      },
      "execution_count": null,
      "outputs": [
        {
          "output_type": "execute_result",
          "data": {
            "text/plain": [
              "0.0"
            ]
          },
          "metadata": {},
          "execution_count": 85
        }
      ]
    },
    {
      "cell_type": "markdown",
      "source": [
        "During inverse transformation, `bkk_y_test` contain the value of zero, which will be error for MAPE evaluator.\n",
        "\n",
        "Thus, reimport test dataset before minmax transformation."
      ],
      "metadata": {
        "id": "NEGKHqTvt0h3"
      }
    },
    {
      "cell_type": "code",
      "source": [
        "test_data = df_test.to_numpy()\n",
        "test = []\n",
        "for i in range(len(test_data) - 5): \n",
        "    test.append(test_data[i: i + 5]) \n",
        "test = np.array(test)\n",
        "y_test = test[:,0][:,0]"
      ],
      "metadata": {
        "id": "VZ8g6wZBYL5S"
      },
      "execution_count": null,
      "outputs": []
    },
    {
      "cell_type": "code",
      "source": [
        "y_test"
      ],
      "metadata": {
        "colab": {
          "base_uri": "https://localhost:8080/"
        },
        "id": "fC6hJBpQaKgS",
        "outputId": "fccc06d2-edc2-4d31-b332-9e57dd810a3f"
      },
      "execution_count": null,
      "outputs": [
        {
          "output_type": "execute_result",
          "data": {
            "text/plain": [
              "array([ 8.,  8., 13., ..., 15., 15., 14.])"
            ]
          },
          "metadata": {},
          "execution_count": 88
        }
      ]
    },
    {
      "cell_type": "code",
      "source": [
        "y_test.shape"
      ],
      "metadata": {
        "colab": {
          "base_uri": "https://localhost:8080/"
        },
        "id": "8bTstEZk3RG8",
        "outputId": "c507a62d-952c-46a3-bc95-6344256bb593"
      },
      "execution_count": null,
      "outputs": [
        {
          "output_type": "execute_result",
          "data": {
            "text/plain": [
              "(2923,)"
            ]
          },
          "metadata": {},
          "execution_count": 89
        }
      ]
    },
    {
      "cell_type": "code",
      "source": [
        "y_pred.shape"
      ],
      "metadata": {
        "colab": {
          "base_uri": "https://localhost:8080/"
        },
        "id": "9vfzlmuV4ZBG",
        "outputId": "dadf86cd-e40d-4da5-938a-9c8384350ad5"
      },
      "execution_count": null,
      "outputs": [
        {
          "output_type": "execute_result",
          "data": {
            "text/plain": [
              "(2923, 1)"
            ]
          },
          "metadata": {},
          "execution_count": 90
        }
      ]
    },
    {
      "cell_type": "markdown",
      "source": [
        "### Model Evaluation"
      ],
      "metadata": {
        "id": "pgXWpoEb6Med"
      }
    },
    {
      "cell_type": "code",
      "source": [
        "import math\n",
        "from sklearn.metrics import mean_squared_error\n",
        "\n",
        "def MAPE(Y_actual,Y_Predicted):\n",
        "    mape = np.mean(np.abs((Y_actual - Y_Predicted)/Y_actual))*100\n",
        "    return mape\n",
        "\n",
        "print( 'MAPE =', MAPE(y_test, y_pred[:,0]) )\n",
        "print( 'RMSE =', math.sqrt(mean_squared_error(y_test, y_pred[:,0])) )"
      ],
      "metadata": {
        "colab": {
          "base_uri": "https://localhost:8080/"
        },
        "id": "WVT05FbMVv5r",
        "outputId": "c32691f5-0f04-4cf4-f916-7754acdb52be"
      },
      "execution_count": null,
      "outputs": [
        {
          "output_type": "stream",
          "name": "stdout",
          "text": [
            "MAPE = 21.882331563605447\n",
            "RMSE = 5.370285472129528\n"
          ]
        }
      ]
    },
    {
      "cell_type": "code",
      "source": [
        "plt.figure(figsize=(14,5))\n",
        "plt.plot(y_test, color = 'red', label = 'Real PM2.5')\n",
        "plt.plot(y_pred, color = 'blue', label = 'Predicted PM2.5')\n",
        "plt.title('Forecasting PM2.5 Using LSTM')\n",
        "plt.xlabel('Time')\n",
        "plt.ylabel('PM2.5')\n",
        "plt.legend()\n",
        "plt.show()"
      ],
      "metadata": {
        "id": "wVNbPjfS9oBH",
        "colab": {
          "base_uri": "https://localhost:8080/",
          "height": 365
        },
        "outputId": "32be2184-9532-4fea-b045-8c0739524650"
      },
      "execution_count": null,
      "outputs": [
        {
          "output_type": "display_data",
          "data": {
            "text/plain": [
              "<Figure size 1008x360 with 1 Axes>"
            ],
            "image/png": "[encoded data removed]"
          },
          "metadata": {
            "needs_background": "light"
          }
        }
      ]
    },
    {
      "cell_type": "markdown",
      "source": [
        "# Build GRU RNN Model"
      ],
      "metadata": {
        "id": "HgLI3fDEMLwl"
      }
    },
    {
      "cell_type": "code",
      "source": [
        "from tensorflow.keras.layers import GRU"
      ],
      "metadata": {
        "id": "LaDgCHayMXJv"
      },
      "execution_count": null,
      "outputs": []
    },
    {
      "cell_type": "code",
      "source": [
        "from numpy.random import seed\n",
        "seed(45)\n",
        "tf.random.set_seed(123)"
      ],
      "metadata": {
        "id": "bfJcPKz8MLwz"
      },
      "execution_count": null,
      "outputs": []
    },
    {
      "cell_type": "code",
      "source": [
        "modelGRU = Sequential()\n",
        "\n",
        "modelGRU.add(GRU(units = 64, activation = 'relu', return_sequences = True, input_shape = (5, 1)))\n",
        "modelGRU.add(Dropout(0.1))\n",
        "\n",
        "modelGRU.add(GRU(units = 64, activation = 'relu', return_sequences = True))\n",
        "modelGRU.add(Dropout(0.1))\n",
        "\n",
        "modelGRU.add(GRU(units = 64, activation = 'relu', return_sequences = True))\n",
        "modelGRU.add(Dropout(0.1))\n",
        "\n",
        "modelGRU.add(GRU(units = 64, activation = 'relu', return_sequences = True))\n",
        "modelGRU.add(Dropout(0.1))\n",
        "\n",
        "modelGRU.add(GRU(units = 32, activation = 'relu'))\n",
        "modelGRU.add(Dropout(0.1))\n",
        "\n",
        "modelGRU.add(Dense(units = 1, activation = 'linear'))\n",
        "\n",
        "modelGRU.compile(loss='mse',optimizer='adam',metrics=['mse'])"
      ],
      "metadata": {
        "id": "wbbXujxyMLwz"
      },
      "execution_count": null,
      "outputs": []
    },
    {
      "cell_type": "code",
      "source": [
        "modelGRU.summary()"
      ],
      "metadata": {
        "colab": {
          "base_uri": "https://localhost:8080/"
        },
        "outputId": "b05bf51c-fef2-4bda-d3d6-4234a89a83dc",
        "id": "Nax4cHjTMLw0"
      },
      "execution_count": null,
      "outputs": [
        {
          "output_type": "stream",
          "name": "stdout",
          "text": [
            "Model: \"sequential_4\"\n",
            "_________________________________________________________________\n",
            " Layer (type)                Output Shape              Param #   \n",
            "=================================================================\n",
            " gru (GRU)                   (None, 5, 64)             12864     \n",
            "                                                                 \n",
            " dropout_15 (Dropout)        (None, 5, 64)             0         \n",
            "                                                                 \n",
            " gru_1 (GRU)                 (None, 5, 64)             24960     \n",
            "                                                                 \n",
            " dropout_16 (Dropout)        (None, 5, 64)             0         \n",
            "                                                                 \n",
            " gru_2 (GRU)                 (None, 5, 64)             24960     \n",
            "                                                                 \n",
            " dropout_17 (Dropout)        (None, 5, 64)             0         \n",
            "                                                                 \n",
            " gru_3 (GRU)                 (None, 5, 64)             24960     \n",
            "                                                                 \n",
            " dropout_18 (Dropout)        (None, 5, 64)             0         \n",
            "                                                                 \n",
            " gru_4 (GRU)                 (None, 32)                9408      \n",
            "                                                                 \n",
            " dropout_19 (Dropout)        (None, 32)                0         \n",
            "                                                                 \n",
            " dense_3 (Dense)             (None, 1)                 33        \n",
            "                                                                 \n",
            "=================================================================\n",
            "Total params: 97,185\n",
            "Trainable params: 97,185\n",
            "Non-trainable params: 0\n",
            "_________________________________________________________________\n"
          ]
        }
      ]
    },
    {
      "cell_type": "markdown",
      "source": [
        "## Create callback"
      ],
      "metadata": {
        "id": "n_yoEPkQMLw0"
      }
    },
    {
      "cell_type": "code",
      "source": [
        "filepath = 'my_best_modelGRU.hdf5'\n",
        "checkpoint = ModelCheckpoint(filepath=filepath, \n",
        "                             monitor='loss',\n",
        "                             verbose=0, \n",
        "                             save_best_only=True,\n",
        "                             mode='min')\n",
        "earlystopping = EarlyStopping(\n",
        "    monitor='loss', \n",
        "    patience=3, \n",
        "    min_delta=0, \n",
        "    mode='auto')\n",
        "\n",
        "reduce_lr = ReduceLROnPlateau(\n",
        "    monitor='loss', \n",
        "    factor=0.2,   \n",
        "    patience=2, \n",
        "    min_lr=1e-4,\n",
        "    verbose=0)\n",
        "callbacks = [checkpoint,earlystopping,reduce_lr]"
      ],
      "metadata": {
        "id": "nu3xGBRWMLw1"
      },
      "execution_count": null,
      "outputs": []
    },
    {
      "cell_type": "markdown",
      "source": [
        "## Training model"
      ],
      "metadata": {
        "id": "RQLBYsPvMLw1"
      }
    },
    {
      "cell_type": "code",
      "source": [
        "hist = modelGRU.fit(bkk_x_train, bkk_y_train, epochs=20,callbacks=callbacks)"
      ],
      "metadata": {
        "colab": {
          "base_uri": "https://localhost:8080/"
        },
        "outputId": "0a06ae62-1b0f-45db-d808-76aab2d89cbc",
        "id": "p2uC_jQrMLw1"
      },
      "execution_count": null,
      "outputs": [
        {
          "output_type": "stream",
          "name": "stdout",
          "text": [
            "Epoch 1/20\n",
            "274/274 [==============================] - 10s 12ms/step - loss: 0.0139 - mse: 0.0139 - lr: 0.0010\n",
            "Epoch 2/20\n",
            "274/274 [==============================] - 4s 14ms/step - loss: 0.0058 - mse: 0.0058 - lr: 0.0010\n",
            "Epoch 3/20\n",
            "274/274 [==============================] - 4s 14ms/step - loss: 0.0051 - mse: 0.0051 - lr: 0.0010\n",
            "Epoch 4/20\n",
            "274/274 [==============================] - 3s 12ms/step - loss: 0.0049 - mse: 0.0049 - lr: 0.0010\n",
            "Epoch 5/20\n",
            "274/274 [==============================] - 3s 12ms/step - loss: 0.0048 - mse: 0.0048 - lr: 0.0010\n",
            "Epoch 6/20\n",
            "274/274 [==============================] - 3s 12ms/step - loss: 0.0048 - mse: 0.0048 - lr: 0.0010\n",
            "Epoch 7/20\n",
            "274/274 [==============================] - 3s 12ms/step - loss: 0.0046 - mse: 0.0046 - lr: 0.0010\n",
            "Epoch 8/20\n",
            "274/274 [==============================] - 3s 11ms/step - loss: 0.0046 - mse: 0.0046 - lr: 0.0010\n",
            "Epoch 9/20\n",
            "274/274 [==============================] - 3s 11ms/step - loss: 0.0046 - mse: 0.0046 - lr: 0.0010\n",
            "Epoch 10/20\n",
            "274/274 [==============================] - 3s 11ms/step - loss: 0.0043 - mse: 0.0043 - lr: 2.0000e-04\n",
            "Epoch 11/20\n",
            "274/274 [==============================] - 3s 11ms/step - loss: 0.0044 - mse: 0.0044 - lr: 2.0000e-04\n",
            "Epoch 12/20\n",
            "274/274 [==============================] - 3s 11ms/step - loss: 0.0043 - mse: 0.0043 - lr: 2.0000e-04\n",
            "Epoch 13/20\n",
            "274/274 [==============================] - 3s 11ms/step - loss: 0.0043 - mse: 0.0043 - lr: 1.0000e-04\n",
            "Epoch 14/20\n",
            "274/274 [==============================] - 3s 12ms/step - loss: 0.0043 - mse: 0.0043 - lr: 1.0000e-04\n",
            "Epoch 15/20\n",
            "274/274 [==============================] - 3s 12ms/step - loss: 0.0043 - mse: 0.0043 - lr: 1.0000e-04\n",
            "Epoch 16/20\n",
            "274/274 [==============================] - 3s 11ms/step - loss: 0.0043 - mse: 0.0043 - lr: 1.0000e-04\n"
          ]
        }
      ]
    },
    {
      "cell_type": "code",
      "source": [
        "hist_dict = hist.history\n",
        "hist_dict.keys()"
      ],
      "metadata": {
        "id": "qEJFEb9HMLw1",
        "colab": {
          "base_uri": "https://localhost:8080/"
        },
        "outputId": "6c0ed8a7-4476-409a-fb48-a24c1cf77037"
      },
      "execution_count": null,
      "outputs": [
        {
          "output_type": "execute_result",
          "data": {
            "text/plain": [
              "dict_keys(['loss', 'mse', 'lr'])"
            ]
          },
          "metadata": {},
          "execution_count": 100
        }
      ]
    },
    {
      "cell_type": "markdown",
      "source": [
        "## Plot loss graph"
      ],
      "metadata": {
        "id": "ci-PQWVuMLw2"
      }
    },
    {
      "cell_type": "code",
      "source": [
        "loss_values = hist_dict['loss']\n",
        "#val_loss_values = hist_dict['val_loss']\n",
        "epochs = range(1, len(loss_values) + 1)\n",
        "\n",
        "plt.figure(figsize=(15,8))\n",
        "plt.plot(epochs, loss_values, color='red', linewidth=1, markersize=2)\n",
        "#plt.plot(epochs, val_loss_values, color='blue', linewidth=1, markersize=2)\n",
        "plt.title('Model Loss')\n",
        "plt.legend(['Train'], loc='upper right')\n",
        "plt.xlabel('Epochs')\n",
        "plt.ylabel('Loss')"
      ],
      "metadata": {
        "id": "rEZhCAkHMLw2",
        "colab": {
          "base_uri": "https://localhost:8080/",
          "height": 545
        },
        "outputId": "f7f6492c-cb82-4978-ccc6-d200772c477f"
      },
      "execution_count": null,
      "outputs": [
        {
          "output_type": "execute_result",
          "data": {
            "text/plain": [
              "Text(0, 0.5, 'Loss')"
            ]
          },
          "metadata": {},
          "execution_count": 101
        },
        {
          "output_type": "display_data",
          "data": {
            "text/plain": [
              "<Figure size 1080x576 with 1 Axes>"
            ],
            "image/png": "[encoded data removed]"
          },
          "metadata": {
            "needs_background": "light"
          }
        }
      ]
    },
    {
      "cell_type": "code",
      "source": [
        "modelGRU.save_weights('bkk_pm25_forecast.h5')"
      ],
      "metadata": {
        "id": "JfYYqe1nMLw3"
      },
      "execution_count": null,
      "outputs": []
    },
    {
      "cell_type": "code",
      "source": [
        "modelGRU.load_weights('bkk_pm25_forecast.h5')"
      ],
      "metadata": {
        "id": "zhh7VlFIMLw3"
      },
      "execution_count": null,
      "outputs": []
    },
    {
      "cell_type": "markdown",
      "source": [
        "### Model Prediction"
      ],
      "metadata": {
        "id": "3JjwnUh2MLw3"
      }
    },
    {
      "cell_type": "code",
      "source": [
        "bkk_x_test.shape,bkk_y_test.shape"
      ],
      "metadata": {
        "id": "2CSJ2lzXMLw3",
        "colab": {
          "base_uri": "https://localhost:8080/"
        },
        "outputId": "0ad6c607-4f93-45cb-8347-3660986a22b2"
      },
      "execution_count": null,
      "outputs": [
        {
          "output_type": "execute_result",
          "data": {
            "text/plain": [
              "((2923, 5), (2923,))"
            ]
          },
          "metadata": {},
          "execution_count": 104
        }
      ]
    },
    {
      "cell_type": "code",
      "source": [
        "bkk_y_test"
      ],
      "metadata": {
        "id": "4NWsqvbEMLw4",
        "colab": {
          "base_uri": "https://localhost:8080/"
        },
        "outputId": "3cb3104f-fb95-45e7-fee8-48b681934468"
      },
      "execution_count": null,
      "outputs": [
        {
          "output_type": "execute_result",
          "data": {
            "text/plain": [
              "array([ 4.,  4.,  9., ..., 11., 11., 10.])"
            ]
          },
          "metadata": {},
          "execution_count": 105
        }
      ]
    },
    {
      "cell_type": "code",
      "source": [
        "y_pred = modelGRU.predict(bkk_x_test)"
      ],
      "metadata": {
        "id": "pfMeolY2MLw4",
        "colab": {
          "base_uri": "https://localhost:8080/"
        },
        "outputId": "f4c2a2d2-8169-4c95-ab43-29559b0a6cf5"
      },
      "execution_count": null,
      "outputs": [
        {
          "output_type": "stream",
          "name": "stdout",
          "text": [
            "92/92 [==============================] - 1s 3ms/step\n"
          ]
        }
      ]
    },
    {
      "cell_type": "code",
      "source": [
        "y_pred"
      ],
      "metadata": {
        "id": "Fg3DttaMMLw4",
        "colab": {
          "base_uri": "https://localhost:8080/"
        },
        "outputId": "3ebe2c3e-5e62-4beb-bdde-8e0dc5ce8f9f"
      },
      "execution_count": null,
      "outputs": [
        {
          "output_type": "execute_result",
          "data": {
            "text/plain": [
              "array([[0.11115614],\n",
              "       [0.13951461],\n",
              "       [0.12284192],\n",
              "       ...,\n",
              "       [0.19255209],\n",
              "       [0.1728699 ],\n",
              "       [0.17624867]], dtype=float32)"
            ]
          },
          "metadata": {},
          "execution_count": 107
        }
      ]
    },
    {
      "cell_type": "code",
      "source": [
        "scaler.scale_"
      ],
      "metadata": {
        "id": "H3-LLL4VMLw5",
        "colab": {
          "base_uri": "https://localhost:8080/"
        },
        "outputId": "a02cbcd4-915e-47ef-c37f-3acb2b0dfdf4"
      },
      "execution_count": null,
      "outputs": [
        {
          "output_type": "execute_result",
          "data": {
            "text/plain": [
              "array([0.01587302, 0.01149425, 0.00277778, 0.01666667, 0.01492537])"
            ]
          },
          "metadata": {},
          "execution_count": 108
        }
      ]
    },
    {
      "cell_type": "code",
      "source": [
        "scale = 1/scaler.scale_[0]\n",
        "scale"
      ],
      "metadata": {
        "id": "dkNYWMEIMLw5",
        "colab": {
          "base_uri": "https://localhost:8080/"
        },
        "outputId": "6716601d-f70d-41f5-aac3-b8e7f275bb05"
      },
      "execution_count": null,
      "outputs": [
        {
          "output_type": "execute_result",
          "data": {
            "text/plain": [
              "63.0"
            ]
          },
          "metadata": {},
          "execution_count": 109
        }
      ]
    },
    {
      "cell_type": "code",
      "source": [
        "y_pred = y_pred*scale"
      ],
      "metadata": {
        "id": "7GaOGV7iMLw5"
      },
      "execution_count": null,
      "outputs": []
    },
    {
      "cell_type": "code",
      "source": [
        "test_data = df_test.to_numpy()\n",
        "test = []\n",
        "for i in range(len(test_data) - 5): \n",
        "    test.append(test_data[i: i + 5]) \n",
        "test = np.array(test)\n",
        "y_test = test[:,0][:,0]\n",
        "y_test"
      ],
      "metadata": {
        "id": "4BxbjQ__bT5n",
        "colab": {
          "base_uri": "https://localhost:8080/"
        },
        "outputId": "26c5990a-46e7-4e94-8520-72dec038a9de"
      },
      "execution_count": null,
      "outputs": [
        {
          "output_type": "execute_result",
          "data": {
            "text/plain": [
              "array([ 8.,  8., 13., ..., 15., 15., 14.])"
            ]
          },
          "metadata": {},
          "execution_count": 111
        }
      ]
    },
    {
      "cell_type": "markdown",
      "source": [
        "### Model Evaluation"
      ],
      "metadata": {
        "id": "4qWlidfnMLw5"
      }
    },
    {
      "cell_type": "code",
      "source": [
        "import math\n",
        "from sklearn.metrics import mean_squared_error\n",
        "\n",
        "def MAPE(Y_actual,Y_Predicted):\n",
        "    mape = np.mean(np.abs((Y_actual - Y_Predicted)/Y_actual))*100\n",
        "    return mape\n",
        "\n",
        "print( 'MAPE =', MAPE(y_test, y_pred) )\n",
        "print( 'RMSE =', math.sqrt(mean_squared_error(y_test, y_pred[:,0])) )"
      ],
      "metadata": {
        "id": "wFjQ-GCjMLw5",
        "colab": {
          "base_uri": "https://localhost:8080/"
        },
        "outputId": "2a097ac0-b55c-4211-b30f-b6b89f321a4f"
      },
      "execution_count": null,
      "outputs": [
        {
          "output_type": "stream",
          "name": "stdout",
          "text": [
            "MAPE = 46.023246881259496\n",
            "RMSE = 4.767561510599376\n"
          ]
        }
      ]
    },
    {
      "cell_type": "code",
      "source": [
        "plt.figure(figsize=(14,5))\n",
        "plt.plot(bkk_y_test, color = 'red', label = 'Real PM2.5')\n",
        "plt.plot(y_pred, color = 'blue', label = 'Predicted PM2.5')\n",
        "plt.title('Forecasting PM2.5 Using GRU')\n",
        "plt.xlabel('Time')\n",
        "plt.ylabel('PM2.5')\n",
        "plt.legend()\n",
        "plt.show()"
      ],
      "metadata": {
        "id": "e5-zSn8UMLw6",
        "colab": {
          "base_uri": "https://localhost:8080/",
          "height": 365
        },
        "outputId": "77b6b38f-9817-4e92-89de-d295c959b7dc"
      },
      "execution_count": null,
      "outputs": [
        {
          "output_type": "display_data",
          "data": {
            "text/plain": [
              "<Figure size 1008x360 with 1 Axes>"
            ],
            "image/png": "[encoded data removed]"
          },
          "metadata": {
            "needs_background": "light"
          }
        }
      ]
    }
  ]
}